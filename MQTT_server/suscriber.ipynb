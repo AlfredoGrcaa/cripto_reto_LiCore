{
 "cells": [
  {
   "cell_type": "code",
   "execution_count": 1,
   "metadata": {},
   "outputs": [],
   "source": [
    "from paho.mqtt import client as mqtt_client\n",
    "import random"
   ]
  },
  {
   "cell_type": "code",
   "execution_count": 2,
   "metadata": {},
   "outputs": [],
   "source": [
    "# Se definen la dirección del broker y el puerto\n",
    "broker = 'broker.emqx.io'\n",
    "port = 1883\n",
    "# Se define el ópico a suscribirse\n",
    "topic = \"python/mqtt/cripto_test\ # genera client ID con pub prefix random\n",
    "# Se genera un client ID unico y se concatena con el predijo\n",
    "client_id = f'python-mqtt-{random.randint(0, 100)}'\n",
    "# username = 'emqx'\n",
    "# password = 'public'\n",
    "\n",
    "\n",
    "## Función que tiene como output una instancia de cliente MQTT \n",
    "def connect_mqtt() -> mqtt_client:\n",
    "## Función que se ejecuta para saber si el cliente MQTT se ha concectado al broker \n",
    "    def on_connect(client, userdata, flags, rc):\n",
    "        if rc == 0:\n",
    "            print(\"Connected to MQTT Broker!\")\n",
    "        else:\n",
    "            print(\"Failed to connect, return code %d\\n\", rc)\n",
    "\n",
    "    client = mqtt_client.Client(client_id)\n",
    "    # client.username_pw_set(username, password)\n",
    "    client.on_connect = on_connect\n",
    "    client.connect(broker, port)\n",
    "    return client\n",
    "\n",
    "\n",
    "## Función que toma una instancia de cleinte MQTT como argumento \n",
    "def subscribe(client: mqtt_client):\n",
    "## Función que se ejecuta cuando se recibe un mensaje en el cliente MQTT \n",
    "## Imrpime el mensaje decodificado y el tópico al que pertenece el mensaje \n",
    "    def on_message(client, userdata, msg):\n",
    "        print(f\"Received `{msg.payload.decode()}` from `{msg.topic}` topic\")\n",
    "\n",
    "    client.subscribe(topic)\n",
    "    client.on_message = on_message\n"
   ]
  },
  {
   "cell_type": "code",
   "execution_count": 4,
   "metadata": {},
   "outputs": [
    {
     "name": "stdout",
     "output_type": "stream",
     "text": [
      "Connected to MQTT Broker!\n",
      "Received `{\"trace_id\": \"1\", \"timestamp\": \"2013-11-02T00:00:00Z\", \"C(0)/P(1)\": \"0\", \"value\": 58.0}` from `python/mqtt/cripto_test` topic\n",
      "Received `{\"trace_id\": \"2\", \"timestamp\": \"2013-11-02T00:15:00Z\", \"C(0)/P(1)\": \"0\", \"value\": 75.0}` from `python/mqtt/cripto_test` topic\n",
      "Received `{\"trace_id\": \"3\", \"timestamp\": \"2013-11-02T00:30:00Z\", \"C(0)/P(1)\": \"0\", \"value\": 65.0}` from `python/mqtt/cripto_test` topic\n",
      "Received `{\"trace_id\": \"4\", \"timestamp\": \"2013-11-02T00:45:00Z\", \"C(0)/P(1)\": \"0\", \"value\": 0.08}` from `python/mqtt/cripto_test` topic\n",
      "Received `{\"trace_id\": \"5\", \"timestamp\": \"2013-11-02T01:00:00Z\", \"C(0)/P(1)\": \"0\", \"value\": 67.0}` from `python/mqtt/cripto_test` topic\n",
      "Received `{\"trace_id\": \"6\", \"timestamp\": \"2013-11-02T01:15:00Z\", \"C(0)/P(1)\": \"0\", \"value\": 69.0}` from `python/mqtt/cripto_test` topic\n",
      "Received `{\"trace_id\": \"7\", \"timestamp\": \"2013-11-02T01:30:00Z\", \"C(0)/P(1)\": \"0\", \"value\": 0.07}` from `python/mqtt/cripto_test` topic\n",
      "Received `{\"trace_id\": \"8\", \"timestamp\": \"2013-11-02T01:45:00Z\", \"C(0)/P(1)\": \"0\", \"value\": 73.0}` from `python/mqtt/cripto_test` topic\n",
      "Received `{\"trace_id\": \"9\", \"timestamp\": \"2013-11-02T02:00:00Z\", \"C(0)/P(1)\": \"0\", \"value\": 68.0}` from `python/mqtt/cripto_test` topic\n",
      "Received `{\"trace_id\": \"10\", \"timestamp\": \"2013-11-02T02:15:00Z\", \"C(0)/P(1)\": \"0\", \"value\": 0.06}` from `python/mqtt/cripto_test` topic\n"
     ]
    }
   ],
   "source": [
    "client = connect_mqtt()\n",
    "subscribe(client)\n",
    "client.loop_forever()"
   ]
  }
 ],
 "metadata": {
  "kernelspec": {
   "display_name": "base",
   "language": "python",
   "name": "python3"
  },
  "language_info": {
   "codemirror_mode": {
    "name": "ipython",
    "version": 3
   },
   "file_extension": ".py",
   "mimetype": "text/x-python",
   "name": "python",
   "nbconvert_exporter": "python",
   "pygments_lexer": "ipython3",
   "version": "3.9.16"
  },
  "orig_nbformat": 4
 },
 "nbformat": 4,
 "nbformat_minor": 2
}
