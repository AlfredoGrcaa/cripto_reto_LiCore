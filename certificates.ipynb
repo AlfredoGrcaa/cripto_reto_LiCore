{
 "cells": [
  {
   "cell_type": "code",
   "execution_count": 10,
   "metadata": {},
   "outputs": [],
   "source": [
    "import OpenSSL\n",
    "from OpenSSL import crypto, SSL\n",
    "\n",
    "# Create a private key for the root CA\n",
    "root_pkey = crypto.PKey()\n",
    "root_pkey.generate_key(crypto.TYPE_RSA, 2048)\n",
    "\n",
    "# Create a self-signed certificate for the root CA\n",
    "root_cert = crypto.X509()\n",
    "root_cert.set_version(3)\n",
    "root_cert.set_serial_number(1)\n",
    "root_cert.get_subject().CN = \"My Root CA\"\n",
    "root_cert.gmtime_adj_notBefore(0)\n",
    "root_cert.gmtime_adj_notAfter(10*365*24*60*60) # 10 years\n",
    "root_cert.set_issuer(root_cert.get_subject())\n",
    "root_cert.set_pubkey(root_pkey)\n",
    "root_cert.add_extensions([\n",
    "    crypto.X509Extension(b\"basicConstraints\", True, b\"CA:TRUE, pathlen:0\"),\n",
    "    crypto.X509Extension(b\"keyUsage\", True, b\"keyCertSign, cRLSign\"),\n",
    "    crypto.X509Extension(b\"subjectKeyIdentifier\", False, b\"hash\", subject=root_cert),\n",
    "])\n",
    "root_cert.sign(root_pkey, \"sha256\")\n",
    "\n",
    "# Create a private key for the intermediate CA\n",
    "int_pkey = crypto.PKey()\n",
    "int_pkey.generate_key(crypto.TYPE_RSA, 2048)\n",
    "\n",
    "# Create a certificate signing request (CSR) for the intermediate CA\n",
    "int_req = crypto.X509Req()\n",
    "int_req.get_subject().CN = \"My Intermediate CA\"\n",
    "int_req.set_pubkey(int_pkey)\n",
    "int_req.sign(int_pkey, \"sha256\")\n",
    "\n",
    "# Create a signed certificate for the intermediate CA, using the root CA's private key\n",
    "int_cert = crypto.X509()\n",
    "int_cert.set_version(3)\n",
    "int_cert.set_serial_number(2)\n",
    "int_cert.gmtime_adj_notBefore(0)\n",
    "int_cert.gmtime_adj_notAfter(10*365*24*60*60) # 10 years\n",
    "int_cert.set_issuer(root_cert.get_subject())\n",
    "int_cert.set_subject(int_req.get_subject())\n",
    "int_cert.set_pubkey(int_req.get_pubkey())\n",
    "int_cert.add_extensions([\n",
    "    crypto.X509Extension(b\"basicConstraints\", True, b\"CA:TRUE, pathlen:1\"),\n",
    "    crypto.X509Extension(b\"keyUsage\", True, b\"keyCertSign, cRLSign\"),\n",
    "    crypto.X509Extension(b\"authorityKeyIdentifier\", False, b\"keyid:always,issuer:always\", issuer=root_cert),\n",
    "])\n",
    "int_cert.sign(root_pkey, \"sha256\")\n",
    "\n",
    "# Write the root CA and intermediate CA certificates to files\n",
    "with open(\"root.crt\", \"wb\") as f:\n",
    "    f.write(crypto.dump_certificate(crypto.FILETYPE_PEM, root_cert))\n",
    "\n",
    "with open(\"int.crt\", \"wb\") as f:\n",
    "    f.write(crypto.dump_certificate(crypto.FILETYPE_PEM, int_cert))\n",
    "\n",
    "# Issue a certificate for a client\n",
    "client_pkey = crypto.PKey()\n",
    "client_pkey.generate_key(crypto.TYPE_RSA, 2048)\n",
    "\n",
    "client_req = crypto.X509Req()\n",
    "client_req.get_subject().CN = \"www.example.com\"\n",
    "client_req.set_pubkey(client_pkey)\n",
    "client_req.sign(client_pkey, \"sha256\")\n",
    "\n",
    "client_cert = crypto.X509()\n",
    "client_cert.set_version(3)\n",
    "client_cert.set_serial_number(3)\n",
    "client_cert.gmtime_adj_notBefore(0)\n",
    "client_cert.gmtime_adj_notAfter(365*24*60*60) # 1 year\n",
    "client_cert.set_issuer(int_cert.get_subject())\n",
    "client_cert.set_subject(client_req.get_subject())\n",
    "client_cert.set_pubkey(client_req.get_pubkey())\n",
    "client_cert.add_extensions([\n",
    "    crypto.X509Extension(b\"basicConstraints\", False, b\"CA:FALSE\"),\n",
    "crypto.X509Extension(b\"keyUsage\", True, b\"digitalSignature, keyEncipherment\"),\n",
    "crypto.X509Extension(b\"extendedKeyUsage\", True, b\"serverAuth, clientAuth\"),\n",
    "crypto.X509Extension(b\"subjectAltName\", False, b\"DNS:www.example.com\"),\n",
    "])\n",
    "client_cert.sign(int_pkey, \"sha256\")\n",
    "\n",
    "with open(\"client.crt\", \"wb\") as f:\n",
    "    f.write(crypto.dump_certificate(crypto.FILETYPE_PEM, client_cert))"
   ]
  },
  {
   "cell_type": "code",
   "execution_count": 12,
   "metadata": {},
   "outputs": [
    {
     "data": {
      "text/plain": [
       "<OpenSSL.crypto.X509 at 0x1dcfda4d3a0>"
      ]
     },
     "execution_count": 12,
     "metadata": {},
     "output_type": "execute_result"
    }
   ],
   "source": [
    "client_cert."
   ]
  },
  {
   "attachments": {},
   "cell_type": "markdown",
   "metadata": {},
   "source": [
    "### Verify the client's certificate"
   ]
  },
  {
   "cell_type": "code",
   "execution_count": 11,
   "metadata": {},
   "outputs": [
    {
     "name": "stdout",
     "output_type": "stream",
     "text": [
      "Client certificate is invalid: [25, 2, 'path length constraint exceeded']\n"
     ]
    }
   ],
   "source": [
    "import OpenSSL\n",
    "from OpenSSL import crypto, SSL\n",
    "\n",
    "# Load the root CA certificate\n",
    "with open(\"root.crt\", \"rb\") as f:\n",
    "    root_cert = crypto.load_certificate(crypto.FILETYPE_PEM, f.read())\n",
    "\n",
    "# Load the intermediate CA certificate\n",
    "with open(\"int.crt\", \"rb\") as f:\n",
    "    int_cert = crypto.load_certificate(crypto.FILETYPE_PEM, f.read())\n",
    "\n",
    "# Load the client certificate to be verified\n",
    "with open(\"client.crt\", \"rb\") as f:\n",
    "    client_cert = crypto.load_certificate(crypto.FILETYPE_PEM, f.read())\n",
    "\n",
    "# Create a certificate store and add the root and intermediate CA certificates to it\n",
    "store = crypto.X509Store()\n",
    "store.add_cert(root_cert)\n",
    "store.add_cert(int_cert)\n",
    "\n",
    "# Create a certificate store context and set the store and client certificate to be verified\n",
    "store_ctx = crypto.X509StoreContext(store, client_cert)\n",
    "\n",
    "# Verify the client certificate\n",
    "try:\n",
    "    store_ctx.verify_certificate()\n",
    "    print(\"Client certificate is valid.\")\n",
    "except Exception as e:\n",
    "    print(\"Client certificate is invalid:\", e)"
   ]
  },
  {
   "cell_type": "code",
   "execution_count": 17,
   "metadata": {},
   "outputs": [
    {
     "ename": "AttributeError",
     "evalue": "'X509StoreContext' object has no attribute 'get_chain'",
     "output_type": "error",
     "traceback": [
      "\u001b[1;31m---------------------------------------------------------------------------\u001b[0m",
      "\u001b[1;31mAttributeError\u001b[0m                            Traceback (most recent call last)",
      "\u001b[1;32mc:\\Users\\Alfre\\Escritorio\\vs_code\\cripto\\certificates.ipynb Cell 5\u001b[0m in \u001b[0;36m2\n\u001b[0;32m      <a href='vscode-notebook-cell:/c%3A/Users/Alfre/Escritorio/vs_code/cripto/certificates.ipynb#X12sZmlsZQ%3D%3D?line=0'>1</a>\u001b[0m \u001b[39m# Get the certificate chain\u001b[39;00m\n\u001b[1;32m----> <a href='vscode-notebook-cell:/c%3A/Users/Alfre/Escritorio/vs_code/cripto/certificates.ipynb#X12sZmlsZQ%3D%3D?line=1'>2</a>\u001b[0m chain \u001b[39m=\u001b[39m store_ctx\u001b[39m.\u001b[39;49mget_chain()\n\u001b[0;32m      <a href='vscode-notebook-cell:/c%3A/Users/Alfre/Escritorio/vs_code/cripto/certificates.ipynb#X12sZmlsZQ%3D%3D?line=3'>4</a>\u001b[0m \u001b[39m# Count the number of intermediate CAs in the chain\u001b[39;00m\n\u001b[0;32m      <a href='vscode-notebook-cell:/c%3A/Users/Alfre/Escritorio/vs_code/cripto/certificates.ipynb#X12sZmlsZQ%3D%3D?line=4'>5</a>\u001b[0m num_intermediates \u001b[39m=\u001b[39m \u001b[39msum\u001b[39m(\u001b[39m1\u001b[39m \u001b[39mfor\u001b[39;00m cert \u001b[39min\u001b[39;00m cert_chain[\u001b[39m1\u001b[39m:\u001b[39m-\u001b[39m\u001b[39m1\u001b[39m] \u001b[39mif\u001b[39;00m \u001b[39m'\u001b[39m\u001b[39mCA\u001b[39m\u001b[39m'\u001b[39m \u001b[39min\u001b[39;00m cert\u001b[39m.\u001b[39mget_extension(\u001b[39m0\u001b[39m)\u001b[39m.\u001b[39mget_data()\u001b[39m.\u001b[39mdecode())\n",
      "\u001b[1;31mAttributeError\u001b[0m: 'X509StoreContext' object has no attribute 'get_chain'"
     ]
    }
   ],
   "source": [
    "# Get the certificate chain\n",
    "chain = store_ctx.get_chain()\n",
    "\n",
    "# Count the number of intermediate CAs in the chain\n",
    "num_intermediates = sum(1 for cert in cert_chain[1:-1] if 'CA' in cert.get_extension(0).get_data().decode())\n",
    "\n",
    "# Check if the chain exceeds the path length constraint\n",
    "if num_intermediates > 1:\n",
    "    print(\"Certificate chain exceeds path length constraint\")"
   ]
  },
  {
   "cell_type": "code",
   "execution_count": 15,
   "metadata": {},
   "outputs": [
    {
     "name": "stdout",
     "output_type": "stream",
     "text": [
      "Client certificate is invalid: [25, 2, 'path length constraint exceeded']\n"
     ]
    }
   ],
   "source": [
    "# Load the root CA certificate\n",
    "with open(\"root.crt\", \"rb\") as f:\n",
    "    root_cert = crypto.load_certificate(crypto.FILETYPE_PEM, f.read())\n",
    "\n",
    "# Load the intermediate CA certificate\n",
    "with open(\"int.crt\", \"rb\") as f:\n",
    "    int_cert = crypto.load_certificate(crypto.FILETYPE_PEM, f.read())\n",
    "\n",
    "# Load the client certificate to be verified\n",
    "with open(\"client.crt\", \"rb\") as f:\n",
    "    client_cert = crypto.load_certificate(crypto.FILETYPE_PEM, f.read())\n",
    "\n",
    "# Create a certificate store and add the root and intermediate CA certificates to it\n",
    "store = crypto.X509Store()\n",
    "store.add_cert(root_cert)\n",
    "store.add_cert(int_cert)\n",
    "\n",
    "# Create a certificate store context and set the store and client certificate to be verified\n",
    "store_ctx = crypto.X509StoreContext(store, client_cert)\n",
    "\n",
    "# Verify the client certificate\n",
    "try:\n",
    "    store_ctx.verify_certificate()\n",
    "    print(\"Client certificate is valid.\")\n",
    "\n",
    "    # Get the chain of certificates used to verify the client certificate\n",
    "    chain = store_ctx.get0_chain()\n",
    "    print(\"Chain of certificates used to verify the client certificate:\")\n",
    "    for cert in chain:\n",
    "        print(cert.get_subject().CN)\n",
    "\n",
    "except Exception as e:\n",
    "    print(\"Client certificate is invalid:\", e)"
   ]
  },
  {
   "cell_type": "code",
   "execution_count": 8,
   "metadata": {},
   "outputs": [
    {
     "ename": "AttributeError",
     "evalue": "'Context' object has no attribute 'load_cert_chain'",
     "output_type": "error",
     "traceback": [
      "\u001b[1;31m---------------------------------------------------------------------------\u001b[0m",
      "\u001b[1;31mAttributeError\u001b[0m                            Traceback (most recent call last)",
      "\u001b[1;32mc:\\Users\\Alfre\\Escritorio\\vs_code\\cripto\\certificates.ipynb Cell 3\u001b[0m in \u001b[0;36m2\n\u001b[0;32m     <a href='vscode-notebook-cell:/c%3A/Users/Alfre/Escritorio/vs_code/cripto/certificates.ipynb#W6sZmlsZQ%3D%3D?line=18'>19</a>\u001b[0m context \u001b[39m=\u001b[39m SSL\u001b[39m.\u001b[39mContext(SSL\u001b[39m.\u001b[39mTLSv1_2_METHOD)\n\u001b[0;32m     <a href='vscode-notebook-cell:/c%3A/Users/Alfre/Escritorio/vs_code/cripto/certificates.ipynb#W6sZmlsZQ%3D%3D?line=19'>20</a>\u001b[0m context\u001b[39m.\u001b[39mload_verify_locations(cafile\u001b[39m=\u001b[39m\u001b[39m\"\u001b[39m\u001b[39mroot.crt\u001b[39m\u001b[39m\"\u001b[39m)\n\u001b[1;32m---> <a href='vscode-notebook-cell:/c%3A/Users/Alfre/Escritorio/vs_code/cripto/certificates.ipynb#W6sZmlsZQ%3D%3D?line=20'>21</a>\u001b[0m context\u001b[39m.\u001b[39;49mload_cert_chain(certfile\u001b[39m=\u001b[39m\u001b[39m\"\u001b[39m\u001b[39mclient.crt\u001b[39m\u001b[39m\"\u001b[39m)\n\u001b[0;32m     <a href='vscode-notebook-cell:/c%3A/Users/Alfre/Escritorio/vs_code/cripto/certificates.ipynb#W6sZmlsZQ%3D%3D?line=22'>23</a>\u001b[0m \u001b[39m# Verify the client certificate\u001b[39;00m\n\u001b[0;32m     <a href='vscode-notebook-cell:/c%3A/Users/Alfre/Escritorio/vs_code/cripto/certificates.ipynb#W6sZmlsZQ%3D%3D?line=23'>24</a>\u001b[0m store_ctx \u001b[39m=\u001b[39m crypto\u001b[39m.\u001b[39mX509StoreContext(store, client_cert)\n",
      "\u001b[1;31mAttributeError\u001b[0m: 'Context' object has no attribute 'load_cert_chain'"
     ]
    }
   ],
   "source": [
    "# Load the root CA certificate\n",
    "with open(\"root.crt\", \"rb\") as f:\n",
    "    root_cert = crypto.load_certificate(crypto.FILETYPE_PEM, f.read())\n",
    "\n",
    "# Load the intermediate CA certificate\n",
    "with open(\"int.crt\", \"rb\") as f:\n",
    "    int_cert = crypto.load_certificate(crypto.FILETYPE_PEM, f.read())\n",
    "\n",
    "# Load the client certificate to be verified\n",
    "with open(\"client.crt\", \"rb\") as f:\n",
    "    client_cert = crypto.load_certificate(crypto.FILETYPE_PEM, f.read())\n",
    "\n",
    "# Create a certificate store and add the root and intermediate CA certificates to it\n",
    "store = crypto.X509Store()\n",
    "store.add_cert(root_cert)\n",
    "store.add_cert(int_cert)\n",
    "\n",
    "# Create a certificate context and set the store and client certificate to be verified\n",
    "context = SSL.Context(SSL.TLSv1_2_METHOD)\n",
    "context.load_verify_locations(cafile=\"root.crt\")\n",
    "context.load_cert_chain(certfile=\"client.crt\")\n",
    "\n",
    "# Verify the client certificate\n",
    "store_ctx = crypto.X509StoreContext(store, client_cert)\n",
    "store_ctx.verify_certificate()\n",
    "\n",
    "# Print the result of the verification\n",
    "print(\"Client certificate is valid.\")"
   ]
  },
  {
   "cell_type": "code",
   "execution_count": 4,
   "metadata": {},
   "outputs": [
    {
     "ename": "NameError",
     "evalue": "name 'conn' is not defined",
     "output_type": "error",
     "traceback": [
      "\u001b[1;31m---------------------------------------------------------------------------\u001b[0m",
      "\u001b[1;31mNameError\u001b[0m                                 Traceback (most recent call last)",
      "\u001b[1;32mc:\\Users\\Alfre\\Escritorio\\vs_code\\cripto\\certificates.ipynb Cell 3\u001b[0m in \u001b[0;36m2\n\u001b[0;32m      <a href='vscode-notebook-cell:/c%3A/Users/Alfre/Escritorio/vs_code/cripto/certificates.ipynb#W5sZmlsZQ%3D%3D?line=0'>1</a>\u001b[0m \u001b[39m# Verify the client's certificate\u001b[39;00m\n\u001b[1;32m----> <a href='vscode-notebook-cell:/c%3A/Users/Alfre/Escritorio/vs_code/cripto/certificates.ipynb#W5sZmlsZQ%3D%3D?line=1'>2</a>\u001b[0m client_cert \u001b[39m=\u001b[39m conn\u001b[39m.\u001b[39mget_peer_certificate()\n\u001b[0;32m      <a href='vscode-notebook-cell:/c%3A/Users/Alfre/Escritorio/vs_code/cripto/certificates.ipynb#W5sZmlsZQ%3D%3D?line=2'>3</a>\u001b[0m \u001b[39mif\u001b[39;00m \u001b[39mnot\u001b[39;00m client_cert:\n\u001b[0;32m      <a href='vscode-notebook-cell:/c%3A/Users/Alfre/Escritorio/vs_code/cripto/certificates.ipynb#W5sZmlsZQ%3D%3D?line=3'>4</a>\u001b[0m     \u001b[39mraise\u001b[39;00m \u001b[39mException\u001b[39;00m(\u001b[39m\"\u001b[39m\u001b[39mNo certificate presented by the client\u001b[39m\u001b[39m\"\u001b[39m)\n",
      "\u001b[1;31mNameError\u001b[0m: name 'conn' is not defined"
     ]
    }
   ],
   "source": [
    "# Verify the client's certificate\n",
    "client_cert = conn.get_peer_certificate()\n",
    "if not client_cert:\n",
    "    raise Exception(\"No certificate presented by the client\")\n",
    "\n",
    "# Verify the certificate's signature\n",
    "try:\n",
    "    crypto.X509StoreContext(store, client_cert).verify_certificate()\n",
    "except crypto.X509StoreContextError as e:\n",
    "    raise Exception(\"Invalid certificate: {}\".format(e))\n",
    "\n",
    "# Verify the certificate's common name\n",
    "common_name = client_cert.get_subject().CN\n",
    "if common_name != \"www.example.com\":\n",
    "    raise Exception(\"Invalid common name: {}\".format(common_name))\n",
    "\n",
    "print(\"Successfully verified client's certificate!\")"
   ]
  },
  {
   "cell_type": "code",
   "execution_count": 5,
   "metadata": {},
   "outputs": [
    {
     "ename": "AttributeError",
     "evalue": "'Context' object has no attribute 'set_cert_store'",
     "output_type": "error",
     "traceback": [
      "\u001b[1;31m---------------------------------------------------------------------------\u001b[0m",
      "\u001b[1;31mAttributeError\u001b[0m                            Traceback (most recent call last)",
      "\u001b[1;32mc:\\Users\\Alfre\\Escritorio\\vs_code\\cripto\\certificates.ipynb Cell 4\u001b[0m in \u001b[0;36m7\n\u001b[0;32m      <a href='vscode-notebook-cell:/c%3A/Users/Alfre/Escritorio/vs_code/cripto/certificates.ipynb#W4sZmlsZQ%3D%3D?line=4'>5</a>\u001b[0m ctx\u001b[39m.\u001b[39mset_verify(SSL\u001b[39m.\u001b[39mVERIFY_PEER, \u001b[39mlambda\u001b[39;00m conn, cert, errno, depth, ok: ok)\n\u001b[0;32m      <a href='vscode-notebook-cell:/c%3A/Users/Alfre/Escritorio/vs_code/cripto/certificates.ipynb#W4sZmlsZQ%3D%3D?line=5'>6</a>\u001b[0m ctx\u001b[39m.\u001b[39mload_verify_locations(\u001b[39m\"\u001b[39m\u001b[39mint.crt\u001b[39m\u001b[39m\"\u001b[39m, \u001b[39m\"\u001b[39m\u001b[39mroot.crt\u001b[39m\u001b[39m\"\u001b[39m)\n\u001b[1;32m----> <a href='vscode-notebook-cell:/c%3A/Users/Alfre/Escritorio/vs_code/cripto/certificates.ipynb#W4sZmlsZQ%3D%3D?line=6'>7</a>\u001b[0m ctx\u001b[39m.\u001b[39;49mset_cert_store(store)\n\u001b[0;32m      <a href='vscode-notebook-cell:/c%3A/Users/Alfre/Escritorio/vs_code/cripto/certificates.ipynb#W4sZmlsZQ%3D%3D?line=7'>8</a>\u001b[0m conn \u001b[39m=\u001b[39m SSL\u001b[39m.\u001b[39mConnection(ctx)\n\u001b[0;32m      <a href='vscode-notebook-cell:/c%3A/Users/Alfre/Escritorio/vs_code/cripto/certificates.ipynb#W4sZmlsZQ%3D%3D?line=8'>9</a>\u001b[0m conn\u001b[39m.\u001b[39mset_connect_state()\n",
      "\u001b[1;31mAttributeError\u001b[0m: 'Context' object has no attribute 'set_cert_store'"
     ]
    }
   ],
   "source": [
    "store = crypto.X509Store()\n",
    "store.add_cert(int_cert)\n",
    "store.add_cert(root_cert)\n",
    "ctx = SSL.Context(SSL.TLSv1_2_METHOD)\n",
    "ctx.set_verify(SSL.VERIFY_PEER, lambda conn, cert, errno, depth, ok: ok)\n",
    "ctx.load_verify_locations(\"int.crt\", \"root.crt\")\n",
    "ctx.set_cert_store(store)\n",
    "conn = SSL.Connection(ctx)\n",
    "conn.set_connect_state()\n",
    "conn.set_tlsext_host_name(\"www.example.com\".encode(\"utf-8\"))\n",
    "conn.set_cert_chain_file(\"client.crt\")\n",
    "conn.set_private_key_file(\"client.key\")\n",
    "conn.set_verify(SSL.VERIFY_PEER, lambda conn, cert, errno, depth, ok: ok)\n",
    "conn.connect((\"www.example.com\", 443))\n",
    "conn.do_handshake()\n",
    "print(\"Successfully verified certificate!\")"
   ]
  }
 ],
 "metadata": {
  "kernelspec": {
   "display_name": "base",
   "language": "python",
   "name": "python3"
  },
  "language_info": {
   "codemirror_mode": {
    "name": "ipython",
    "version": 3
   },
   "file_extension": ".py",
   "mimetype": "text/x-python",
   "name": "python",
   "nbconvert_exporter": "python",
   "pygments_lexer": "ipython3",
   "version": "3.9.16"
  },
  "orig_nbformat": 4
 },
 "nbformat": 4,
 "nbformat_minor": 2
}
