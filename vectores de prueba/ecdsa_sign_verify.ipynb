{
 "cells": [
  {
   "cell_type": "code",
   "execution_count": 6,
   "metadata": {},
   "outputs": [],
   "source": [
    "import hashlib"
   ]
  },
  {
   "attachments": {},
   "cell_type": "markdown",
   "metadata": {},
   "source": [
    "### test"
   ]
  },
  {
   "cell_type": "code",
   "execution_count": 24,
   "metadata": {},
   "outputs": [],
   "source": [
    "Pcurve = 2**256 - 2**32 - 2**9 - 2**8 - 2**7 - 2**6 - 2**4 - 1"
   ]
  },
  {
   "cell_type": "code",
   "execution_count": 55,
   "metadata": {},
   "outputs": [
    {
     "data": {
      "text/plain": [
       "115792089210356248762697446949407573530086143415290314195533631308867097853951"
      ]
     },
     "execution_count": 55,
     "metadata": {},
     "output_type": "execute_result"
    }
   ],
   "source": [
    "#convert ehxa to decimal\n",
    "def hex_to_decimal(hex_str):\n",
    "    return int(hex_str, 16)\n",
    "\n",
    "hex_to_decimal(\"ffffffff00000001000000000000000000000000ffffffffffffffffffffffff\")"
   ]
  },
  {
   "cell_type": "code",
   "execution_count": 56,
   "metadata": {},
   "outputs": [
    {
     "data": {
      "text/plain": [
       "115792089237316195423570985008687907853269984665640564039457584007908834671663"
      ]
     },
     "execution_count": 56,
     "metadata": {},
     "output_type": "execute_result"
    }
   ],
   "source": [
    "Pcurve"
   ]
  },
  {
   "cell_type": "code",
   "execution_count": 70,
   "metadata": {},
   "outputs": [
    {
     "name": "stdout",
     "output_type": "stream",
     "text": [
      "******* Public Key Generation *********\n",
      "Private key (hex): 0xa6e3c57dd01abe90086538398355dd4c3b17aa873382b0f24d6129493d8aad60\n",
      "Uncompressed public key (hex): 0460fed4ba255a9d31c961eb74c6356d68c049b8923b61fa6ce669622e60f29fb67903fe1008b8bc99a41ae9e95628bc64f2f1b20c2d7e9f5177a3c294d4462299\n",
      "\n",
      "******* Signature Generation *********\n",
      "r (hex): 0xefd48b2aacb6a8fd1140dd9cd45e81d69d2c877b56aaf991c34d0ea84eaf3716\n",
      "s (hex): 0xf7cb1c942d657c41d436c7a1b6e29f65f3e900dbb9aff4064dc4ab2f843acda8\n",
      "\n",
      "******* Signature Verification *********\n",
      "Valid signature: True\n",
      "\n",
      "******* Public keys *********\n",
      "xPublicKey: 0x60fed4ba255a9d31c961eb74c6356d68c049b8923b61fa6ce669622e60f29fb6\n",
      "yPublicKey: 0x7903fe1008b8bc99a41ae9e95628bc64f2f1b20c2d7e9f5177a3c294d4462299\n"
     ]
    }
   ],
   "source": [
    "import hashlib\n",
    "from hmac import HMAC\n",
    "from hashlib import sha256\n",
    "\n",
    "Pcurve = 0xffffffff00000001000000000000000000000000ffffffffffffffffffffffff  # The proven prime\n",
    "N = 0xffffffff00000000ffffffffffffffffbce6faada7179e84f3b9cac2fc632551 # Number of points in the field\n",
    "Acurve = 0xffffffff00000001000000000000000000000000fffffffffffffffffffffffc\n",
    "Bcurve = 0x5ac635d8aa3a93e7b3ebbd55769886bc651d06b0cc53b0f63bce3c3e27d2604b  # This defines the curve. y^2 = x^3 + Acurve * x + Bcurve\n",
    "Gx = 0x6b17d1f2e12c4247f8bce6e563a440f277037d812deb33a0f4a13945d898c296\n",
    "Gy = 0x4fe342e2fe1a7f9b8ee7eb4a7c0f9e162bce33576b315ececbb6406837bf51f5\n",
    "GPoint = (Gx, Gy)  # This is our generator point. Tillions of dif ones possible\n",
    "\n",
    "# Individual Transaction/Personal Information\n",
    "privKey = 0xC9AFA9D845BA75166B5C215767B1D6934E50C3DB36E89B127B8A622B120F6721  # replace with any private key\n",
    "#RandNum = 28695618543805844332113829720373285210420739438570883203839696518176414791234  # replace with a truly random number\n",
    "message = 'sample'\n",
    "HashOfThingToSign = int(hashlib.sha256(message.encode()).hexdigest(), 16)\n",
    "\n",
    "\n",
    "\n",
    "def modinv(a, n=Pcurve):  # Extended Euclidean Algorithm/'division' in elliptic curves\n",
    "    lm, hm = 1, 0\n",
    "    low, high = a % n, n\n",
    "    while low > 1:\n",
    "        ratio = high // low  # Use integer division operator for Python 3.x\n",
    "        nm, new = hm - lm * ratio, high - low * ratio\n",
    "        lm, low, hm, high = nm, new, lm, low\n",
    "    return lm % n\n",
    "\n",
    "\n",
    "def ECadd(xp, yp, xq, yq):  # Not true addition, invented for EC. It adds Point-P with Point-Q.\n",
    "    m = ((yq - yp) * modinv(xq - xp, Pcurve)) % Pcurve\n",
    "    xr = (m * m - xp - xq) % Pcurve\n",
    "    yr = (m * (xp - xr) - yp) % Pcurve\n",
    "    return (xr, yr)\n",
    "\n",
    "\n",
    "def ECdouble(xp, yp):  # EC point doubling, invented for EC. It doubles Point-P.\n",
    "    LamNumer = 3 * xp * xp + Acurve\n",
    "    LamDenom = 2 * yp\n",
    "    Lam = (LamNumer * modinv(LamDenom, Pcurve)) % Pcurve\n",
    "    xr = (Lam * Lam - 2 * xp) % Pcurve\n",
    "    yr = (Lam * (xp - xr) - yp) % Pcurve\n",
    "    return (xr, yr)\n",
    "\n",
    "\n",
    "def EccMultiply(xs, ys, Scalar):  # Double & add. EC Multiplication, Not true multiplication\n",
    "    if Scalar == 0 or Scalar >= N:\n",
    "        raise Exception(\"Invalid Scalar/Private Key\")\n",
    "    ScalarBin = str(bin(Scalar))[2:]\n",
    "    Qx, Qy = xs, ys\n",
    "    for i in range(1, len(ScalarBin)):  # This is invented EC multiplication.\n",
    "        Qx, Qy = ECdouble(Qx, Qy)\n",
    "        if ScalarBin[i] == \"1\":\n",
    "            Qx, Qy = ECadd(Qx, Qy, xs, ys)\n",
    "    return (Qx, Qy)\n",
    "\n",
    "def deterministic_generate_k(msghash, privkey):\n",
    "    # Step 1: Prepare the key and message\n",
    "    V = b'\\x01' * 32\n",
    "    K = b'\\x00' * 32\n",
    "    privkey = privkey.to_bytes(32, 'big')\n",
    "    msghash = msghash.to_bytes(32, 'big')\n",
    "\n",
    "    # Step 2: Generate the K value\n",
    "    K = HMAC(K, V + b'\\x00' + privkey + msghash, sha256).digest()\n",
    "    V = HMAC(K, V, sha256).digest()\n",
    "    K = HMAC(K, V + b'\\x01' + privkey + msghash, sha256).digest()\n",
    "    V = HMAC(K, V, sha256).digest()\n",
    "\n",
    "    # Step 3: Convert the K value to an integer\n",
    "    while True:\n",
    "        t = b''\n",
    "        while len(t) < 32:\n",
    "            V = HMAC(K, V, sha256).digest()\n",
    "            t += V\n",
    "        k = int.from_bytes(t[:32], 'big')\n",
    "        if k >= 1 and k < N:\n",
    "            return k\n",
    "\n",
    "# ...\n",
    "\n",
    "def ECDSA_sign(message, privKey):\n",
    "    # Step 1: Generate the deterministic k value\n",
    "    HashOfThingToSign = int(hashlib.sha256(message.encode()).hexdigest(), 16)\n",
    "    k = deterministic_generate_k(HashOfThingToSign, privKey)\n",
    "\n",
    "    # Step 2: Compute the public key\n",
    "    xPublicKey, yPublicKey = EccMultiply(Gx, Gy, privKey)\n",
    "\n",
    "    # Step 3: Compute r\n",
    "    xRandSignPoint, yRandSignPoint = EccMultiply(Gx, Gy, k)\n",
    "    r = xRandSignPoint % N\n",
    "\n",
    "    # Step 4: Compute s\n",
    "    s = ((HashOfThingToSign + r * privKey) * (modinv(k, N))) % N\n",
    "\n",
    "    return r, s\n",
    "\n",
    "def ECDSA_verify(message, r, s, xPublicKey, yPublicKey):\n",
    "    # Step 1: Compute the deterministic k value\n",
    "    HashOfThingToSign = int(hashlib.sha256(message.encode()).hexdigest(), 16)\n",
    "    k = deterministic_generate_k(HashOfThingToSign, xPublicKey)\n",
    "\n",
    "    # Step 2: Compute w\n",
    "    w = modinv(s, N)\n",
    "\n",
    "    # Step 3: Compute u1 and u2\n",
    "    xu1, yu1 = EccMultiply(Gx, Gy, (HashOfThingToSign * w) % N)\n",
    "    xu2, yu2 = EccMultiply(xPublicKey, yPublicKey, (r * w) % N)\n",
    "\n",
    "    # Step 4: Compute the verification point (x, y)\n",
    "    x, y = ECadd(xu1, yu1, xu2, yu2)\n",
    "\n",
    "    # Step 5: Check if r equals x\n",
    "    return r == x\n",
    "\n",
    "\n",
    "# Step 1: Generate the deterministic k value\n",
    "k = deterministic_generate_k(HashOfThingToSign, privKey)\n",
    "\n",
    "# Step 2: Compute the public key\n",
    "xPublicKey, yPublicKey = EccMultiply(Gx, Gy, privKey)\n",
    "\n",
    "# Step 3: Compute r\n",
    "xRandSignPoint, yRandSignPoint = EccMultiply(Gx, Gy, k)\n",
    "r = xRandSignPoint % N\n",
    "\n",
    "# Step 4: Compute s\n",
    "s = ((HashOfThingToSign + r * privKey) * (modinv(k, N))) % N\n",
    "\n",
    "# ...\n",
    "\n",
    "print(\"******* Public Key Generation *********\")\n",
    "xPublicKey, yPublicKey = EccMultiply(Gx, Gy, privKey)\n",
    "print(\"Private key (hex):\", hex(k))\n",
    "print(\"Uncompressed public key (hex):\", \"04\" + format(xPublicKey, '064x') + format(yPublicKey, '064x'))\n",
    "\n",
    "print(\"\\n******* Signature Generation *********\")\n",
    "r, s = ECDSA_sign(message, privKey)\n",
    "print(\"r (hex):\", hex(r))\n",
    "print(\"s (hex):\", hex(s))\n",
    "\n",
    "print(\"\\n******* Signature Verification *********\")\n",
    "valid_signature = ECDSA_verify(message, r, s, xPublicKey, yPublicKey)\n",
    "print(\"Valid signature:\", valid_signature)\n",
    "\n",
    "print(\"\\n******* Public keys *********\")\n",
    "print(\"xPublicKey:\", hex(xPublicKey))\n",
    "print(\"yPublicKey:\", hex(yPublicKey))"
   ]
  },
  {
   "cell_type": "code",
   "execution_count": 63,
   "metadata": {},
   "outputs": [
    {
     "name": "stdout",
     "output_type": "stream",
     "text": [
      "True\n"
     ]
    }
   ],
   "source": [
    "r1 = 'efd48b2aacb6a8fd1140dd9cd45e81d69d2c877b56aaf991c34d0ea84eaf3716'\n",
    "r2 = 'EFD48B2AACB6A8FD1140DD9CD45E81D69D2C877B56AAF991C34D0EA84EAF3716'\n",
    "\n",
    "print(r1.lower() == r2.lower())"
   ]
  },
  {
   "cell_type": "code",
   "execution_count": 66,
   "metadata": {},
   "outputs": [
    {
     "name": "stdout",
     "output_type": "stream",
     "text": [
      "True\n"
     ]
    }
   ],
   "source": [
    "s1 = 'f7cb1c942d657c41d436c7a1b6e29f65f3e900dbb9aff4064dc4ab2f843acda8'\n",
    "s2 = 'F7CB1C942D657C41D436C7A1B6E29F65F3E900DBB9AFF4064DC4AB2F843ACDA8'\n",
    "\n",
    "print(s1.lower() == s2.lower())"
   ]
  },
  {
   "cell_type": "code",
   "execution_count": 68,
   "metadata": {},
   "outputs": [
    {
     "name": "stdout",
     "output_type": "stream",
     "text": [
      "True\n"
     ]
    }
   ],
   "source": [
    "k1 = 'a6e3c57dd01abe90086538398355dd4c3b17aa873382b0f24d6129493d8aad60'\n",
    "k2 = 'A6E3C57DD01ABE90086538398355DD4C3B17AA873382B0F24D6129493D8AAD60'\n",
    "\n",
    "print(k1.lower() == k2.lower())"
   ]
  },
  {
   "attachments": {},
   "cell_type": "markdown",
   "metadata": {},
   "source": [
    "- With SHA-256, message = \"sample\":\n",
    "- k = A6E3C57DD01ABE90086538398355DD4C3B17AA873382B0F24D6129493D8AAD60\n",
    "- r = EFD48B2AACB6A8FD1140DD9CD45E81D69D2C877B56AAF991C34D0EA84EAF3716\n",
    "- s = F7CB1C942D657C41D436C7A1B6E29F65F3E900DBB9AFF4064DC4AB2F843ACDA8"
   ]
  },
  {
   "attachments": {},
   "cell_type": "markdown",
   "metadata": {},
   "source": [
    "## etc..."
   ]
  },
  {
   "cell_type": "code",
   "execution_count": 17,
   "metadata": {},
   "outputs": [],
   "source": [
    "message = \"\"\"{\"trace_id\": \"10\", \"timestamp\": \"2013-11-02T02:15:00Z\", \"C(0)/P(1)\": \"0\", \"value\": 0.06}\"\"\"\n"
   ]
  },
  {
   "cell_type": "code",
   "execution_count": 18,
   "metadata": {},
   "outputs": [
    {
     "data": {
      "text/plain": [
       "49461256774148754317813947867449981477932251401967141759450982441322678275816"
      ]
     },
     "execution_count": 18,
     "metadata": {},
     "output_type": "execute_result"
    }
   ],
   "source": [
    "int(hashlib.sha256(message.encode()).hexdigest(), 16)"
   ]
  },
  {
   "cell_type": "code",
   "execution_count": 19,
   "metadata": {},
   "outputs": [
    {
     "data": {
      "text/plain": [
       "b'{\"trace_id\": \"10\", \"timestamp\": \"2013-11-02T02:15:00Z\", \"C(0)/P(1)\": \"0\", \"value\": 0.06}'"
      ]
     },
     "execution_count": 19,
     "metadata": {},
     "output_type": "execute_result"
    }
   ],
   "source": [
    "message.encode()"
   ]
  },
  {
   "cell_type": "code",
   "execution_count": 22,
   "metadata": {},
   "outputs": [
    {
     "data": {
      "text/plain": [
       "'6d5a144a7959aac9e3602aff8c7c2ab14298c8344366efd70e3b7d0f120f4ee8'"
      ]
     },
     "execution_count": 22,
     "metadata": {},
     "output_type": "execute_result"
    }
   ],
   "source": [
    "hashlib.sha256(message.encode()).hexdigest()"
   ]
  },
  {
   "cell_type": "code",
   "execution_count": 23,
   "metadata": {},
   "outputs": [
    {
     "data": {
      "text/plain": [
       "49461256774148754317813947867449981477932251401967141759450982441322678275816"
      ]
     },
     "execution_count": 23,
     "metadata": {},
     "output_type": "execute_result"
    }
   ],
   "source": [
    "int(hashlib.sha256(message.encode()).hexdigest(), 16)"
   ]
  },
  {
   "attachments": {},
   "cell_type": "markdown",
   "metadata": {},
   "source": [
    "### implementation test"
   ]
  },
  {
   "cell_type": "code",
   "execution_count": 52,
   "metadata": {},
   "outputs": [
    {
     "name": "stdout",
     "output_type": "stream",
     "text": [
      "\n",
      "******* Public Key Generation *********\n",
      "the private key (in base 10 format):\n",
      "75263518707598184987916378021939673586055614731957507592904438851787542395619\n",
      "\n",
      "the uncompressed public key (starts with '04' & is not the public address):\n",
      "04 86123958339353589454334613954037009250298301442165544159467110006827437489844 24886167583395101331704142008829378675881745768490090403994652035580982362733\n",
      "\n",
      "******* Signature Generation *********\n",
      "r = 108450790312736419148091503336190989867379581793003243037811027177541631669413\n",
      "s = 10733996259657884841413429023141444606165984322107338968372818586196368897459\n",
      "\n",
      "******* Signature Verification *********\n",
      "True\n"
     ]
    }
   ],
   "source": [
    "# Python 3.x - Super simple Elliptic Curve Presentation. No imported libraries, wrappers, nothing. # For educational purposes only\n",
    "# Below are the public specs for Bitcoin's curve - the secp256k1\n",
    "Pcurve = 2**256 - 2**32 - 2**9 - 2**8 - 2**7 - 2**6 - 2**4 - 1  # The proven prime\n",
    "N = 0xFFFFFFFFFFFFFFFFFFFFFFFFFFFFFFFEBAAEDCE6AF48A03BBFD25E8CD0364141  # Number of points in the field\n",
    "Acurve = 0\n",
    "Bcurve = 7  # This defines the curve. y^2 = x^3 + Acurve * x + Bcurve\n",
    "Gx = 55066263022277343669578718895168534326250603453777594175500187360389116729240\n",
    "Gy = 32670510020758816978083085130507043184471273380659243275938904335757337482424\n",
    "GPoint = (Gx, Gy)  # This is our generator point. Tillions of dif ones possible\n",
    "\n",
    "# Individual Transaction/Personal Information\n",
    "privKey = 75263518707598184987916378021939673586055614731957507592904438851787542395619  # replace with any private key\n",
    "RandNum = 28695618543805844332113829720373285210420739438570883203839696518176414791234  # replace with a truly random number\n",
    "message = \"sample\"\n",
    "HashOfThingToSign = int(hashlib.sha256(message.encode()).hexdigest(), 16)\n",
    "\n",
    "\n",
    "\n",
    "def modinv(a, n=Pcurve):  # Extended Euclidean Algorithm/'division' in elliptic curves\n",
    "    lm, hm = 1, 0\n",
    "    low, high = a % n, n\n",
    "    while low > 1:\n",
    "        ratio = high // low  # Use integer division operator for Python 3.x\n",
    "        nm, new = hm - lm * ratio, high - low * ratio\n",
    "        lm, low, hm, high = nm, new, lm, low\n",
    "    return lm % n\n",
    "\n",
    "\n",
    "def ECadd(xp, yp, xq, yq):  # Not true addition, invented for EC. It adds Point-P with Point-Q.\n",
    "    m = ((yq - yp) * modinv(xq - xp, Pcurve)) % Pcurve\n",
    "    xr = (m * m - xp - xq) % Pcurve\n",
    "    yr = (m * (xp - xr) - yp) % Pcurve\n",
    "    return (xr, yr)\n",
    "\n",
    "\n",
    "def ECdouble(xp, yp):  # EC point doubling, invented for EC. It doubles Point-P.\n",
    "    LamNumer = 3 * xp * xp + Acurve\n",
    "    LamDenom = 2 * yp\n",
    "    Lam = (LamNumer * modinv(LamDenom, Pcurve)) % Pcurve\n",
    "    xr = (Lam * Lam - 2 * xp) % Pcurve\n",
    "    yr = (Lam * (xp - xr) - yp) % Pcurve\n",
    "    return (xr, yr)\n",
    "\n",
    "\n",
    "def EccMultiply(xs, ys, Scalar):  # Double & add. EC Multiplication, Not true multiplication\n",
    "    if Scalar == 0 or Scalar >= N:\n",
    "        raise Exception(\"Invalid Scalar/Private Key\")\n",
    "    ScalarBin = str(bin(Scalar))[2:]\n",
    "    Qx, Qy = xs, ys\n",
    "    for i in range(1, len(ScalarBin)):  # This is invented EC multiplication.\n",
    "        Qx, Qy = ECdouble(Qx, Qy)\n",
    "        if ScalarBin[i] == \"1\":\n",
    "            Qx, Qy = ECadd(Qx, Qy, xs, ys)\n",
    "    return (Qx, Qy)\n",
    "\n",
    "\n",
    "print(\"\\n******* Public Key Generation *********\")\n",
    "xPublicKey, yPublicKey = EccMultiply(Gx, Gy, privKey)\n",
    "print(\"the private key (in base 10 format):\")\n",
    "print(privKey)\n",
    "print(\"\\nthe uncompressed public key (starts with '04' & is not the public address):\")\n",
    "print(\"04\", xPublicKey, yPublicKey)\n",
    "\n",
    "print(\"\\n******* Signature Generation *********\")\n",
    "xRandSignPoint, yRandSignPoint = EccMultiply(Gx, Gy, RandNum)\n",
    "r = xRandSignPoint % N\n",
    "print(\"r =\", r)\n",
    "s = ((HashOfThingToSign + r * privKey) * (modinv(RandNum, N))) % N\n",
    "print(\"s =\", s)\n",
    "\n",
    "print(\"\\n******* Signature Verification *********\")\n",
    "w = modinv(s, N)\n",
    "xu1, yu1 = EccMultiply(Gx, Gy, (HashOfThingToSign * w) % N)\n",
    "xu2, yu2 = EccMultiply(xPublicKey, yPublicKey, (r * w) % N)\n",
    "x, y = ECadd(xu1, yu1, xu2, yu2)\n",
    "print(r == x)\n"
   ]
  }
 ],
 "metadata": {
  "kernelspec": {
   "display_name": "base",
   "language": "python",
   "name": "python3"
  },
  "language_info": {
   "codemirror_mode": {
    "name": "ipython",
    "version": 3
   },
   "file_extension": ".py",
   "mimetype": "text/x-python",
   "name": "python",
   "nbconvert_exporter": "python",
   "pygments_lexer": "ipython3",
   "version": "3.9.16"
  },
  "orig_nbformat": 4
 },
 "nbformat": 4,
 "nbformat_minor": 2
}
