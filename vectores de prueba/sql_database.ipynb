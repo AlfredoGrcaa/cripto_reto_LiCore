{
 "cells": [
  {
   "cell_type": "code",
   "execution_count": 5,
   "metadata": {},
   "outputs": [],
   "source": [
    "import mysql.connector\n",
    "import pandas as pd"
   ]
  },
  {
   "cell_type": "code",
   "execution_count": 12,
   "metadata": {},
   "outputs": [],
   "source": [
    "df = pd.read_csv('decrypted_data_valid_traces.csv')"
   ]
  },
  {
   "cell_type": "code",
   "execution_count": 13,
   "metadata": {},
   "outputs": [
    {
     "name": "stdout",
     "output_type": "stream",
     "text": [
      "1 record(s) inserted.\n"
     ]
    }
   ],
   "source": [
    "mydb = mysql.connector.connect(\n",
    "    host=\"localhost\",\n",
    "    user = \"root\",\n",
    "    database = \"cripto_test\"\n",
    ")\n",
    "\n",
    "mycursor = mydb.cursor()\n",
    "\n",
    "# Iterate over the rows of the DataFrame\n",
    "for index, row in df.iterrows():\n",
    "    # Extract values from the current row\n",
    "    trace_id = row['trace_id']\n",
    "    timestamp = row['timestamp']\n",
    "    c_or_p = row['C(0)/P(1)']\n",
    "    value = row['value']\n",
    "\n",
    "    # Execute the SQL insert statement for the current row\n",
    "    sql = \"INSERT INTO base_datos_cc (trace_id, timestamp, `c_or_p`, value) VALUES (%s, %s, %s, %s)\"\n",
    "    val = (trace_id, timestamp, c_or_p, value)\n",
    "    mycursor.execute(sql, val)\n",
    "\n",
    "# Commit the changes to the database\n",
    "mydb.commit()\n",
    "\n",
    "print(mycursor.rowcount, \"record(s) inserted.\")"
   ]
  }
 ],
 "metadata": {
  "kernelspec": {
   "display_name": "base",
   "language": "python",
   "name": "python3"
  },
  "language_info": {
   "codemirror_mode": {
    "name": "ipython",
    "version": 3
   },
   "file_extension": ".py",
   "mimetype": "text/x-python",
   "name": "python",
   "nbconvert_exporter": "python",
   "pygments_lexer": "ipython3",
   "version": "3.9.16"
  },
  "orig_nbformat": 4
 },
 "nbformat": 4,
 "nbformat_minor": 2
}
