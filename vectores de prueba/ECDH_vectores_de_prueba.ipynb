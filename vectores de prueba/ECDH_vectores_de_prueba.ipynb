{
 "cells": [
  {
   "attachments": {},
   "cell_type": "markdown",
   "metadata": {},
   "source": [
    "### Share secrets with ECDH"
   ]
  },
  {
   "cell_type": "code",
   "execution_count": 1,
   "metadata": {},
   "outputs": [],
   "source": [
    "import hashlib\n",
    "import random \n",
    "\n",
    "Pcurve = 0xffffffff00000001000000000000000000000000ffffffffffffffffffffffff  # The proven prime\n",
    "N = 0xffffffff00000000ffffffffffffffffbce6faada7179e84f3b9cac2fc632551  # Number of points in the field\n",
    "Acurve = 0xffffffff00000001000000000000000000000000fffffffffffffffffffffffc\n",
    "Bcurve = 0x5ac635d8aa3a93e7b3ebbd55769886bc651d06b0cc53b0f63bce3c3e27d2604b  # This defines the curve. y^2 = x^3 + Acurve * x + Bcurve\n",
    "Gx = 0x6b17d1f2e12c4247f8bce6e563a440f277037d812deb33a0f4a13945d898c296\n",
    "Gy = 0x4fe342e2fe1a7f9b8ee7eb4a7c0f9e162bce33576b315ececbb6406837bf51f5\n",
    "GPoint = (Gx, Gy)  # This is our generator point. Trillions of different ones possible\n",
    "\n",
    "def modinv(a, n=Pcurve):  # Extended Euclidean Algorithm/'division' in elliptic curves\n",
    "    lm, hm = 1, 0\n",
    "    low, high = a % n, n\n",
    "    while low > 1:\n",
    "        ratio = high // low  # Use integer division operator for Python 3.x\n",
    "        nm, new = hm - lm * ratio, high - low * ratio\n",
    "        lm, low, hm, high = nm, new, lm, low\n",
    "    return lm % n\n",
    "\n",
    "def ECadd(xp, yp, xq, yq):  # Not true addition, invented for EC. It adds Point-P with Point-Q.\n",
    "    m = ((yq - yp) * modinv(xq - xp, Pcurve)) % Pcurve\n",
    "    xr = (m * m - xp - xq) % Pcurve\n",
    "    yr = (m * (xp - xr) - yp) % Pcurve\n",
    "    return (xr, yr)\n",
    "\n",
    "def ECdouble(xp, yp):  # EC point doubling, invented for EC. It doubles Point-P.\n",
    "    LamNumer = 3 * xp * xp + Acurve\n",
    "    LamDenom = 2 * yp\n",
    "    Lam = (LamNumer * modinv(LamDenom, Pcurve)) % Pcurve\n",
    "    xr = (Lam * Lam - 2 * xp) % Pcurve\n",
    "    yr = (Lam * (xp - xr) - yp) % Pcurve\n",
    "    return (xr, yr)\n",
    "\n",
    "def EccMultiply(xs, ys, Scalar):  # Double & add. EC Multiplication, Not true multiplication\n",
    "    if Scalar == 0 or Scalar >= N:\n",
    "        raise Exception(\"Invalid Scalar/Private Key\")\n",
    "    ScalarBin = str(bin(Scalar))[2:]\n",
    "    Qx, Qy = xs, ys\n",
    "    for i in range(1, len(ScalarBin)):  # This is invented EC multiplication.\n",
    "        Qx, Qy = ECdouble(Qx, Qy)\n",
    "        if ScalarBin[i] == \"1\":\n",
    "            Qx, Qy = ECadd(Qx, Qy, xs, ys)\n",
    "    return (Qx, Qy)\n"
   ]
  },
  {
   "cell_type": "code",
   "execution_count": 2,
   "metadata": {},
   "outputs": [],
   "source": [
    "# Generate private and public keys for Party A\n",
    "privKeyA = random.randint(1, N-1)\n",
    "xPublicKeyA, yPublicKeyA = EccMultiply(Gx, Gy, privKeyA % N)\n",
    "\n",
    "# Generate private and public keys for Party B\n",
    "privKeyB = random.randint(1, N-1)\n",
    "xPublicKeyB, yPublicKeyB = EccMultiply(Gx, Gy, privKeyB % N)\n",
    "\n",
    "# Compute the shared secret for Party A\n",
    "sharedSecretA = EccMultiply(xPublicKeyB, yPublicKeyB, privKeyA)\n",
    "sharedSecretAx, sharedSecretAy = sharedSecretA\n",
    "\n",
    "# Compute the shared secret for Party B\n",
    "sharedSecretB = EccMultiply(xPublicKeyA, yPublicKeyA, privKeyB)\n",
    "sharedSecretBx, sharedSecretBy = sharedSecretB\n",
    "\n",
    "shared_secret = hashlib.sha256(hex(sharedSecretAx)[2:].encode()).digest()"
   ]
  },
  {
   "cell_type": "code",
   "execution_count": 15,
   "metadata": {},
   "outputs": [
    {
     "data": {
      "text/plain": [
       "'0x788086096da9e2f75ea0b93dca147c0dc4ade62831f77b38cad6d993a5759b47'"
      ]
     },
     "execution_count": 15,
     "metadata": {},
     "output_type": "execute_result"
    }
   ],
   "source": [
    "hex(sharedSecretBx)"
   ]
  },
  {
   "cell_type": "code",
   "execution_count": 3,
   "metadata": {},
   "outputs": [
    {
     "data": {
      "text/plain": [
       "(54504623342482516819070788745766537454710275242106424694645068021476514700103,\n",
       " 82100628913547009872984417877281507710432614046070068336902694963182840008436)"
      ]
     },
     "execution_count": 3,
     "metadata": {},
     "output_type": "execute_result"
    }
   ],
   "source": [
    "sharedSecretA"
   ]
  },
  {
   "cell_type": "code",
   "execution_count": 4,
   "metadata": {},
   "outputs": [
    {
     "data": {
      "text/plain": [
       "(54504623342482516819070788745766537454710275242106424694645068021476514700103,\n",
       " 82100628913547009872984417877281507710432614046070068336902694963182840008436)"
      ]
     },
     "execution_count": 4,
     "metadata": {},
     "output_type": "execute_result"
    }
   ],
   "source": [
    "sharedSecretB"
   ]
  },
  {
   "cell_type": "code",
   "execution_count": 5,
   "metadata": {},
   "outputs": [],
   "source": [
    "# Ensure that the shared secrets computed by both parties match\n",
    "assert sharedSecretAx == sharedSecretBx and sharedSecretAy == sharedSecretBy #this halts the code if the condition is not met"
   ]
  },
  {
   "cell_type": "code",
   "execution_count": 6,
   "metadata": {},
   "outputs": [
    {
     "name": "stdout",
     "output_type": "stream",
     "text": [
      "Party A:\n",
      "Private key (hex): 0x675cc409ca37a996d1a152b4886e676b2ee29dcb5d5635fe89353b4a637bc11a\n",
      "Public key (x, y): 0xa64faf5d1f77cf95e6fd99f45a1a563d978eda88635ca24c1fc9ec8118d2b775 0x243658188c47867bf31d5ff1dbdec17e822345a2307482d908467c6242b845e3\n",
      "\n",
      "Party B:\n",
      "Private key (hex): 0xde98d75d7664af7131049907e14199e8a55af6a0d274710ea33464c96e408e6a\n",
      "Public key (x, y): 0x1de3a8b54ee4c5cb11152aa78e06e8880f096f9e2f4e39353b4aae9c3ee85662 0x92dd4afdbac0315bdec856ef3cf5735d4ae5312f2f7d86f69e44bcf8f5e5f388\n",
      "\n",
      "Shared Secret A (x, y): 0x788086096da9e2f75ea0b93dca147c0dc4ade62831f77b38cad6d993a5759b47 0xb5834f296a12430b32f88b8c1d6d07e15a129316184c11a42998e9e2dd7f4ef4\n",
      "\n",
      "Shared Secret B (x, y): 0x788086096da9e2f75ea0b93dca147c0dc4ade62831f77b38cad6d993a5759b47 0xb5834f296a12430b32f88b8c1d6d07e15a129316184c11a42998e9e2dd7f4ef4\n",
      "\n",
      "Shared secret:  123465d27ebf3d3546a66ca0671dddf640f0cc5ccb6807b8f55e91f949c82986\n"
     ]
    }
   ],
   "source": [
    "print(\"Party A:\")\n",
    "print(\"Private key (hex):\", hex(privKeyA))\n",
    "print(\"Public key (x, y):\", hex(xPublicKeyA), hex(yPublicKeyA))\n",
    "print(\"\\nParty B:\")\n",
    "print(\"Private key (hex):\", hex(privKeyB))\n",
    "print(\"Public key (x, y):\", hex(xPublicKeyB), hex(yPublicKeyB))\n",
    "print(\"\\nShared Secret A (x, y):\", hex(sharedSecretAx), hex(sharedSecretAy))\n",
    "print(\"\\nShared Secret B (x, y):\", hex(sharedSecretBx), hex(sharedSecretBy))\n",
    "\n",
    "print(\"\\nShared secret: \", shared_secret.hex())"
   ]
  },
  {
   "attachments": {},
   "cell_type": "markdown",
   "metadata": {},
   "source": [
    "### Encrypt with shared secret - Publisher"
   ]
  },
  {
   "cell_type": "code",
   "execution_count": 7,
   "metadata": {},
   "outputs": [],
   "source": [
    "from cryptography.hazmat.primitives.ciphers import Cipher, algorithms, modes\n",
    "from cryptography.hazmat.primitives import padding\n",
    "import os\n",
    "\n",
    "# Generate a unique IV for each trace\n",
    "def generate_iv():\n",
    "    iv_length = 16  # IV length in bytes (recommended 16 bytes for AES)\n",
    "    iv = os.urandom(iv_length)\n",
    "    return iv\n",
    "\n",
    "# Encrypt data using AES-CBC with a unique IV for each trace\n",
    "def encrypt_data(key, iv, data):\n",
    "    cipher = Cipher(algorithms.AES(key), modes.CBC(iv))\n",
    "    encryptor = cipher.encryptor()\n",
    "\n",
    "    # Pad the data\n",
    "    padder = padding.PKCS7(128).padder()\n",
    "    padded_data = padder.update(data) + padder.finalize()\n",
    "\n",
    "    # Encrypt the padded data\n",
    "    ciphertext = encryptor.update(padded_data) + encryptor.finalize()\n",
    "    return ciphertext\n",
    "\n",
    "# Example usage\n",
    "key = bytes.fromhex('05bb88dde58728d36ef20a116decd35cdbda24a4c2798050074d76c23fc47a73')\n",
    "\n",
    "# Original traces\n",
    "traces = [\n",
    "    b'\"trace_id\": \"011\", \"timestamp\": \"2013-11-02T00:00:00Z\", \"C(0)/P(1)\": \"0\", \"value\": 58.0',\n",
    "    b'\"trace_id\": \"012\", \"timestamp\": \"2013-11-02T00:15:00Z\", \"C(0)/P(1)\": \"0\", \"value\": 75.0',\n",
    "    b'\"trace_id\": \"013\", \"timestamp\": \"2013-11-02T00:30:00Z\", \"C(0)/P(1)\": \"0\", \"value\": 65.0',\n",
    "    b'\"trace_id\": \"014\", \"timestamp\": \"2013-11-02T00:45:00Z\", \"C(0)/P(1)\": \"0\", \"value\": 0.08',\n",
    "    b'\"trace_id\": \"015\", \"timestamp\": \"2013-11-02T01:00:00Z\", \"C(0)/P(1)\": \"0\", \"value\": 67.0',\n",
    "    b'\"trace_id\": \"016\", \"timestamp\": \"2013-11-02T01:15:00Z\", \"C(0)/P(1)\": \"0\", \"value\": 69.0',\n",
    "    b'\"trace_id\": \"017\", \"timestamp\": \"2013-11-02T01:30:00Z\", \"C(0)/P(1)\": \"0\", \"value\": 0.07',\n",
    "    b'\"trace_id\": \"018\", \"timestamp\": \"2013-11-02T01:45:00Z\", \"C(0)/P(1)\": \"0\", \"value\": 73.0',\n",
    "    b'\"trace_id\": \"019\", \"timestamp\": \"2013-11-02T02:00:00Z\", \"C(0)/P(1)\": \"0\", \"value\": 68.0',\n",
    "    b'\"trace_id\": \"0110\", \"timestamp\": \"2013-11-02T02:15:00Z\", \"C(0)/P(1)\": \"0\", \"value\": 0.06'\n",
    "]\n",
    "\n",
    "# Encrypt and store each trace individually\n",
    "encrypted_traces = []\n",
    "for trace in traces:\n",
    "    iv = generate_iv()\n",
    "    ciphertext = encrypt_data(key, iv, trace)\n",
    "    encrypted_trace = {\n",
    "        'encrypted_data': ciphertext.decode('latin-1'),\n",
    "        'iv': iv.decode('latin-1')\n",
    "    }\n",
    "    encrypted_traces.append(encrypted_trace)\n",
    "\n"
   ]
  },
  {
   "cell_type": "code",
   "execution_count": 8,
   "metadata": {},
   "outputs": [
    {
     "data": {
      "text/plain": [
       "[{'encrypted_data': '\\x9dæ\\x15@©¯µû\\x9d¼Åë\\x92\\x00;C½ñ\\x08ÁõÉ\\x82NBJé\\x08Ñ©\\x8e\\x1dyÝVn\\x9b$s´ådfõ\\x9eÄ~\\x05¨\\x9b\\x19±p/ÞÚ×®\\r°\\x0cÛÜ !BmùµÄW`&½\\x95Ö\\x1eb-ÁþïOÖ±Ì\\x9dÀS;ë\\x89ÝX!Ñ',\n",
       "  'iv': '5\\xad<Òp\\x8al1ÛBS;hòyç'},\n",
       " {'encrypted_data': 'qäv\\tðj\\x06ó¼ñ´\\x963\\x93éõ³}ØÈ´\\x94Ì\\x8a\\x8a\\x112½vÅ&VÌBªô½ßP]·§ë.6´\\x01bF0gà\\x13c\\x7fÁ¥°\\x08\\x7frË¤ú\\x1c0§\\x16\\x13¡$BÂz\\xadcû5²3k*n;GHWsì!R\\x95ÓYù\\x00',\n",
       "  'iv': \"\\x91ëºB\\x82«¨¢Ê\\x1c'V¹Õ^ò\"},\n",
       " {'encrypted_data': '\\x01Ù\\x02Å\\tò`\\x83ñì½¢;Ú\\x81\\x93uh57{\\x9c¼Dù8Él\\x84\\x13iâ\\x00\\x14ÂØa\\x80\\x9c-\\x1dê±G(¹\\xadO}\\x8a\\x8fê\\x98æjxÈ\\x02Z]ÎÙ¥ÛR\\x14j)DauÌh\\x8d°\\x9dåÅ\\x16\\xa0\\x82JßqRåÐ-}\\x90Î\\x93\\x95\\x87ó×',\n",
       "  'iv': 'ºJv©Àdóåû!\\x14\\x93Æô~/'},\n",
       " {'encrypted_data': '¹X\\x82e \\x00\\x97P\\x92\\x87n\\x9aÎ\\x85\\x03\\x17\\x11Ä\\x08V\\x14Äfh`ªü©*Û&\\x05ø\\x81ü¯\\x19ÁN{#\\x7fò\\xad\\tð\\x84$¬7\\x17\\x88\\\\É\\x0f/5)þ\\x14ßÍ\\x05\\x96Uç¡pô\\x9fx#\\x1c\\x12¦¤Õe{ôì¨úQV}b\\x0eø\\x83î9+È\\x9cL',\n",
       "  'iv': '\\x02ÿ\\x03=T-e!\\x1f\\x99\\x0eÉ\\x95\\x1eMb'},\n",
       " {'encrypted_data': 'ããÂ}ÿL_®=\\x19\\x0fÉ«pLñù=\\x93Î\\x85&Dèn½UÂ\\\\\\x06¬g\\x0b{ó¢I¼¬~¼¡_-\\x86ÁK\\x8b|\\x83\\x08sç^VUë®²g®\\x9cô³f+mi^Ö\\x84õÏ\\x9fn\"èCYÙ\\x01\\x8fJ\\x1a\\x80ÅÍw¹\\x92ñ\\x7f¯\\x16:¤',\n",
       "  'iv': 'ýñÓ\\x05\\râäÄ+÷Ù\\x92±ë¶%'},\n",
       " {'encrypted_data': 'X\\x1fL\\x7f\\x027¼*!äJ\\x1f\\x04C8u\\t^\\x9cõÇrHt\\x99?<hæÌé\\x18Då\\x85ºñ8\\n*\\x16\\x06i7:\\x87´\\x9eà\\x14ä\\x1e7ËÆ\\xa0@\\x840\\x8e\\x9aO|û|\\x01Ê\\x00W\\x057Uë¨\\x03\\x98ÿ\\x11÷\\rØÀ\\x04\\x8a\\x9aæ÷\\x17`|ýþå\\x89\\x14P',\n",
       "  'iv': '\\\\Ü¦ËdlÚ¿ú\\x8fÝ\\x97u\\x1fZH'},\n",
       " {'encrypted_data': '\\x88&rýp\\x06:?pÓ¹«te¬BvóÖR\\x03Ô\\x03\\x8f¼þ¥d\\x8b\\x81\\x12Ò.\\x08að5-\\x80ö}`¼\\x88Qú{bÓ\\x91\\x10 \\x8dÈ.\\x96bâ\\x1dR:tF²[.8¥ùv\\x1cä[3\\x9eõV«-t¡G\\x14U>ÿ\\x01\\x05§\\x9côæ{XÃ\\x0c',\n",
       "  'iv': 'Ööß\\x95d¾£\\x9e<°\\x89nÃk$5'},\n",
       " {'encrypted_data': '´^Ít\\x8d>êpÿãsÄv\\x9do\\x7f\\x95\\x87\\x8céOÚÁù\\x89\\nº\\x82\\x81+áÆ¿ðãb·\\x1c\\x01ýH\\x98x\\x89,\\x87N\\x8f¾àó±\\x1f\\x96_®\\x03æýïL\\x7f\\x12ÍHpyX;PTGÓ\\x86VúDÓ®çRpùæPòtõ\\x93r892}îÔ',\n",
       "  'iv': '{\\x1d\\x02³\\x9cAÝÂ\\x1aýÓÚ&\\x01ïà'},\n",
       " {'encrypted_data': 'Ïwnr\\x14BgR9\\x9c°U½Zh\\x16Ü\\x95Ë\\x82,£\\x8e)Ò_\\x84¥úÛ@ª¹÷*2\\x81Hõ<}\\x10\\x05¿J0ñ\\x80ÿ·Î\\x13£Ö·É¯Ê, \\x00\\x89\\x17\\x9fÁ\\x16¤åj\\x08Û\\x01eüÛÛe\\x90=í_!±ßKOÓìAÝx£\\x0fö=\\x11',\n",
       "  'iv': '\\x1f\\x83ÖÔH<h»\\x97%2\\x90}\\x8e·P'},\n",
       " {'encrypted_data': 'Scº9%\\x11â$\\x81Ø×à(\\x0cjEk\\x97;¤C\\x0e.PÐï\\x85¿/ê?ð\"R v§1\\x9cjÎ±ü³ür\\x01\\x1b(\\x14Òh·\\x08v\\'ç\\x9c²ÑmÄ»æ¥2ß\\x1f¢mëáQ\\x95U°!H\\x80\\x9abv\\x867i\\xad0¡bt\\x1fÛ×ó~4',\n",
       "  'iv': 'Þ\\x9cfÎ\\x8d\\x00ó\\x91\\x1c?Áf«<ßÄ'}]"
      ]
     },
     "execution_count": 8,
     "metadata": {},
     "output_type": "execute_result"
    }
   ],
   "source": [
    "encrypted_traces"
   ]
  },
  {
   "attachments": {},
   "cell_type": "markdown",
   "metadata": {},
   "source": [
    "### Decrypt - Subscriber"
   ]
  },
  {
   "cell_type": "code",
   "execution_count": 9,
   "metadata": {},
   "outputs": [],
   "source": [
    "from cryptography.hazmat.primitives.ciphers import Cipher, algorithms, modes\n",
    "from cryptography.hazmat.primitives import padding\n",
    "\n",
    "# Decrypt the encrypted data using AES-CBC\n",
    "def decrypt_data(key, iv, ciphertext):\n",
    "    cipher = Cipher(algorithms.AES(key), modes.CBC(iv))\n",
    "    decryptor = cipher.decryptor()\n",
    "\n",
    "    # Decrypt the ciphertext\n",
    "    decrypted_data = decryptor.update(ciphertext) + decryptor.finalize()\n",
    "\n",
    "    # Unpad the decrypted data\n",
    "    unpadder = padding.PKCS7(128).unpadder()\n",
    "    unpadded_data = unpadder.update(decrypted_data) + unpadder.finalize()\n",
    "    return unpadded_data"
   ]
  },
  {
   "cell_type": "code",
   "execution_count": 10,
   "metadata": {},
   "outputs": [
    {
     "name": "stdout",
     "output_type": "stream",
     "text": [
      "Decrypted Data: \"trace_id\": \"011\", \"timestamp\": \"2013-11-02T00:00:00Z\", \"C(0)/P(1)\": \"0\", \"value\": 58.0\n",
      "Decrypted Data: \"trace_id\": \"012\", \"timestamp\": \"2013-11-02T00:15:00Z\", \"C(0)/P(1)\": \"0\", \"value\": 75.0\n",
      "Decrypted Data: \"trace_id\": \"013\", \"timestamp\": \"2013-11-02T00:30:00Z\", \"C(0)/P(1)\": \"0\", \"value\": 65.0\n",
      "Decrypted Data: \"trace_id\": \"014\", \"timestamp\": \"2013-11-02T00:45:00Z\", \"C(0)/P(1)\": \"0\", \"value\": 0.08\n",
      "Decrypted Data: \"trace_id\": \"015\", \"timestamp\": \"2013-11-02T01:00:00Z\", \"C(0)/P(1)\": \"0\", \"value\": 67.0\n",
      "Decrypted Data: \"trace_id\": \"016\", \"timestamp\": \"2013-11-02T01:15:00Z\", \"C(0)/P(1)\": \"0\", \"value\": 69.0\n",
      "Decrypted Data: \"trace_id\": \"017\", \"timestamp\": \"2013-11-02T01:30:00Z\", \"C(0)/P(1)\": \"0\", \"value\": 0.07\n",
      "Decrypted Data: \"trace_id\": \"018\", \"timestamp\": \"2013-11-02T01:45:00Z\", \"C(0)/P(1)\": \"0\", \"value\": 73.0\n",
      "Decrypted Data: \"trace_id\": \"019\", \"timestamp\": \"2013-11-02T02:00:00Z\", \"C(0)/P(1)\": \"0\", \"value\": 68.0\n",
      "Decrypted Data: \"trace_id\": \"0110\", \"timestamp\": \"2013-11-02T02:15:00Z\", \"C(0)/P(1)\": \"0\", \"value\": 0.06\n"
     ]
    }
   ],
   "source": [
    "key = bytes.fromhex('05bb88dde58728d36ef20a116decd35cdbda24a4c2798050074d76c23fc47a73') #llave compartida previamente por el canal seguro\n",
    "\n",
    "decrypted_data_valid_traces = []\n",
    "# Decrypt and print each trace\n",
    "for encrypted_trace in encrypted_traces:\n",
    "    ciphertext = encrypted_trace['encrypted_data'].encode('latin-1')\n",
    "    iv = encrypted_trace['iv'].encode('latin-1')\n",
    "    decrypted_data = decrypt_data(key, iv, ciphertext)\n",
    "    decrypted_data_valid_traces.append(decrypted_data.decode('latin-1'))\n",
    "    print(\"Decrypted Data:\", decrypted_data.decode())"
   ]
  }
 ],
 "metadata": {
  "kernelspec": {
   "display_name": "base",
   "language": "python",
   "name": "python3"
  },
  "language_info": {
   "codemirror_mode": {
    "name": "ipython",
    "version": 3
   },
   "file_extension": ".py",
   "mimetype": "text/x-python",
   "name": "python",
   "nbconvert_exporter": "python",
   "pygments_lexer": "ipython3",
   "version": "3.9.16"
  },
  "orig_nbformat": 4
 },
 "nbformat": 4,
 "nbformat_minor": 2
}
