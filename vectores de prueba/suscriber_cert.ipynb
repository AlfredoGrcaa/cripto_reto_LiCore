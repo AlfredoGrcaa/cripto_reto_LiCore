{
 "cells": [
  {
   "attachments": {},
   "cell_type": "markdown",
   "metadata": {},
   "source": [
    "### ecdsa"
   ]
  },
  {
   "cell_type": "code",
   "execution_count": 9,
   "metadata": {},
   "outputs": [],
   "source": [
    "import hashlib\n",
    "from hmac import HMAC\n",
    "from hashlib import sha256\n",
    "\n",
    "Pcurve = 0xffffffff00000001000000000000000000000000ffffffffffffffffffffffff  # The proven prime\n",
    "N = 0xffffffff00000000ffffffffffffffffbce6faada7179e84f3b9cac2fc632551 # Number of points in the field\n",
    "Acurve = 0xffffffff00000001000000000000000000000000fffffffffffffffffffffffc\n",
    "Bcurve = 0x5ac635d8aa3a93e7b3ebbd55769886bc651d06b0cc53b0f63bce3c3e27d2604b  # This defines the curve. y^2 = x^3 + Acurve * x + Bcurve\n",
    "Gx = 0x6b17d1f2e12c4247f8bce6e563a440f277037d812deb33a0f4a13945d898c296\n",
    "Gy = 0x4fe342e2fe1a7f9b8ee7eb4a7c0f9e162bce33576b315ececbb6406837bf51f5\n",
    "GPoint = (Gx, Gy)  # This is our generator point. Tillions of dif ones possible\n",
    "\n",
    "def modinv(a, n=Pcurve):  # Extended Euclidean Algorithm/'division' in elliptic curves\n",
    "    lm, hm = 1, 0\n",
    "    low, high = a % n, n\n",
    "    while low > 1:\n",
    "        ratio = high // low  # Use integer division operator for Python 3.x\n",
    "        nm, new = hm - lm * ratio, high - low * ratio\n",
    "        lm, low, hm, high = nm, new, lm, low\n",
    "    return lm % n\n",
    "\n",
    "\n",
    "def ECadd(xp, yp, xq, yq):  # Not true addition, invented for EC. It adds Point-P with Point-Q.\n",
    "    m = ((yq - yp) * modinv(xq - xp, Pcurve)) % Pcurve\n",
    "    xr = (m * m - xp - xq) % Pcurve\n",
    "    yr = (m * (xp - xr) - yp) % Pcurve\n",
    "    return (xr, yr)\n",
    "\n",
    "\n",
    "def ECdouble(xp, yp):  # EC point doubling, invented for EC. It doubles Point-P.\n",
    "    LamNumer = 3 * xp * xp + Acurve\n",
    "    LamDenom = 2 * yp\n",
    "    Lam = (LamNumer * modinv(LamDenom, Pcurve)) % Pcurve\n",
    "    xr = (Lam * Lam - 2 * xp) % Pcurve\n",
    "    yr = (Lam * (xp - xr) - yp) % Pcurve\n",
    "    return (xr, yr)\n",
    "\n",
    "\n",
    "def EccMultiply(xs, ys, Scalar):  # Double & add. EC Multiplication, Not true multiplication\n",
    "    if Scalar == 0 or Scalar >= N:\n",
    "        raise Exception(\"Invalid Scalar/Private Key\")\n",
    "    ScalarBin = str(bin(Scalar))[2:]\n",
    "    Qx, Qy = xs, ys\n",
    "    for i in range(1, len(ScalarBin)):  # This is invented EC multiplication.\n",
    "        Qx, Qy = ECdouble(Qx, Qy)\n",
    "        if ScalarBin[i] == \"1\":\n",
    "            Qx, Qy = ECadd(Qx, Qy, xs, ys)\n",
    "    return (Qx, Qy)\n",
    "\n",
    "def deterministic_generate_k(msghash, privkey):\n",
    "    # Step 1: Prepare the key and message\n",
    "    V = b'\\x01' * 32\n",
    "    K = b'\\x00' * 32\n",
    "    privkey = privkey.to_bytes(32, 'big')\n",
    "    msghash = msghash.to_bytes(32, 'big')\n",
    "\n",
    "    # Step 2: Generate the K value\n",
    "    K = HMAC(K, V + b'\\x00' + privkey + msghash, sha256).digest()\n",
    "    V = HMAC(K, V, sha256).digest()\n",
    "    K = HMAC(K, V + b'\\x01' + privkey + msghash, sha256).digest()\n",
    "    V = HMAC(K, V, sha256).digest()\n",
    "\n",
    "    # Step 3: Convert the K value to an integer\n",
    "    while True:\n",
    "        t = b''\n",
    "        while len(t) < 32:\n",
    "            V = HMAC(K, V, sha256).digest()\n",
    "            t += V\n",
    "        k = int.from_bytes(t[:32], 'big')\n",
    "        if k >= 1 and k < N:\n",
    "            return k\n",
    "\n",
    "\n",
    "def ECDSA_verify(message, r, s, xPublicKey, yPublicKey):\n",
    "    # Step 1: Compute the deterministic k value\n",
    "    HashOfThingToSign = int(hashlib.sha256(message.encode()).hexdigest(), 16)\n",
    "    k = deterministic_generate_k(HashOfThingToSign, xPublicKey)\n",
    "\n",
    "    # Step 2: Compute w\n",
    "    w = modinv(s, N)\n",
    "\n",
    "    # Step 3: Compute u1 and u2\n",
    "    xu1, yu1 = EccMultiply(Gx, Gy, (HashOfThingToSign * w) % N)\n",
    "    xu2, yu2 = EccMultiply(xPublicKey, yPublicKey, (r * w) % N)\n",
    "\n",
    "    # Step 4: Compute the verification point (x, y)\n",
    "    x, y = ECadd(xu1, yu1, xu2, yu2)\n",
    "\n",
    "    # Step 5: Check if r equals x\n",
    "    return r == x\n"
   ]
  },
  {
   "attachments": {},
   "cell_type": "markdown",
   "metadata": {},
   "source": [
    "### subscriber"
   ]
  },
  {
   "attachments": {
    "image.png": {
     "image/png": "[encoded data removed]"
    }
   },
   "cell_type": "markdown",
   "metadata": {},
   "source": [
    "![image.png](attachment:image.png)"
   ]
  },
  {
   "cell_type": "code",
   "execution_count": 1,
   "metadata": {},
   "outputs": [],
   "source": [
    "from paho.mqtt import client as mqtt_client\n",
    "import random\n",
    "import ssl\n",
    "\n",
    "broker = 'cf1ce048.ala.us-east-1.emqxsl.com'\n",
    "port = 8883\n",
    "topic = \"cripto_test\"# generate client ID with pub prefix randomly\n",
    "client_id = f'python-mqtt-{random.randint(0, 100)}'\n",
    "# username = 'emqx'\n",
    "# password = 'public'\n",
    "\n",
    "# List to store received messages\n",
    "received_messages = []\n",
    "\n",
    "def connect_mqtt() -> mqtt_client:\n",
    "    def on_connect(client, userdata, flags, rc):\n",
    "        if rc == 0:\n",
    "            print(\"Connected to MQTT Broker!\")\n",
    "        else:\n",
    "            print(\"Failed to connect, return code %d\\n\", rc)\n",
    "\n",
    "    client = mqtt_client.Client(client_id)\n",
    "    client.username_pw_set(\"auditor_1\", \"poner_una_contraseña_muy_segura1\")\n",
    "    client.on_connect = on_connect\n",
    "    client.tls_set(ca_certs=\"C:\\\\Users\\\\Alfre\\\\Downloads\\\\emqxsl-ca.crt\", \n",
    "                tls_version=ssl.PROTOCOL_TLSv1_2)\n",
    "\n",
    "    client.connect(broker, port)\n",
    "\n",
    "    \n",
    "    return client\n",
    "\n",
    "\n",
    "def subscribe(client: mqtt_client):\n",
    "    def on_message(client, userdata, msg):\n",
    "        message = f\"Received `{msg.payload.decode()}` from `{msg.topic}` topic\\n\"\n",
    "        received_messages.append(msg.payload.decode())  # Append the message to the list\n",
    "        print(message)\n",
    "\n",
    "    client.subscribe(topic)\n",
    "    client.on_message = on_message\n"
   ]
  },
  {
   "cell_type": "code",
   "execution_count": 2,
   "metadata": {},
   "outputs": [
    {
     "name": "stdout",
     "output_type": "stream",
     "text": [
      "Connected to MQTT Broker!\n",
      "Received `{\"encrypted_data\": \"*\\u00be\\u00d3\\u00e9\\u0002t1n\\u001e)/\\u00b3\\u00d4\\u00e8\\u0015\\u00a2co\\u00fc\\u00bf\\u00a3\\u009f\\u00ce\\u00d9%A\\r\\u00db\\u00f5\\u00d5\\u0080\\u0012\\u0006\\u00c8|?\\u00cf\\u0015j\\u00a4,qp\\u00f3\\u00c2\\u00896\\u00cf\\u00f7\\u0099\\u00cb\\u00144u\\u0080\\u0002\\u00a4\\u0092\\u00fd\\u00b5\\u00b9\\\\\\u00d4\\u00d4\\u00d2\\\\\\u00c3\\u00cf\\u00a3'\\u00e1/\\u00ed95\\u00b1\\t\\u00e5\\u00a29+\\u0005y\\u0010\\u00f3\\u008b<Q\\u00da\\u00cb\\u00fa\\u00a0\\u007f\\u00ea1S\", \"iv\": \"\\u008e\\u001f\\u0088!\\u0082\\u00f2Ga\\u009e`\\u001eV\\u0013\\u0011lv\", \"r\": \"0x5e43d3f6326149fd7ea4aa946b66e742f6f18e8797244839d0593d6b9b838424\", \"s\": \"0x66ffad681da4a744b12d56a671a156dcad016163fdf36fecde5f1465a56736b1\"}` from `cripto_test` topic\n",
      "\n",
      "Received `{\"encrypted_data\": \"\\n\\u00b8\\u009d\\u00b0[$\\u00b9\\u0081\\u00fa^\\u0000\\u00ee\\u00ca\\u0085\\u0016\\u008b\\u00a1%#\\u0011\\u00f7\\u00a6\\u0097\\u00ad\\u00de\\u00ea\\u00a8\\u008fh\\u00d6\\u00af\\u0091\\u00ab\\u0002\\u00e7\\u00fd\\f'(\\u001f\\u00b7\\u0096\\u00d3x\\u00bf\\u0002=r\\u00bb\\u00c2\\u0012\\u00ce6\\u00b8\\u00ba\\u0010\\u00a1\\u00934\\\\o~\\u00e0]\\u00ec\\u009a\\u00ae\\u000e:/6\\u009de\\u00bf\\u00f7\\r\\u00ad\\u00ec\\u0001\\u00ad\\u0007\\u00a4\\u0010\\u0002[\\u0010rr\\u00cb\\u0002&I\\u008bo\\u00d1\\u009a\", \"iv\": \"t\\u00dfXx-:\\u000eo\\u007f\\u00a9\\u00b5d\\t\\u00c5$\\u008f\", \"r\": \"0xba05194c13926ce08f4c9db63521dac505412481a8c95d4b6b8db11edccca87a\", \"s\": \"0xbacc76f50737a4e8fce65f5162cd9e7582e5651e3e5db73e81ff78f0dc7f25c2\"}` from `cripto_test` topic\n",
      "\n",
      "Received `{\"encrypted_data\": \"A\\u00a5\\u00d4\\u00d7N\\u0003\\u00f9\\u00c5}\\u0007\\u00d6\\u00bb\\b\\u0083Y\\u00b6\\u00fb\\u00ca\\u0001 \\u00b4\\u00c0H\\u00eb\\u0012\\u0097\\u009eZpL.\\u00e6\\u00f9P\\u00f9E\\u00a36E\\u00ef\\u009f\\u0087\\u0093#5\\u001b\\u0093R\\u0016\\u00d2\\u009a\\u00d3\\u0018\\u0007\\u00e2\\u00ee\\u00922\\u00ad\\u00ab\\u0086\\u0000\\u00bd\\u00f0\\u000b\\u00f8,6\\u0090\\u00b1@\\u00f2\\u00fb0\\u00f7q\\u00b5\\r\\\\eZ\\u00f6\\u00fd\\u0085S\\u00fbh\\u0087W\\u00b5\\u008e\\u00c4`\\u00a3\\u00a1\\u00b5\", \"iv\": \"\\u00de\\u00f7\\u00aaf\\u00e6bh\\r\\u00e8\\u00cc-\\u008b\\u00ecn\\u000e\\n\", \"r\": \"0x1bec7570c85af62e0f8628315c489dd35a11be56379db7798be6f22215022ec6\", \"s\": \"0x86eae3089d5b28965ec8e49c0b77f40dea1374a8d90d851f158a3551a1c35cbb\"}` from `cripto_test` topic\n",
      "\n",
      "Received `{\"encrypted_data\": \"&E\\\\\\u00f0N.\\u0013\\u00a9L\\u00d2\\u0018`BV\\u0019u\\u000b\\u0089\\u0080\\u0094?\\u00e7\\u00c2\\u00d2\\u008c\\u00fd%\\u009d\\u00fc\\u00c0\\u00f1\\u0096\\u001b\\tFs\\u00e6^)W\\u00c9(\\u009b\\u00d8X\\u00f3\\u00d1\\u00d2\\u009e\\u0092\\u00b1\\u0005\\u00f5T1_\\u009f\\u0092\\u00c5\\u00e3?\\u0098\\u001b\\r \\u0087\\u0081\\u0085\\u008a\\u00c0I\\u007fB\\u00c3\\u00f4%/\\u00abh\\u0019\\u0084\\u00f4\\u00edU\\u00ea\\u00fc4#\\u0000+\\u0091\\u00ae\\u009e\\u00a5\\u00f4\\u009a\", \"iv\": \"]\\u00eb~\\u00d5\\u00a4\\u0085#Z\\u00c4\\u00f3%\\u00ee\\u00ae\\u00b2\\u009a\\u0083\", \"r\": \"0x4d3f3a800ecc5d9679d8393fba526df47af1419a890c6974063b3ba80654845\", \"s\": \"0x6ffcdc9a0a13091bcd1dda1df4a81690c28a251f0b495dfdac31030165de37ac\"}` from `cripto_test` topic\n",
      "\n",
      "Received `{\"encrypted_data\": \"\\u00dd\\u00d3\\u00ef\\u001fP\\u0005\\u008e@-\\u00a3\\u00f9t\\t\\u0094\\u0007d\\u00ff\\u00c0\\u00f8;\\u00c2\\u0016\\u00d6\\u00ec\\u00a4q\\u00c6\\\\\\u0094\\u0081\\u0085-\\u001eews\\u00f8d\\u00dbd\\u0097\\u00cd\\u00a1\\u00e6\\u00c7\\u0094\\u00b2;\\u00bfT\\u00e1hu\\u00cf\\u0006\\u00cc\\u00c7\\u009d\\u0019\\u00b4\\u00c0f=\\u0090\\u00f9\\u00a7\\u00b7&\\u00c2\\u000f\\u0017^\\u00dbd\\u00ca\\u000bN\\u0097=\\u00b1\\u00a0\\u00d6\\u00e7\\u00e0#4t\\u00f5;\\u00bd\\u00d4\\u00f9W\\u0015\\u00c5\\u00f7\", \"iv\": \"\\u00a5\\u0004G\\u0015|\\u001bE\\u00f3\\u00e4Z\\u0017\\u0083\\u00db\\u00d0\\u0011\\u00d0\", \"r\": \"0x1b38b95f47e318339c2cde43266d94e3e9323dd760f7b074e1e0d9e03555d5d2\", \"s\": \"0xae22c861f78b6aa0c528b96889b62d00149308ded8f5b3a7367cbfa3e4e16f07\"}` from `cripto_test` topic\n",
      "\n",
      "Received `{\"encrypted_data\": \"\\u0015\\u00ff\\u001a\\u00b9\\u0002\\u00dcg|\\u0012\\u00a7\\u001a\\u00aa*\\u00b0\\u0093\\u0094\\u00df\\u0098p\\u00d1\\u00a7\\u00d4=s\\u0017\\u0019\\u001e'\\u00f6\\u00d1G\\u00f0\\u0080^\\u0004?\\u0090\\u00f0fOYP6`\\u00d9[\\u00db^\\u00b2D\\u009d\\u00e7\\u0005~\\u00f2\\u00de\\u00df\\u00f3\\u008ae\\u00b0\\u0081\\u00db\\u008c=bPR\\u00ce\\u00c0*\\u00f0H\\u00ab\\u0012\\u00b9\\u00a8*\\u0093h\\u00b2\\u00fa.\\u00c9\\u00edNc\\u001a_mA6_\\u000f\\u00b5\\u0003\", \"iv\": \"\\u00ads@\\u00c1\\u00d4f\\u00a8\\u00a1\\u0016\\u00e1\\u00bc\\u00fa\\u00bd\\u00b4Hl\", \"r\": \"0x2e5988397ecadf9ca2d7bfe7946ee52f9e6d5b5fc6559260eeeb29c5e8412695\", \"s\": \"0xadf0a84367c31b70f5bf35245b446b9f7bda3b8c5adf9da2dafa22f923c95c66\"}` from `cripto_test` topic\n",
      "\n",
      "Received `{\"encrypted_data\": \"\\u00812\\u00bd\\u00b4QA'\\u0087=\\u00dd\\u0098\\u00cak\\u00d5M\\u0018\\u00a2&\\u0085q\\u00ec\\u00da\\u0015\\u00fd(\\u00a3\\u00e60\\u00d8\\u00ea \\u0007\\u00deLK\\u00c8r\\u00d7\\u00eb\\\"\\u00ae\\u0002\\u00b0k?6\\u0012\\u009f\\u00d2N\\u00dauA\\u00de\\\\\\u0016\\u00c2~\\u00c0l\\u0001Fa\\u00ab\\u001f\\u00c2)~\\u0007T,:u\\u00f8\\u00bfS\\u00cf\\r9\\b\\u00d6\\u0006k\\u00b4H\\u000f\\u00ef\\u009b<\\u00aaL(\\u00d9\\u0082\\u001bd\", \"iv\": \"\\u001b\\u00dc\\u00cfL\\u00bb\\u0086\\u00df\\u00c0Fh\\u0083\\u0089P$\\f\\u0005\", \"r\": \"0x1ce75ac49b48a55e9324e447da8b8c6e95b184f65322c949658e58d5981291e7\", \"s\": \"0xe636d4fd070963450c69d6b10ecc8a873661bbf16835f0b439f777f6504b1f47\"}` from `cripto_test` topic\n",
      "\n",
      "Received `{\"encrypted_data\": \"\\u009c\\u00d5\\u00cc\\tvLy\\u00dc\\u009ezu`\\u008e>=\\u00f4D\\u00b2\\u0094\\u00b3H\\u0094\\u0099\\u0096o[\\u00b5I\\u00edfR\\u0000\\u00d7o\\u001dn\\u00160\\u00fc\\u00ae=\\u0095\\u00f2]\\u00bb~\\b\\u00b2\\u00ec\\u00e9\\u00aa{|\\u00dc\\u00ac\\u00db8\\u00ee\\u0011(1\\u0086L2\\u00f5\\u00b3\\u00f4wQ\\u00d2\\u000bB\\u0016\\u00888Y\\u0086\\u00a3\\u00fe&\\u00ba\\u001c\\u00d6\\u0004\\u00eb\\u00a9\\u001e\\u00eb\\u00b8\\f]~\\u00faA\\u00e1\\u00b7\", \"iv\": \"w\\u0099}\\u009a\\u00b2\\u009b\\u00d3\\u00f2\\u0004]f\\u00cf\\u0093*\\u00c2\\u00fc\", \"r\": \"0x5e12a0fbad3d087337ffb4691389912ab709beb97d25103861c0df3e0714997d\", \"s\": \"0x5b7a534d9ad385e8f682fb459c0dba83d19c7c1418a4662e1852969b91496c9c\"}` from `cripto_test` topic\n",
      "\n",
      "Received `{\"encrypted_data\": \"\\u00ec\\u0094\\u0090\\u00f0\\u00f6\\u008f\\u00bbWQS\\u00d4\\u0000q\\u0001DK\\u0002 ,\\u00da\\u00c5\\u00d0\\u000b`I\\b\\u00c7\\u00e5\\u0093\\u00e8-\\u0098\\u008a\\u00abcQ\\u00e2\\u00fa\\u00ad\\u00f3\\u0086j\\u0092\\u00f1\\u00d0\\u009ek\\u00bb&\\u00cb)\\u0095\\b\\u0091\\u0085S_\\u00eb\\u0086\\u00eb%U~]\\u00b1\\u00dd?\\u00f2\\\\*L\\u000f\\u0001MQ\\u00d1\\u00e1nUv\\u0095yp\\u00d1\\u009e\\u0080)\\u00b0\\u0080\\u00e2%\\u00cby\\u00ef\\u008f\\u0000\", \"iv\": \"\\u009fl\\u00f4\\u0091\\u0080`\\u008fA\\u0017\\u00b7\\u00d2p\\u00eeI\\u00bf\\u000f\", \"r\": \"0x7be175c38590844e68c4bf9ef07860a6f32897fda232f1b1be073494227808d5\", \"s\": \"0x6d54a78ebacc8e1ba057032c30e06e7538f047b0234c534faddf5238ac30d06\"}` from `cripto_test` topic\n",
      "\n",
      "Received `{\"encrypted_data\": \"~u\\u00a9h\\u0084\\u00fbo\\u00db\\u00a10;C\\u000f\\u00ef\\u009e\\u0099\\u00ccA\\u001e\\u0098\\u00f3\\u0007\\u001a\\u00b2\\u008cc\\u0091\\u00e8\\u00b3\\u0000\\u00f5\\u009b`\\u00bd\\u00a5\\b\\u0092\\u0007\\u0001PD\\u00b7qM*JR\\u00f7UuZ2c\\u009c\\u0095\\u00c2\\u001c\\u00cf\\u008d*\\u0011\\r\\u00a7\\u0085\\u00efx\\u00e4\\u00d1j\\u00edU\\u009d\\u009d\\u00ff\\u008c'k\\f\\u00bf\\u0080,P\\u0003R\\u001b\\u009aU\\u00da2g\\u00e1c~\\u001dX\\u0014\", \"iv\": \"\\u00c3\\u00c9\\f\\u00dd\\u00be\\u00c9i\\u00c9\\u00c3\\u00e9sx\\u00a9e\\u008e\\u00f1\", \"r\": \"0x38ade4d60992a04d2e296d7d85c8f5327bec0bec4b2b45e37509324bd055895b\", \"s\": \"0xe35d983147dd9f3d7663d94a3dc18c6b52255ebd8d07e1ac4c391f196cb8bcac\"}` from `cripto_test` topic\n",
      "\n"
     ]
    }
   ],
   "source": [
    "client = connect_mqtt()\n",
    "subscribe(client)\n",
    "# Run an infinite loop to continuously listen for MQTT messages\n",
    "try:\n",
    "    client.loop_forever()\n",
    "except KeyboardInterrupt:\n",
    "    client.disconnect()"
   ]
  },
  {
   "cell_type": "code",
   "execution_count": 22,
   "metadata": {},
   "outputs": [
    {
     "data": {
      "text/plain": [
       "['{\"encrypted_data\": \"*\\\\u00be\\\\u00d3\\\\u00e9\\\\u0002t1n\\\\u001e)/\\\\u00b3\\\\u00d4\\\\u00e8\\\\u0015\\\\u00a2co\\\\u00fc\\\\u00bf\\\\u00a3\\\\u009f\\\\u00ce\\\\u00d9%A\\\\r\\\\u00db\\\\u00f5\\\\u00d5\\\\u0080\\\\u0012\\\\u0006\\\\u00c8|?\\\\u00cf\\\\u0015j\\\\u00a4,qp\\\\u00f3\\\\u00c2\\\\u00896\\\\u00cf\\\\u00f7\\\\u0099\\\\u00cb\\\\u00144u\\\\u0080\\\\u0002\\\\u00a4\\\\u0092\\\\u00fd\\\\u00b5\\\\u00b9\\\\\\\\\\\\u00d4\\\\u00d4\\\\u00d2\\\\\\\\\\\\u00c3\\\\u00cf\\\\u00a3\\'\\\\u00e1/\\\\u00ed95\\\\u00b1\\\\t\\\\u00e5\\\\u00a29+\\\\u0005y\\\\u0010\\\\u00f3\\\\u008b<Q\\\\u00da\\\\u00cb\\\\u00fa\\\\u00a0\\\\u007f\\\\u00ea1S\", \"iv\": \"\\\\u008e\\\\u001f\\\\u0088!\\\\u0082\\\\u00f2Ga\\\\u009e`\\\\u001eV\\\\u0013\\\\u0011lv\", \"r\": \"0x5e43d3f6326149fd7ea4aa946b66e742f6f18e8797244839d0593d6b9b838424\", \"s\": \"0x66ffad681da4a744b12d56a671a156dcad016163fdf36fecde5f1465a56736b1\"}',\n",
       " '{\"encrypted_data\": \"\\\\n\\\\u00b8\\\\u009d\\\\u00b0[$\\\\u00b9\\\\u0081\\\\u00fa^\\\\u0000\\\\u00ee\\\\u00ca\\\\u0085\\\\u0016\\\\u008b\\\\u00a1%#\\\\u0011\\\\u00f7\\\\u00a6\\\\u0097\\\\u00ad\\\\u00de\\\\u00ea\\\\u00a8\\\\u008fh\\\\u00d6\\\\u00af\\\\u0091\\\\u00ab\\\\u0002\\\\u00e7\\\\u00fd\\\\f\\'(\\\\u001f\\\\u00b7\\\\u0096\\\\u00d3x\\\\u00bf\\\\u0002=r\\\\u00bb\\\\u00c2\\\\u0012\\\\u00ce6\\\\u00b8\\\\u00ba\\\\u0010\\\\u00a1\\\\u00934\\\\\\\\o~\\\\u00e0]\\\\u00ec\\\\u009a\\\\u00ae\\\\u000e:/6\\\\u009de\\\\u00bf\\\\u00f7\\\\r\\\\u00ad\\\\u00ec\\\\u0001\\\\u00ad\\\\u0007\\\\u00a4\\\\u0010\\\\u0002[\\\\u0010rr\\\\u00cb\\\\u0002&I\\\\u008bo\\\\u00d1\\\\u009a\", \"iv\": \"t\\\\u00dfXx-:\\\\u000eo\\\\u007f\\\\u00a9\\\\u00b5d\\\\t\\\\u00c5$\\\\u008f\", \"r\": \"0xba05194c13926ce08f4c9db63521dac505412481a8c95d4b6b8db11edccca87a\", \"s\": \"0xbacc76f50737a4e8fce65f5162cd9e7582e5651e3e5db73e81ff78f0dc7f25c2\"}',\n",
       " '{\"encrypted_data\": \"A\\\\u00a5\\\\u00d4\\\\u00d7N\\\\u0003\\\\u00f9\\\\u00c5}\\\\u0007\\\\u00d6\\\\u00bb\\\\b\\\\u0083Y\\\\u00b6\\\\u00fb\\\\u00ca\\\\u0001 \\\\u00b4\\\\u00c0H\\\\u00eb\\\\u0012\\\\u0097\\\\u009eZpL.\\\\u00e6\\\\u00f9P\\\\u00f9E\\\\u00a36E\\\\u00ef\\\\u009f\\\\u0087\\\\u0093#5\\\\u001b\\\\u0093R\\\\u0016\\\\u00d2\\\\u009a\\\\u00d3\\\\u0018\\\\u0007\\\\u00e2\\\\u00ee\\\\u00922\\\\u00ad\\\\u00ab\\\\u0086\\\\u0000\\\\u00bd\\\\u00f0\\\\u000b\\\\u00f8,6\\\\u0090\\\\u00b1@\\\\u00f2\\\\u00fb0\\\\u00f7q\\\\u00b5\\\\r\\\\\\\\eZ\\\\u00f6\\\\u00fd\\\\u0085S\\\\u00fbh\\\\u0087W\\\\u00b5\\\\u008e\\\\u00c4`\\\\u00a3\\\\u00a1\\\\u00b5\", \"iv\": \"\\\\u00de\\\\u00f7\\\\u00aaf\\\\u00e6bh\\\\r\\\\u00e8\\\\u00cc-\\\\u008b\\\\u00ecn\\\\u000e\\\\n\", \"r\": \"0x1bec7570c85af62e0f8628315c489dd35a11be56379db7798be6f22215022ec6\", \"s\": \"0x86eae3089d5b28965ec8e49c0b77f40dea1374a8d90d851f158a3551a1c35cbb\"}',\n",
       " '{\"encrypted_data\": \"&E\\\\\\\\\\\\u00f0N.\\\\u0013\\\\u00a9L\\\\u00d2\\\\u0018`BV\\\\u0019u\\\\u000b\\\\u0089\\\\u0080\\\\u0094?\\\\u00e7\\\\u00c2\\\\u00d2\\\\u008c\\\\u00fd%\\\\u009d\\\\u00fc\\\\u00c0\\\\u00f1\\\\u0096\\\\u001b\\\\tFs\\\\u00e6^)W\\\\u00c9(\\\\u009b\\\\u00d8X\\\\u00f3\\\\u00d1\\\\u00d2\\\\u009e\\\\u0092\\\\u00b1\\\\u0005\\\\u00f5T1_\\\\u009f\\\\u0092\\\\u00c5\\\\u00e3?\\\\u0098\\\\u001b\\\\r \\\\u0087\\\\u0081\\\\u0085\\\\u008a\\\\u00c0I\\\\u007fB\\\\u00c3\\\\u00f4%/\\\\u00abh\\\\u0019\\\\u0084\\\\u00f4\\\\u00edU\\\\u00ea\\\\u00fc4#\\\\u0000+\\\\u0091\\\\u00ae\\\\u009e\\\\u00a5\\\\u00f4\\\\u009a\", \"iv\": \"]\\\\u00eb~\\\\u00d5\\\\u00a4\\\\u0085#Z\\\\u00c4\\\\u00f3%\\\\u00ee\\\\u00ae\\\\u00b2\\\\u009a\\\\u0083\", \"r\": \"0x4d3f3a800ecc5d9679d8393fba526df47af1419a890c6974063b3ba80654845\", \"s\": \"0x6ffcdc9a0a13091bcd1dda1df4a81690c28a251f0b495dfdac31030165de37ac\"}',\n",
       " '{\"encrypted_data\": \"\\\\u00dd\\\\u00d3\\\\u00ef\\\\u001fP\\\\u0005\\\\u008e@-\\\\u00a3\\\\u00f9t\\\\t\\\\u0094\\\\u0007d\\\\u00ff\\\\u00c0\\\\u00f8;\\\\u00c2\\\\u0016\\\\u00d6\\\\u00ec\\\\u00a4q\\\\u00c6\\\\\\\\\\\\u0094\\\\u0081\\\\u0085-\\\\u001eews\\\\u00f8d\\\\u00dbd\\\\u0097\\\\u00cd\\\\u00a1\\\\u00e6\\\\u00c7\\\\u0094\\\\u00b2;\\\\u00bfT\\\\u00e1hu\\\\u00cf\\\\u0006\\\\u00cc\\\\u00c7\\\\u009d\\\\u0019\\\\u00b4\\\\u00c0f=\\\\u0090\\\\u00f9\\\\u00a7\\\\u00b7&\\\\u00c2\\\\u000f\\\\u0017^\\\\u00dbd\\\\u00ca\\\\u000bN\\\\u0097=\\\\u00b1\\\\u00a0\\\\u00d6\\\\u00e7\\\\u00e0#4t\\\\u00f5;\\\\u00bd\\\\u00d4\\\\u00f9W\\\\u0015\\\\u00c5\\\\u00f7\", \"iv\": \"\\\\u00a5\\\\u0004G\\\\u0015|\\\\u001bE\\\\u00f3\\\\u00e4Z\\\\u0017\\\\u0083\\\\u00db\\\\u00d0\\\\u0011\\\\u00d0\", \"r\": \"0x1b38b95f47e318339c2cde43266d94e3e9323dd760f7b074e1e0d9e03555d5d2\", \"s\": \"0xae22c861f78b6aa0c528b96889b62d00149308ded8f5b3a7367cbfa3e4e16f07\"}',\n",
       " '{\"encrypted_data\": \"\\\\u0015\\\\u00ff\\\\u001a\\\\u00b9\\\\u0002\\\\u00dcg|\\\\u0012\\\\u00a7\\\\u001a\\\\u00aa*\\\\u00b0\\\\u0093\\\\u0094\\\\u00df\\\\u0098p\\\\u00d1\\\\u00a7\\\\u00d4=s\\\\u0017\\\\u0019\\\\u001e\\'\\\\u00f6\\\\u00d1G\\\\u00f0\\\\u0080^\\\\u0004?\\\\u0090\\\\u00f0fOYP6`\\\\u00d9[\\\\u00db^\\\\u00b2D\\\\u009d\\\\u00e7\\\\u0005~\\\\u00f2\\\\u00de\\\\u00df\\\\u00f3\\\\u008ae\\\\u00b0\\\\u0081\\\\u00db\\\\u008c=bPR\\\\u00ce\\\\u00c0*\\\\u00f0H\\\\u00ab\\\\u0012\\\\u00b9\\\\u00a8*\\\\u0093h\\\\u00b2\\\\u00fa.\\\\u00c9\\\\u00edNc\\\\u001a_mA6_\\\\u000f\\\\u00b5\\\\u0003\", \"iv\": \"\\\\u00ads@\\\\u00c1\\\\u00d4f\\\\u00a8\\\\u00a1\\\\u0016\\\\u00e1\\\\u00bc\\\\u00fa\\\\u00bd\\\\u00b4Hl\", \"r\": \"0x2e5988397ecadf9ca2d7bfe7946ee52f9e6d5b5fc6559260eeeb29c5e8412695\", \"s\": \"0xadf0a84367c31b70f5bf35245b446b9f7bda3b8c5adf9da2dafa22f923c95c66\"}',\n",
       " '{\"encrypted_data\": \"\\\\u00812\\\\u00bd\\\\u00b4QA\\'\\\\u0087=\\\\u00dd\\\\u0098\\\\u00cak\\\\u00d5M\\\\u0018\\\\u00a2&\\\\u0085q\\\\u00ec\\\\u00da\\\\u0015\\\\u00fd(\\\\u00a3\\\\u00e60\\\\u00d8\\\\u00ea \\\\u0007\\\\u00deLK\\\\u00c8r\\\\u00d7\\\\u00eb\\\\\"\\\\u00ae\\\\u0002\\\\u00b0k?6\\\\u0012\\\\u009f\\\\u00d2N\\\\u00dauA\\\\u00de\\\\\\\\\\\\u0016\\\\u00c2~\\\\u00c0l\\\\u0001Fa\\\\u00ab\\\\u001f\\\\u00c2)~\\\\u0007T,:u\\\\u00f8\\\\u00bfS\\\\u00cf\\\\r9\\\\b\\\\u00d6\\\\u0006k\\\\u00b4H\\\\u000f\\\\u00ef\\\\u009b<\\\\u00aaL(\\\\u00d9\\\\u0082\\\\u001bd\", \"iv\": \"\\\\u001b\\\\u00dc\\\\u00cfL\\\\u00bb\\\\u0086\\\\u00df\\\\u00c0Fh\\\\u0083\\\\u0089P$\\\\f\\\\u0005\", \"r\": \"0x1ce75ac49b48a55e9324e447da8b8c6e95b184f65322c949658e58d5981291e7\", \"s\": \"0xe636d4fd070963450c69d6b10ecc8a873661bbf16835f0b439f777f6504b1f47\"}',\n",
       " '{\"encrypted_data\": \"\\\\u009c\\\\u00d5\\\\u00cc\\\\tvLy\\\\u00dc\\\\u009ezu`\\\\u008e>=\\\\u00f4D\\\\u00b2\\\\u0094\\\\u00b3H\\\\u0094\\\\u0099\\\\u0096o[\\\\u00b5I\\\\u00edfR\\\\u0000\\\\u00d7o\\\\u001dn\\\\u00160\\\\u00fc\\\\u00ae=\\\\u0095\\\\u00f2]\\\\u00bb~\\\\b\\\\u00b2\\\\u00ec\\\\u00e9\\\\u00aa{|\\\\u00dc\\\\u00ac\\\\u00db8\\\\u00ee\\\\u0011(1\\\\u0086L2\\\\u00f5\\\\u00b3\\\\u00f4wQ\\\\u00d2\\\\u000bB\\\\u0016\\\\u00888Y\\\\u0086\\\\u00a3\\\\u00fe&\\\\u00ba\\\\u001c\\\\u00d6\\\\u0004\\\\u00eb\\\\u00a9\\\\u001e\\\\u00eb\\\\u00b8\\\\f]~\\\\u00faA\\\\u00e1\\\\u00b7\", \"iv\": \"w\\\\u0099}\\\\u009a\\\\u00b2\\\\u009b\\\\u00d3\\\\u00f2\\\\u0004]f\\\\u00cf\\\\u0093*\\\\u00c2\\\\u00fc\", \"r\": \"0x5e12a0fbad3d087337ffb4691389912ab709beb97d25103861c0df3e0714997d\", \"s\": \"0x5b7a534d9ad385e8f682fb459c0dba83d19c7c1418a4662e1852969b91496c9c\"}',\n",
       " '{\"encrypted_data\": \"\\\\u00ec\\\\u0094\\\\u0090\\\\u00f0\\\\u00f6\\\\u008f\\\\u00bbWQS\\\\u00d4\\\\u0000q\\\\u0001DK\\\\u0002 ,\\\\u00da\\\\u00c5\\\\u00d0\\\\u000b`I\\\\b\\\\u00c7\\\\u00e5\\\\u0093\\\\u00e8-\\\\u0098\\\\u008a\\\\u00abcQ\\\\u00e2\\\\u00fa\\\\u00ad\\\\u00f3\\\\u0086j\\\\u0092\\\\u00f1\\\\u00d0\\\\u009ek\\\\u00bb&\\\\u00cb)\\\\u0095\\\\b\\\\u0091\\\\u0085S_\\\\u00eb\\\\u0086\\\\u00eb%U~]\\\\u00b1\\\\u00dd?\\\\u00f2\\\\\\\\*L\\\\u000f\\\\u0001MQ\\\\u00d1\\\\u00e1nUv\\\\u0095yp\\\\u00d1\\\\u009e\\\\u0080)\\\\u00b0\\\\u0080\\\\u00e2%\\\\u00cby\\\\u00ef\\\\u008f\\\\u0000\", \"iv\": \"\\\\u009fl\\\\u00f4\\\\u0091\\\\u0080`\\\\u008fA\\\\u0017\\\\u00b7\\\\u00d2p\\\\u00eeI\\\\u00bf\\\\u000f\", \"r\": \"0x7be175c38590844e68c4bf9ef07860a6f32897fda232f1b1be073494227808d5\", \"s\": \"0x6d54a78ebacc8e1ba057032c30e06e7538f047b0234c534faddf5238ac30d06\"}',\n",
       " '{\"encrypted_data\": \"~u\\\\u00a9h\\\\u0084\\\\u00fbo\\\\u00db\\\\u00a10;C\\\\u000f\\\\u00ef\\\\u009e\\\\u0099\\\\u00ccA\\\\u001e\\\\u0098\\\\u00f3\\\\u0007\\\\u001a\\\\u00b2\\\\u008cc\\\\u0091\\\\u00e8\\\\u00b3\\\\u0000\\\\u00f5\\\\u009b`\\\\u00bd\\\\u00a5\\\\b\\\\u0092\\\\u0007\\\\u0001PD\\\\u00b7qM*JR\\\\u00f7UuZ2c\\\\u009c\\\\u0095\\\\u00c2\\\\u001c\\\\u00cf\\\\u008d*\\\\u0011\\\\r\\\\u00a7\\\\u0085\\\\u00efx\\\\u00e4\\\\u00d1j\\\\u00edU\\\\u009d\\\\u009d\\\\u00ff\\\\u008c\\'k\\\\f\\\\u00bf\\\\u0080,P\\\\u0003R\\\\u001b\\\\u009aU\\\\u00da2g\\\\u00e1c~\\\\u001dX\\\\u0014\", \"iv\": \"\\\\u00c3\\\\u00c9\\\\f\\\\u00dd\\\\u00be\\\\u00c9i\\\\u00c9\\\\u00c3\\\\u00e9sx\\\\u00a9e\\\\u008e\\\\u00f1\", \"r\": \"0x38ade4d60992a04d2e296d7d85c8f5327bec0bec4b2b45e37509324bd055895b\", \"s\": \"0xe35d983147dd9f3d7663d94a3dc18c6b52255ebd8d07e1ac4c391f196cb8bcac\"}']"
      ]
     },
     "execution_count": 22,
     "metadata": {},
     "output_type": "execute_result"
    }
   ],
   "source": [
    "received_messages"
   ]
  },
  {
   "cell_type": "code",
   "execution_count": 13,
   "metadata": {},
   "outputs": [],
   "source": [
    "import json\n",
    "received_messages_json = [json.loads(msg) for msg in received_messages]"
   ]
  },
  {
   "cell_type": "code",
   "execution_count": 24,
   "metadata": {},
   "outputs": [],
   "source": [
    "#create another dictionary with encrypted_data and iv for all messages\n",
    "messages_to_verify = []\n",
    "\n",
    "for dict in received_messages_json:\n",
    "    new_dict = {\n",
    "        key: value\n",
    "        for key, value in dict.items()\n",
    "        if key in ('encrypted_data', 'iv')\n",
    "    }\n",
    "    messages_to_verify.append(new_dict)"
   ]
  },
  {
   "cell_type": "code",
   "execution_count": 29,
   "metadata": {},
   "outputs": [
    {
     "data": {
      "text/plain": [
       "{'encrypted_data': \"*¾Óé\\x02t1n\\x1e)/³Ôè\\x15¢coü¿£\\x9fÎÙ%A\\rÛõÕ\\x80\\x12\\x06È|?Ï\\x15j¤,qpóÂ\\x896Ï÷\\x99Ë\\x144u\\x80\\x02¤\\x92ýµ¹\\\\ÔÔÒ\\\\ÃÏ£'á/í95±\\tå¢9+\\x05y\\x10ó\\x8b<QÚËú\\xa0\\x7fê1S\",\n",
       " 'iv': '\\x8e\\x1f\\x88!\\x82òGa\\x9e`\\x1eV\\x13\\x11lv'}"
      ]
     },
     "execution_count": 29,
     "metadata": {},
     "output_type": "execute_result"
    }
   ],
   "source": [
    "messages_to_verify[0]"
   ]
  },
  {
   "cell_type": "code",
   "execution_count": 88,
   "metadata": {},
   "outputs": [
    {
     "data": {
      "text/plain": [
       "int"
      ]
     },
     "execution_count": 88,
     "metadata": {},
     "output_type": "execute_result"
    }
   ],
   "source": [
    "#received_messages_json[0]['r']\n",
    "\n",
    "#convert r and s to hexadecimal\n",
    "type(int(received_messages_json[0]['r'], 16))"
   ]
  },
  {
   "cell_type": "code",
   "execution_count": 53,
   "metadata": {},
   "outputs": [
    {
     "data": {
      "text/plain": [
       "42637249426098882151823241663684688864511193666012014474351159734836152992804"
      ]
     },
     "execution_count": 53,
     "metadata": {},
     "output_type": "execute_result"
    }
   ],
   "source": [
    "int(received_messages_json[0]['r'], 16)"
   ]
  },
  {
   "cell_type": "code",
   "execution_count": 54,
   "metadata": {},
   "outputs": [
    {
     "name": "stdout",
     "output_type": "stream",
     "text": [
      "Valid Signature\n",
      "Valid Signature\n",
      "Valid Signature\n",
      "Valid Signature\n",
      "Valid Signature\n",
      "Valid Signature\n",
      "Valid Signature\n",
      "Valid Signature\n",
      "Valid Signature\n",
      "Valid Signature\n"
     ]
    }
   ],
   "source": [
    "xPublicKey, yPublicKey = 0x60fed4ba255a9d31c961eb74c6356d68c049b8923b61fa6ce669622e60f29fb6, 0x7903fe1008b8bc99a41ae9e95628bc64f2f1b20c2d7e9f5177a3c294d4462299\n",
    "\n",
    "valid_traces = []\n",
    "\n",
    "for i in range(len(received_messages_json)):\n",
    "    valid_signature = ECDSA_verify(str(messages_to_verify[i]), int(received_messages_json[i]['r'], 16), int(received_messages_json[i]['s'], 16), xPublicKey, yPublicKey)\n",
    "    #print(valid_signature)\n",
    "    if valid_signature:\n",
    "        valid_traces.append(messages_to_verify[i])\n",
    "        print(\"Valid Signature\")\n",
    "    else:\n",
    "        print(\"Invalid Signature\")"
   ]
  },
  {
   "cell_type": "code",
   "execution_count": 56,
   "metadata": {},
   "outputs": [],
   "source": [
    "from cryptography.hazmat.primitives.ciphers import Cipher, algorithms, modes\n",
    "from cryptography.hazmat.primitives import padding\n",
    "\n",
    "# Decrypt the encrypted data using AES-CBC\n",
    "def decrypt_data(key, iv, ciphertext):\n",
    "    cipher = Cipher(algorithms.AES(key), modes.CBC(iv))\n",
    "    decryptor = cipher.decryptor()\n",
    "\n",
    "    # Decrypt the ciphertext\n",
    "    decrypted_data = decryptor.update(ciphertext) + decryptor.finalize()\n",
    "\n",
    "    # Unpad the decrypted data\n",
    "    unpadder = padding.PKCS7(128).unpadder()\n",
    "    unpadded_data = unpadder.update(decrypted_data) + unpadder.finalize()\n",
    "    return unpadded_data"
   ]
  },
  {
   "cell_type": "code",
   "execution_count": 63,
   "metadata": {},
   "outputs": [
    {
     "name": "stdout",
     "output_type": "stream",
     "text": [
      "Decrypted Data: \"trace_id\": \"011\", \"timestamp\": \"2013-11-02T00:00:00Z\", \"C(0)/P(1)\": \"0\", \"value\": 58.0\n",
      "Decrypted Data: \"trace_id\": \"012\", \"timestamp\": \"2013-11-02T00:15:00Z\", \"C(0)/P(1)\": \"0\", \"value\": 75.0\n",
      "Decrypted Data: \"trace_id\": \"013\", \"timestamp\": \"2013-11-02T00:30:00Z\", \"C(0)/P(1)\": \"0\", \"value\": 65.0\n",
      "Decrypted Data: \"trace_id\": \"014\", \"timestamp\": \"2013-11-02T00:45:00Z\", \"C(0)/P(1)\": \"0\", \"value\": 0.08\n",
      "Decrypted Data: \"trace_id\": \"015\", \"timestamp\": \"2013-11-02T01:00:00Z\", \"C(0)/P(1)\": \"0\", \"value\": 67.0\n",
      "Decrypted Data: \"trace_id\": \"016\", \"timestamp\": \"2013-11-02T01:15:00Z\", \"C(0)/P(1)\": \"0\", \"value\": 69.0\n",
      "Decrypted Data: \"trace_id\": \"017\", \"timestamp\": \"2013-11-02T01:30:00Z\", \"C(0)/P(1)\": \"0\", \"value\": 0.07\n",
      "Decrypted Data: \"trace_id\": \"018\", \"timestamp\": \"2013-11-02T01:45:00Z\", \"C(0)/P(1)\": \"0\", \"value\": 73.0\n",
      "Decrypted Data: \"trace_id\": \"019\", \"timestamp\": \"2013-11-02T02:00:00Z\", \"C(0)/P(1)\": \"0\", \"value\": 68.0\n",
      "Decrypted Data: \"trace_id\": \"0110\", \"timestamp\": \"2013-11-02T02:15:00Z\", \"C(0)/P(1)\": \"0\", \"value\": 0.06\n"
     ]
    }
   ],
   "source": [
    "key = b'0123456789ABCDEF0123456789ABCDEF' #llave compartida previamente por el canal seguro\n",
    "\n",
    "decrypted_data_valid_traces = []\n",
    "# Decrypt and print each trace\n",
    "for encrypted_trace in valid_traces:\n",
    "    ciphertext = encrypted_trace['encrypted_data'].encode('latin-1')\n",
    "    iv = encrypted_trace['iv'].encode('latin-1')\n",
    "    decrypted_data = decrypt_data(key, iv, ciphertext)\n",
    "    decrypted_data_valid_traces.append(decrypted_data.decode('latin-1'))\n",
    "    print(\"Decrypted Data:\", decrypted_data.decode())"
   ]
  },
  {
   "cell_type": "code",
   "execution_count": 71,
   "metadata": {},
   "outputs": [
    {
     "name": "stdout",
     "output_type": "stream",
     "text": [
      "['\"trace_id\": \"011\", \"timestamp\": \"2013-11-02T00:00:00Z\", \"C(0)/P(1)\": \"0\", \"value\": 58.0', '\"trace_id\": \"012\", \"timestamp\": \"2013-11-02T00:15:00Z\", \"C(0)/P(1)\": \"0\", \"value\": 75.0', '\"trace_id\": \"013\", \"timestamp\": \"2013-11-02T00:30:00Z\", \"C(0)/P(1)\": \"0\", \"value\": 65.0', '\"trace_id\": \"014\", \"timestamp\": \"2013-11-02T00:45:00Z\", \"C(0)/P(1)\": \"0\", \"value\": 0.08', '\"trace_id\": \"015\", \"timestamp\": \"2013-11-02T01:00:00Z\", \"C(0)/P(1)\": \"0\", \"value\": 67.0', '\"trace_id\": \"016\", \"timestamp\": \"2013-11-02T01:15:00Z\", \"C(0)/P(1)\": \"0\", \"value\": 69.0', '\"trace_id\": \"017\", \"timestamp\": \"2013-11-02T01:30:00Z\", \"C(0)/P(1)\": \"0\", \"value\": 0.07', '\"trace_id\": \"018\", \"timestamp\": \"2013-11-02T01:45:00Z\", \"C(0)/P(1)\": \"0\", \"value\": 73.0', '\"trace_id\": \"019\", \"timestamp\": \"2013-11-02T02:00:00Z\", \"C(0)/P(1)\": \"0\", \"value\": 68.0', '\"trace_id\": \"0110\", \"timestamp\": \"2013-11-02T02:15:00Z\", \"C(0)/P(1)\": \"0\", \"value\": 0.06']\n"
     ]
    }
   ],
   "source": [
    "decrypted_data_valid_traces = [item.replace(\"'\", \"\") for item in decrypted_data_valid_traces]\n",
    "print(decrypted_data_valid_traces)"
   ]
  },
  {
   "cell_type": "code",
   "execution_count": 74,
   "metadata": {},
   "outputs": [
    {
     "data": {
      "text/plain": [
       "str"
      ]
     },
     "execution_count": 74,
     "metadata": {},
     "output_type": "execute_result"
    }
   ],
   "source": [
    "type(decrypted_data_valid_traces[0])"
   ]
  },
  {
   "cell_type": "code",
   "execution_count": 64,
   "metadata": {},
   "outputs": [
    {
     "data": {
      "text/plain": [
       "['\"trace_id\": \"011\", \"timestamp\": \"2013-11-02T00:00:00Z\", \"C(0)/P(1)\": \"0\", \"value\": 58.0',\n",
       " '\"trace_id\": \"012\", \"timestamp\": \"2013-11-02T00:15:00Z\", \"C(0)/P(1)\": \"0\", \"value\": 75.0',\n",
       " '\"trace_id\": \"013\", \"timestamp\": \"2013-11-02T00:30:00Z\", \"C(0)/P(1)\": \"0\", \"value\": 65.0',\n",
       " '\"trace_id\": \"014\", \"timestamp\": \"2013-11-02T00:45:00Z\", \"C(0)/P(1)\": \"0\", \"value\": 0.08',\n",
       " '\"trace_id\": \"015\", \"timestamp\": \"2013-11-02T01:00:00Z\", \"C(0)/P(1)\": \"0\", \"value\": 67.0',\n",
       " '\"trace_id\": \"016\", \"timestamp\": \"2013-11-02T01:15:00Z\", \"C(0)/P(1)\": \"0\", \"value\": 69.0',\n",
       " '\"trace_id\": \"017\", \"timestamp\": \"2013-11-02T01:30:00Z\", \"C(0)/P(1)\": \"0\", \"value\": 0.07',\n",
       " '\"trace_id\": \"018\", \"timestamp\": \"2013-11-02T01:45:00Z\", \"C(0)/P(1)\": \"0\", \"value\": 73.0',\n",
       " '\"trace_id\": \"019\", \"timestamp\": \"2013-11-02T02:00:00Z\", \"C(0)/P(1)\": \"0\", \"value\": 68.0',\n",
       " '\"trace_id\": \"0110\", \"timestamp\": \"2013-11-02T02:15:00Z\", \"C(0)/P(1)\": \"0\", \"value\": 0.06']"
      ]
     },
     "execution_count": 64,
     "metadata": {},
     "output_type": "execute_result"
    }
   ],
   "source": [
    "decrypted_data_valid_traces"
   ]
  },
  {
   "cell_type": "code",
   "execution_count": 79,
   "metadata": {},
   "outputs": [],
   "source": [
    "# Remove the single quotes ('') from the strings\n",
    "data = [s.replace(\"'\", \"\") for s in decrypted_data_valid_traces]\n",
    "\n",
    "# Convert the list of strings into a list of dictionaries\n",
    "result = [json.loads(\"{\" + s + \"}\") for s in decrypted_data_valid_traces]"
   ]
  },
  {
   "cell_type": "code",
   "execution_count": 84,
   "metadata": {},
   "outputs": [
    {
     "data": {
      "text/plain": [
       "[{'trace_id': '011',\n",
       "  'timestamp': '2013-11-02T00:00:00Z',\n",
       "  'C(0)/P(1)': '0',\n",
       "  'value': 58.0},\n",
       " {'trace_id': '012',\n",
       "  'timestamp': '2013-11-02T00:15:00Z',\n",
       "  'C(0)/P(1)': '0',\n",
       "  'value': 75.0},\n",
       " {'trace_id': '013',\n",
       "  'timestamp': '2013-11-02T00:30:00Z',\n",
       "  'C(0)/P(1)': '0',\n",
       "  'value': 65.0},\n",
       " {'trace_id': '014',\n",
       "  'timestamp': '2013-11-02T00:45:00Z',\n",
       "  'C(0)/P(1)': '0',\n",
       "  'value': 0.08},\n",
       " {'trace_id': '015',\n",
       "  'timestamp': '2013-11-02T01:00:00Z',\n",
       "  'C(0)/P(1)': '0',\n",
       "  'value': 67.0},\n",
       " {'trace_id': '016',\n",
       "  'timestamp': '2013-11-02T01:15:00Z',\n",
       "  'C(0)/P(1)': '0',\n",
       "  'value': 69.0},\n",
       " {'trace_id': '017',\n",
       "  'timestamp': '2013-11-02T01:30:00Z',\n",
       "  'C(0)/P(1)': '0',\n",
       "  'value': 0.07},\n",
       " {'trace_id': '018',\n",
       "  'timestamp': '2013-11-02T01:45:00Z',\n",
       "  'C(0)/P(1)': '0',\n",
       "  'value': 73.0},\n",
       " {'trace_id': '019',\n",
       "  'timestamp': '2013-11-02T02:00:00Z',\n",
       "  'C(0)/P(1)': '0',\n",
       "  'value': 68.0},\n",
       " {'trace_id': '0110',\n",
       "  'timestamp': '2013-11-02T02:15:00Z',\n",
       "  'C(0)/P(1)': '0',\n",
       "  'value': 0.06}]"
      ]
     },
     "execution_count": 84,
     "metadata": {},
     "output_type": "execute_result"
    }
   ],
   "source": [
    "result"
   ]
  },
  {
   "cell_type": "code",
   "execution_count": 87,
   "metadata": {},
   "outputs": [],
   "source": [
    "import pandas as pd\n",
    "\n",
    "# Assuming you have already obtained the 'result' list of dictionaries\n",
    "\n",
    "# Create a DataFrame from the list of dictionaries\n",
    "df = pd.DataFrame(result)\n",
    "\n",
    "#export to a csv file\n",
    "df.to_csv('decrypted_data_valid_traces.csv', index=False)"
   ]
  }
 ],
 "metadata": {
  "kernelspec": {
   "display_name": "base",
   "language": "python",
   "name": "python3"
  },
  "language_info": {
   "codemirror_mode": {
    "name": "ipython",
    "version": 3
   },
   "file_extension": ".py",
   "mimetype": "text/x-python",
   "name": "python",
   "nbconvert_exporter": "python",
   "pygments_lexer": "ipython3",
   "version": "3.9.16"
  },
  "orig_nbformat": 4
 },
 "nbformat": 4,
 "nbformat_minor": 2
}
