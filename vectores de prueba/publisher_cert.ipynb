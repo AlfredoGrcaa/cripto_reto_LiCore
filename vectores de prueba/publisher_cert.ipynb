{
 "cells": [
  {
   "attachments": {},
   "cell_type": "markdown",
   "metadata": {},
   "source": [
    "### Traces creation for sim"
   ]
  },
  {
   "cell_type": "code",
   "execution_count": 26,
   "metadata": {},
   "outputs": [
    {
     "name": "stdout",
     "output_type": "stream",
     "text": [
      "{\"trace_id\": \"1\", \"timestamp\": \"2013-11-02T00:00:00Z\", \"C(0)/P(1)\": \"0\", \"value\": 58.0}\n",
      "{\"trace_id\": \"2\", \"timestamp\": \"2013-11-02T00:15:00Z\", \"C(0)/P(1)\": \"0\", \"value\": 75.0}\n",
      "{\"trace_id\": \"3\", \"timestamp\": \"2013-11-02T00:30:00Z\", \"C(0)/P(1)\": \"0\", \"value\": 65.0}\n",
      "{\"trace_id\": \"4\", \"timestamp\": \"2013-11-02T00:45:00Z\", \"C(0)/P(1)\": \"0\", \"value\": 0.08}\n",
      "{\"trace_id\": \"5\", \"timestamp\": \"2013-11-02T01:00:00Z\", \"C(0)/P(1)\": \"0\", \"value\": 67.0}\n",
      "{\"trace_id\": \"6\", \"timestamp\": \"2013-11-02T01:15:00Z\", \"C(0)/P(1)\": \"0\", \"value\": 69.0}\n",
      "{\"trace_id\": \"7\", \"timestamp\": \"2013-11-02T01:30:00Z\", \"C(0)/P(1)\": \"0\", \"value\": 0.07}\n",
      "{\"trace_id\": \"8\", \"timestamp\": \"2013-11-02T01:45:00Z\", \"C(0)/P(1)\": \"0\", \"value\": 73.0}\n",
      "{\"trace_id\": \"9\", \"timestamp\": \"2013-11-02T02:00:00Z\", \"C(0)/P(1)\": \"0\", \"value\": 68.0}\n",
      "{\"trace_id\": \"10\", \"timestamp\": \"2013-11-02T02:15:00Z\", \"C(0)/P(1)\": \"0\", \"value\": 0.06}\n",
      "{\"trace_id\": \"11\", \"timestamp\": \"2013-11-02T02:30:00Z\", \"C(0)/P(1)\": \"0\", \"value\": 77.0}\n",
      "{\"trace_id\": \"12\", \"timestamp\": \"2013-11-02T02:45:00Z\", \"C(0)/P(1)\": \"0\", \"value\": 69.0}\n",
      "{\"trace_id\": \"13\", \"timestamp\": \"2013-11-02T03:00:00Z\", \"C(0)/P(1)\": \"0\", \"value\": 91.0}\n",
      "{\"trace_id\": \"14\", \"timestamp\": \"2013-11-02T03:15:00Z\", \"C(0)/P(1)\": \"0\", \"value\": 64.0}\n",
      "{\"trace_id\": \"15\", \"timestamp\": \"2013-11-02T03:30:00Z\", \"C(0)/P(1)\": \"0\", \"value\": 74.0}\n",
      "{\"trace_id\": \"16\", \"timestamp\": \"2013-11-02T03:45:00Z\", \"C(0)/P(1)\": \"0\", \"value\": 74.0}\n",
      "{\"trace_id\": \"17\", \"timestamp\": \"2013-11-02T04:00:00Z\", \"C(0)/P(1)\": \"0\", \"value\": 74.0}\n",
      "{\"trace_id\": \"18\", \"timestamp\": \"2013-11-02T04:15:00Z\", \"C(0)/P(1)\": \"0\", \"value\": 67.0}\n",
      "{\"trace_id\": \"19\", \"timestamp\": \"2013-11-02T04:30:00Z\", \"C(0)/P(1)\": \"0\", \"value\": 61.0}\n",
      "{\"trace_id\": \"20\", \"timestamp\": \"2013-11-02T04:45:00Z\", \"C(0)/P(1)\": \"0\", \"value\": 89.0}\n",
      "{\"trace_id\": \"21\", \"timestamp\": \"2013-11-02T05:00:00Z\", \"C(0)/P(1)\": \"0\", \"value\": 58.0}\n",
      "{\"trace_id\": \"22\", \"timestamp\": \"2013-11-02T05:15:00Z\", \"C(0)/P(1)\": \"0\", \"value\": 75.0}\n",
      "{\"trace_id\": \"23\", \"timestamp\": \"2013-11-02T05:30:00Z\", \"C(0)/P(1)\": \"0\", \"value\": 57.0}\n",
      "{\"trace_id\": \"24\", \"timestamp\": \"2013-11-02T05:45:00Z\", \"C(0)/P(1)\": \"0\", \"value\": 108.0}\n",
      "{\"trace_id\": \"25\", \"timestamp\": \"2013-11-02T06:00:00Z\", \"C(0)/P(1)\": \"0\", \"value\": 85.0}\n",
      "{\"trace_id\": \"26\", \"timestamp\": \"2013-11-02T06:15:00Z\", \"C(0)/P(1)\": \"0\", \"value\": 89.0}\n",
      "{\"trace_id\": \"27\", \"timestamp\": \"2013-11-02T06:30:00Z\", \"C(0)/P(1)\": \"0\", \"value\": 183.0}\n",
      "{\"trace_id\": \"28\", \"timestamp\": \"2013-11-02T06:45:00Z\", \"C(0)/P(1)\": \"0\", \"value\": 272.0}\n",
      "{\"trace_id\": \"29\", \"timestamp\": \"2013-11-02T07:00:00Z\", \"C(0)/P(1)\": \"0\", \"value\": 311.0}\n",
      "{\"trace_id\": \"30\", \"timestamp\": \"2013-11-02T07:15:00Z\", \"C(0)/P(1)\": \"0\", \"value\": 0.37}\n",
      "{\"trace_id\": \"31\", \"timestamp\": \"2013-11-02T07:30:00Z\", \"C(0)/P(1)\": \"0\", \"value\": 498.0}\n",
      "{\"trace_id\": \"32\", \"timestamp\": \"2013-11-02T07:45:00Z\", \"C(0)/P(1)\": \"0\", \"value\": 274.0}\n",
      "{\"trace_id\": \"33\", \"timestamp\": \"2013-11-02T08:00:00Z\", \"C(0)/P(1)\": \"0\", \"value\": 276.0}\n",
      "{\"trace_id\": \"34\", \"timestamp\": \"2013-11-02T08:15:00Z\", \"C(0)/P(1)\": \"0\", \"value\": 0.23}\n",
      "{\"trace_id\": \"35\", \"timestamp\": \"2013-11-02T08:30:00Z\", \"C(0)/P(1)\": \"0\", \"value\": 187.0}\n",
      "{\"trace_id\": \"36\", \"timestamp\": \"2013-11-02T08:45:00Z\", \"C(0)/P(1)\": \"0\", \"value\": 136.0}\n",
      "{\"trace_id\": \"37\", \"timestamp\": \"2013-11-02T09:00:00Z\", \"C(0)/P(1)\": \"0\", \"value\": 79.0}\n",
      "{\"trace_id\": \"38\", \"timestamp\": \"2013-11-02T09:15:00Z\", \"C(0)/P(1)\": \"0\", \"value\": 42.0}\n",
      "{\"trace_id\": \"39\", \"timestamp\": \"2013-11-02T09:30:00Z\", \"C(0)/P(1)\": \"0\", \"value\": 91.0}\n",
      "{\"trace_id\": \"40\", \"timestamp\": \"2013-11-02T09:45:00Z\", \"C(0)/P(1)\": \"0\", \"value\": 148.0}\n",
      "{\"trace_id\": \"41\", \"timestamp\": \"2013-11-02T10:00:00Z\", \"C(0)/P(1)\": \"0\", \"value\": 819.0}\n",
      "{\"trace_id\": \"42\", \"timestamp\": \"2013-11-02T10:15:00Z\", \"C(0)/P(1)\": \"0\", \"value\": 798.0}\n",
      "{\"trace_id\": \"43\", \"timestamp\": \"2013-11-02T10:30:00Z\", \"C(0)/P(1)\": \"0\", \"value\": 802.0}\n",
      "{\"trace_id\": \"44\", \"timestamp\": \"2013-11-02T10:45:00Z\", \"C(0)/P(1)\": \"0\", \"value\": 738.0}\n",
      "{\"trace_id\": \"45\", \"timestamp\": \"2013-11-02T11:00:00Z\", \"C(0)/P(1)\": \"0\", \"value\": 508.0}\n",
      "{\"trace_id\": \"46\", \"timestamp\": \"2013-11-02T11:15:00Z\", \"C(0)/P(1)\": \"0\", \"value\": 253.0}\n",
      "{\"trace_id\": \"47\", \"timestamp\": \"2013-11-02T11:30:00Z\", \"C(0)/P(1)\": \"0\", \"value\": 84.0}\n",
      "{\"trace_id\": \"48\", \"timestamp\": \"2013-11-02T11:45:00Z\", \"C(0)/P(1)\": \"0\", \"value\": 68.0}\n",
      "{\"trace_id\": \"49\", \"timestamp\": \"2013-11-02T12:00:00Z\", \"C(0)/P(1)\": \"0\", \"value\": 65.0}\n",
      "{\"trace_id\": \"50\", \"timestamp\": \"2013-11-02T12:15:00Z\", \"C(0)/P(1)\": \"0\", \"value\": 611.0}\n",
      "{\"trace_id\": \"51\", \"timestamp\": \"2013-11-02T12:30:00Z\", \"C(0)/P(1)\": \"0\", \"value\": 162.0}\n",
      "{\"trace_id\": \"52\", \"timestamp\": \"2013-11-02T12:45:00Z\", \"C(0)/P(1)\": \"0\", \"value\": 167.0}\n",
      "{\"trace_id\": \"53\", \"timestamp\": \"2013-11-02T13:00:00Z\", \"C(0)/P(1)\": \"0\", \"value\": 183.0}\n",
      "{\"trace_id\": \"54\", \"timestamp\": \"2013-11-02T13:15:00Z\", \"C(0)/P(1)\": \"0\", \"value\": 0.73}\n",
      "{\"trace_id\": \"55\", \"timestamp\": \"2013-11-02T13:30:00Z\", \"C(0)/P(1)\": \"0\", \"value\": 711.0}\n",
      "{\"trace_id\": \"56\", \"timestamp\": \"2013-11-02T13:45:00Z\", \"C(0)/P(1)\": \"0\", \"value\": 695.0}\n",
      "{\"trace_id\": \"57\", \"timestamp\": \"2013-11-02T14:00:00Z\", \"C(0)/P(1)\": \"0\", \"value\": 601.0}\n",
      "{\"trace_id\": \"58\", \"timestamp\": \"2013-11-02T14:15:00Z\", \"C(0)/P(1)\": \"0\", \"value\": 439.0}\n",
      "{\"trace_id\": \"59\", \"timestamp\": \"2013-11-02T14:30:00Z\", \"C(0)/P(1)\": \"0\", \"value\": 211.0}\n",
      "{\"trace_id\": \"60\", \"timestamp\": \"2013-11-02T14:45:00Z\", \"C(0)/P(1)\": \"0\", \"value\": 93.0}\n",
      "{\"trace_id\": \"61\", \"timestamp\": \"2013-11-02T15:00:00Z\", \"C(0)/P(1)\": \"0\", \"value\": 162.0}\n",
      "{\"trace_id\": \"62\", \"timestamp\": \"2013-11-02T15:15:00Z\", \"C(0)/P(1)\": \"0\", \"value\": 0.4}\n",
      "{\"trace_id\": \"63\", \"timestamp\": \"2013-11-02T15:30:00Z\", \"C(0)/P(1)\": \"0\", \"value\": 518.0}\n",
      "{\"trace_id\": \"64\", \"timestamp\": \"2013-11-02T15:45:00Z\", \"C(0)/P(1)\": \"0\", \"value\": 484.0}\n",
      "{\"trace_id\": \"65\", \"timestamp\": \"2013-11-02T16:00:00Z\", \"C(0)/P(1)\": \"0\", \"value\": 0.58}\n",
      "{\"trace_id\": \"66\", \"timestamp\": \"2013-11-02T16:15:00Z\", \"C(0)/P(1)\": \"0\", \"value\": 795.0}\n",
      "{\"trace_id\": \"67\", \"timestamp\": \"2013-11-02T16:30:00Z\", \"C(0)/P(1)\": \"0\", \"value\": 494.0}\n",
      "{\"trace_id\": \"68\", \"timestamp\": \"2013-11-02T16:45:00Z\", \"C(0)/P(1)\": \"0\", \"value\": 616.0}\n",
      "{\"trace_id\": \"69\", \"timestamp\": \"2013-11-02T17:00:00Z\", \"C(0)/P(1)\": \"0\", \"value\": 672.0}\n",
      "{\"trace_id\": \"70\", \"timestamp\": \"2013-11-02T17:15:00Z\", \"C(0)/P(1)\": \"0\", \"value\": 611.0}\n",
      "{\"trace_id\": \"71\", \"timestamp\": \"2013-11-02T17:30:00Z\", \"C(0)/P(1)\": \"0\", \"value\": 345.0}\n",
      "{\"trace_id\": \"72\", \"timestamp\": \"2013-11-02T17:45:00Z\", \"C(0)/P(1)\": \"0\", \"value\": 415.0}\n",
      "{\"trace_id\": \"73\", \"timestamp\": \"2013-11-02T18:00:00Z\", \"C(0)/P(1)\": \"0\", \"value\": 675.0}\n",
      "{\"trace_id\": \"74\", \"timestamp\": \"2013-11-02T18:15:00Z\", \"C(0)/P(1)\": \"0\", \"value\": 612.0}\n",
      "{\"trace_id\": \"75\", \"timestamp\": \"2013-11-02T18:30:00Z\", \"C(0)/P(1)\": \"0\", \"value\": 353.0}\n",
      "{\"trace_id\": \"76\", \"timestamp\": \"2013-11-02T18:45:00Z\", \"C(0)/P(1)\": \"0\", \"value\": 445.0}\n",
      "{\"trace_id\": \"77\", \"timestamp\": \"2013-11-02T19:00:00Z\", \"C(0)/P(1)\": \"0\", \"value\": 409.0}\n",
      "{\"trace_id\": \"78\", \"timestamp\": \"2013-11-02T19:15:00Z\", \"C(0)/P(1)\": \"0\", \"value\": 0.36}\n",
      "{\"trace_id\": \"79\", \"timestamp\": \"2013-11-02T19:30:00Z\", \"C(0)/P(1)\": \"0\", \"value\": 356.0}\n",
      "{\"trace_id\": \"80\", \"timestamp\": \"2013-11-02T19:45:00Z\", \"C(0)/P(1)\": \"0\", \"value\": 332.0}\n",
      "{\"trace_id\": \"81\", \"timestamp\": \"2013-11-02T20:00:00Z\", \"C(0)/P(1)\": \"0\", \"value\": 344.0}\n",
      "{\"trace_id\": \"82\", \"timestamp\": \"2013-11-02T20:15:00Z\", \"C(0)/P(1)\": \"0\", \"value\": 321.0}\n",
      "{\"trace_id\": \"83\", \"timestamp\": \"2013-11-02T20:30:00Z\", \"C(0)/P(1)\": \"0\", \"value\": 328.0}\n",
      "{\"trace_id\": \"84\", \"timestamp\": \"2013-11-02T20:45:00Z\", \"C(0)/P(1)\": \"0\", \"value\": 407.0}\n",
      "{\"trace_id\": \"85\", \"timestamp\": \"2013-11-02T21:00:00Z\", \"C(0)/P(1)\": \"0\", \"value\": 482.0}\n",
      "{\"trace_id\": \"86\", \"timestamp\": \"2013-11-02T21:15:00Z\", \"C(0)/P(1)\": \"0\", \"value\": 0.46}\n",
      "{\"trace_id\": \"87\", \"timestamp\": \"2013-11-02T21:30:00Z\", \"C(0)/P(1)\": \"0\", \"value\": 338.0}\n",
      "{\"trace_id\": \"88\", \"timestamp\": \"2013-11-02T21:45:00Z\", \"C(0)/P(1)\": \"0\", \"value\": 369.0}\n",
      "{\"trace_id\": \"89\", \"timestamp\": \"2013-11-02T22:00:00Z\", \"C(0)/P(1)\": \"0\", \"value\": 318.0}\n",
      "{\"trace_id\": \"90\", \"timestamp\": \"2013-11-02T22:15:00Z\", \"C(0)/P(1)\": \"0\", \"value\": 322.0}\n",
      "{\"trace_id\": \"91\", \"timestamp\": \"2013-11-02T22:30:00Z\", \"C(0)/P(1)\": \"0\", \"value\": 345.0}\n",
      "{\"trace_id\": \"92\", \"timestamp\": \"2013-11-02T22:45:00Z\", \"C(0)/P(1)\": \"0\", \"value\": 298.0}\n",
      "{\"trace_id\": \"93\", \"timestamp\": \"2013-11-02T23:00:00Z\", \"C(0)/P(1)\": \"0\", \"value\": 316.0}\n",
      "{\"trace_id\": \"94\", \"timestamp\": \"2013-11-02T23:15:00Z\", \"C(0)/P(1)\": \"0\", \"value\": 299.0}\n",
      "{\"trace_id\": \"95\", \"timestamp\": \"2013-11-02T23:30:00Z\", \"C(0)/P(1)\": \"0\", \"value\": 341.0}\n",
      "{\"trace_id\": \"96\", \"timestamp\": \"2013-11-02T23:45:00Z\", \"C(0)/P(1)\": \"0\", \"value\": 304.0}\n"
     ]
    }
   ],
   "source": [
    "df = pd.read_csv('C:\\\\Users\\\\Alfre\\\\Escritorio\\\\vs_code\\\\cripto\\\\Prosumer_ABC.csv', encoding='unicode_escape', sep =';')\n",
    "\n",
    "import json\n",
    "from datetime import datetime, timedelta\n",
    "import pandas as pd\n",
    "\n",
    "# Generate traces for each column\n",
    "traces = []\n",
    "trace_id_counter = 1\n",
    "\n",
    "for column in df.columns[5:]:  # Assuming the columns start from index 5\n",
    "    trace = {\n",
    "        \"trace_id\": str(trace_id_counter),\n",
    "        \"timestamp\": \"\",\n",
    "        \"C(0)/P(1)\": \"0\",\n",
    "        \"value\": None\n",
    "    }\n",
    "\n",
    "    # Extract timestamp from column header\n",
    "    interval = int(column)\n",
    "    hours = (interval - 1) // 4\n",
    "    minutes = (interval - 1) % 4 * 15\n",
    "\n",
    "# Set timestamp using values from the dataframe\n",
    "    day = int(df['Dia'][0])  # Assuming you want to get the value from the first row in the dataframe\n",
    "    month = int(df['Mes '][0])\n",
    "    year = int(df['AÃ±o'][0])\n",
    "    timestamp = datetime(year=year, month=month, day=day, hour=hours, minute=minutes)\n",
    "\n",
    "    # Set trace values\n",
    "    trace['timestamp'] = timestamp.strftime('%Y-%m-%dT%H:%M:%SZ')\n",
    "    trace['value'] = df[column][0]  # Assuming you want to get the value from the first row in the dataframe\n",
    "\n",
    "    traces.append(trace)\n",
    "    trace_id_counter += 1\n",
    "\n",
    "# Print the traces\n",
    "for trace in traces:\n",
    "    trace_json = json.dumps(trace)\n",
    "    print(trace_json)"
   ]
  },
  {
   "attachments": {},
   "cell_type": "markdown",
   "metadata": {},
   "source": [
    "Agregar cual audtiro lo envió"
   ]
  },
  {
   "attachments": {},
   "cell_type": "markdown",
   "metadata": {},
   "source": [
    "### Publisher MQtt"
   ]
  },
  {
   "attachments": {
    "image.png": {
     "image/png": "[encoded data removed]"
    }
   },
   "cell_type": "markdown",
   "metadata": {},
   "source": [
    "![image.png](attachment:image.png)"
   ]
  },
  {
   "cell_type": "code",
   "execution_count": 1,
   "metadata": {},
   "outputs": [],
   "source": [
    "import paho.mqtt.client as mqtt\n",
    "import random\n",
    "import json\n",
    "import time\n",
    "import ssl\n",
    "\n",
    "\n",
    "broker = 'cf1ce048.ala.us-east-1.emqxsl.com'\n",
    "port = 8883\n",
    "publish_topic = \"cripto_test\"\n",
    "subscribe_topic = \"cripto_test\"\n",
    "\n",
    "client_id = f'python-mqtt-{random.randint(0, 100)}'\n",
    "\n",
    "def connect_mqtt() -> mqtt.Client:\n",
    "    def on_connect(client, userdata, flags, rc):\n",
    "        if rc == 0:\n",
    "            print(\"Connected to MQTT Broker!\")\n",
    "        else:\n",
    "            print(\"Failed to connect, return code\", rc)\n",
    "\n",
    "    client = mqtt.Client(client_id)\n",
    "    client.on_connect = on_connect\n",
    "\n",
    "    client.username_pw_set(\"auditor_1\", \"poner_una_contraseña_muy_segura1\")\n",
    "    # Enable SSL/TLS\n",
    "    client.tls_set(ca_certs=\"C:\\\\Users\\\\Alfre\\\\Downloads\\\\emqxsl-ca.crt\", \n",
    "                tls_version=ssl.PROTOCOL_TLSv1_2)\n",
    "    #client.tls_insecure_set(True)  # Accept self-signed certificates without verification\n",
    "\n",
    "\n",
    "    # Set MQTT broker address and port\n",
    "    client.connect(broker, port)\n",
    "    return client\n",
    "\n",
    "def publish(client: mqtt.Client, data):\n",
    "    msg_count = 0\n",
    "    while True:\n",
    "        time.sleep(5)\n",
    "        msg = json.dumps(data[msg_count])\n",
    "        result = client.publish(publish_topic, msg)\n",
    "        status = result[0]\n",
    "        if status == mqtt.MQTT_ERR_SUCCESS:\n",
    "            print(f\"Published message {msg_count + 1} of {len(data)}\")\n",
    "        else:\n",
    "            print(f\"Failed to publish message {msg_count + 1}\")\n",
    "        msg_count += 1\n",
    "        if msg_count >= len(data):\n",
    "            break\n",
    "\n",
    "# Example traces data\n",
    "example_traces = [\n",
    "    {\"trace_id\": \"011\", \"timestamp\": \"2013-11-02T00:00:00Z\", \"C(0)/P(1)\": \"0\", \"value\": 58.0},\n",
    "    {\"trace_id\": \"012\", \"timestamp\": \"2013-11-02T00:15:00Z\", \"C(0)/P(1)\": \"0\", \"value\": 75.0},\n",
    "    {\"trace_id\": \"013\", \"timestamp\": \"2013-11-02T00:30:00Z\", \"C(0)/P(1)\": \"0\", \"value\": 65.0},\n",
    "    {\"trace_id\": \"014\", \"timestamp\": \"2013-11-02T00:45:00Z\", \"C(0)/P(1)\": \"0\", \"value\": 0.08},\n",
    "    {\"trace_id\": \"015\", \"timestamp\": \"2013-11-02T01:00:00Z\", \"C(0)/P(1)\": \"0\", \"value\": 67.0},\n",
    "    {\"trace_id\": \"016\", \"timestamp\": \"2013-11-02T01:15:00Z\", \"C(0)/P(1)\": \"0\", \"value\": 69.0},\n",
    "    {\"trace_id\": \"017\", \"timestamp\": \"2013-11-02T01:30:00Z\", \"C(0)/P(1)\": \"0\", \"value\": 0.07},\n",
    "    {\"trace_id\": \"018\", \"timestamp\": \"2013-11-02T01:45:00Z\", \"C(0)/P(1)\": \"0\", \"value\": 73.0},\n",
    "    {\"trace_id\": \"019\", \"timestamp\": \"2013-11-02T02:00:00Z\", \"C(0)/P(1)\": \"0\", \"value\": 68.0},\n",
    "    {\"trace_id\": \"0110\", \"timestamp\": \"2013-11-02T02:15:00Z\", \"C(0)/P(1)\": \"0\", \"value\": 0.06}\n",
    "]"
   ]
  },
  {
   "cell_type": "code",
   "execution_count": 2,
   "metadata": {},
   "outputs": [],
   "source": [
    "#recordemos que tenemos que encriptar las trazas para evitar que puedan ser vulneradas por el broker\n",
    "\n",
    "from cryptography.hazmat.primitives.ciphers import Cipher, algorithms, modes\n",
    "from cryptography.hazmat.backends import default_backend\n",
    "from cryptography.hazmat.primitives import padding\n",
    "import os\n",
    "\n",
    "\n",
    "# Generar una clave aleatoria\n",
    "key = b'0123456789ABCDEF0123456789ABCDEF'\n",
    "\n",
    "# Generar un IV único\n",
    "def generate_iv():\n",
    "    iv_length = 16  # Longitud del IV en bytes (para AES, se recomienda 16 bytes)\n",
    "    iv = os.urandom(iv_length)\n",
    "    return iv\n",
    "\n",
    "# Ejemplo de uso\n",
    "iv = generate_iv()\n",
    "#print(\"IV único:\", iv.hex())\n",
    "\n",
    "# Datos a cifrar\n",
    "data = b'\"trace_id\": \"011\", \"timestamp\": \"2013-11-02T00:00:00Z\", \"C(0)/P(1)\": \"0\", \"value\": 58.0'\n",
    "\n",
    "# Pad the data\n",
    "padder = padding.PKCS7(128).padder()\n",
    "padded_data = padder.update(data) + padder.finalize()\n",
    "\n",
    "# Crear un objeto Cipher\n",
    "cipher = Cipher(algorithms.AES(key), modes.CBC(iv), backend=default_backend())\n",
    "\n",
    "# Cifrar los datos\n",
    "encryptor = cipher.encryptor()\n",
    "ciphertext = encryptor.update(padded_data) + encryptor.finalize()\n"
   ]
  },
  {
   "cell_type": "code",
   "execution_count": 44,
   "metadata": {},
   "outputs": [],
   "source": [
    "# Descifrar los datos\n",
    "#decryptor = cipher.decryptor()\n",
    "#decrypted_data = decryptor.update(ciphertext) + decryptor.finalize()\n",
    "\n",
    "# Despad the data\n",
    "#unpadder = padding.PKCS7(128).unpadder()\n",
    "#unpadded_data = unpadder.update(decrypted_data) + unpadder.finalize()\n",
    "\n",
    "#print(\"Datos originales:\", data)\n",
    "#print(\"Datos descifrados:\", unpadded_data)"
   ]
  },
  {
   "cell_type": "code",
   "execution_count": 3,
   "metadata": {},
   "outputs": [],
   "source": [
    "from cryptography.hazmat.primitives.ciphers import Cipher, algorithms, modes\n",
    "from cryptography.hazmat.primitives import padding\n",
    "import os\n",
    "\n",
    "# Generate a unique IV for each trace\n",
    "def generate_iv():\n",
    "    iv_length = 16  # IV length in bytes (recommended 16 bytes for AES)\n",
    "    iv = os.urandom(iv_length)\n",
    "    return iv\n",
    "\n",
    "# Encrypt data using AES-CBC with a unique IV for each trace\n",
    "def encrypt_data(key, iv, data):\n",
    "    cipher = Cipher(algorithms.AES(key), modes.CBC(iv))\n",
    "    encryptor = cipher.encryptor()\n",
    "\n",
    "    # Pad the data\n",
    "    padder = padding.PKCS7(128).padder()\n",
    "    padded_data = padder.update(data) + padder.finalize()\n",
    "\n",
    "    # Encrypt the padded data\n",
    "    ciphertext = encryptor.update(padded_data) + encryptor.finalize()\n",
    "    return ciphertext\n",
    "\n",
    "# Example usage\n",
    "key = b'0123456789ABCDEF0123456789ABCDEF'\n",
    "\n",
    "# Original traces\n",
    "traces = [\n",
    "    b'\"trace_id\": \"011\", \"timestamp\": \"2013-11-02T00:00:00Z\", \"C(0)/P(1)\": \"0\", \"value\": 58.0',\n",
    "    b'\"trace_id\": \"012\", \"timestamp\": \"2013-11-02T00:15:00Z\", \"C(0)/P(1)\": \"0\", \"value\": 75.0',\n",
    "    b'\"trace_id\": \"013\", \"timestamp\": \"2013-11-02T00:30:00Z\", \"C(0)/P(1)\": \"0\", \"value\": 65.0',\n",
    "    b'\"trace_id\": \"014\", \"timestamp\": \"2013-11-02T00:45:00Z\", \"C(0)/P(1)\": \"0\", \"value\": 0.08',\n",
    "    b'\"trace_id\": \"015\", \"timestamp\": \"2013-11-02T01:00:00Z\", \"C(0)/P(1)\": \"0\", \"value\": 67.0',\n",
    "    b'\"trace_id\": \"016\", \"timestamp\": \"2013-11-02T01:15:00Z\", \"C(0)/P(1)\": \"0\", \"value\": 69.0',\n",
    "    b'\"trace_id\": \"017\", \"timestamp\": \"2013-11-02T01:30:00Z\", \"C(0)/P(1)\": \"0\", \"value\": 0.07',\n",
    "    b'\"trace_id\": \"018\", \"timestamp\": \"2013-11-02T01:45:00Z\", \"C(0)/P(1)\": \"0\", \"value\": 73.0',\n",
    "    b'\"trace_id\": \"019\", \"timestamp\": \"2013-11-02T02:00:00Z\", \"C(0)/P(1)\": \"0\", \"value\": 68.0',\n",
    "    b'\"trace_id\": \"0110\", \"timestamp\": \"2013-11-02T02:15:00Z\", \"C(0)/P(1)\": \"0\", \"value\": 0.06'\n",
    "]\n",
    "\n",
    "# Encrypt and store each trace individually\n",
    "encrypted_traces = []\n",
    "for trace in traces:\n",
    "    iv = generate_iv()\n",
    "    ciphertext = encrypt_data(key, iv, trace)\n",
    "    encrypted_trace = {\n",
    "        'encrypted_data': ciphertext.decode('latin-1'),\n",
    "        'iv': iv.decode('latin-1')\n",
    "    }\n",
    "    encrypted_traces.append(encrypted_trace)\n",
    "\n",
    "# Example output\n",
    "#for encrypted_trace in encrypted_traces:\n",
    "#    print(\"Encrypted Data:\", encrypted_trace['encrypted_data'])\n",
    "#    print(\"IV:\", encrypted_trace['iv'].hex())\n",
    "#    print()\n"
   ]
  },
  {
   "cell_type": "code",
   "execution_count": 4,
   "metadata": {},
   "outputs": [
    {
     "data": {
      "text/plain": [
       "[{'encrypted_data': \"*¾Óé\\x02t1n\\x1e)/³Ôè\\x15¢coü¿£\\x9fÎÙ%A\\rÛõÕ\\x80\\x12\\x06È|?Ï\\x15j¤,qpóÂ\\x896Ï÷\\x99Ë\\x144u\\x80\\x02¤\\x92ýµ¹\\\\ÔÔÒ\\\\ÃÏ£'á/í95±\\tå¢9+\\x05y\\x10ó\\x8b<QÚËú\\xa0\\x7fê1S\",\n",
       "  'iv': '\\x8e\\x1f\\x88!\\x82òGa\\x9e`\\x1eV\\x13\\x11lv'},\n",
       " {'encrypted_data': \"\\n¸\\x9d°[$¹\\x81ú^\\x00îÊ\\x85\\x16\\x8b¡%#\\x11÷¦\\x97\\xadÞê¨\\x8fhÖ¯\\x91«\\x02çý\\x0c'(\\x1f·\\x96Óx¿\\x02=r»Â\\x12Î6¸º\\x10¡\\x934\\\\o~à]ì\\x9a®\\x0e:/6\\x9de¿÷\\r\\xadì\\x01\\xad\\x07¤\\x10\\x02[\\x10rrË\\x02&I\\x8boÑ\\x9a\",\n",
       "  'iv': 'tßXx-:\\x0eo\\x7f©µd\\tÅ$\\x8f'},\n",
       " {'encrypted_data': 'A¥Ô×N\\x03ùÅ}\\x07Ö»\\x08\\x83Y¶ûÊ\\x01 ´ÀHë\\x12\\x97\\x9eZpL.æùPùE£6Eï\\x9f\\x87\\x93#5\\x1b\\x93R\\x16Ò\\x9aÓ\\x18\\x07âî\\x922\\xad«\\x86\\x00½ð\\x0bø,6\\x90±@òû0÷qµ\\r\\\\eZöý\\x85Sûh\\x87Wµ\\x8eÄ`£¡µ',\n",
       "  'iv': 'Þ÷ªfæbh\\rèÌ-\\x8bìn\\x0e\\n'},\n",
       " {'encrypted_data': '&E\\\\ðN.\\x13©LÒ\\x18`BV\\x19u\\x0b\\x89\\x80\\x94?çÂÒ\\x8cý%\\x9düÀñ\\x96\\x1b\\tFsæ^)WÉ(\\x9bØXóÑÒ\\x9e\\x92±\\x05õT1_\\x9f\\x92Åã?\\x98\\x1b\\r \\x87\\x81\\x85\\x8aÀI\\x7fBÃô%/«h\\x19\\x84ôíUêü4#\\x00+\\x91®\\x9e¥ô\\x9a',\n",
       "  'iv': ']ë~Õ¤\\x85#ZÄó%î®²\\x9a\\x83'},\n",
       " {'encrypted_data': 'ÝÓï\\x1fP\\x05\\x8e@-£ùt\\t\\x94\\x07dÿÀø;Â\\x16Öì¤qÆ\\\\\\x94\\x81\\x85-\\x1eewsødÛd\\x97Í¡æÇ\\x94²;¿TáhuÏ\\x06ÌÇ\\x9d\\x19´Àf=\\x90ù§·&Â\\x0f\\x17^ÛdÊ\\x0bN\\x97=±\\xa0Öçà#4tõ;½ÔùW\\x15Å÷',\n",
       "  'iv': '¥\\x04G\\x15|\\x1bEóäZ\\x17\\x83ÛÐ\\x11Ð'},\n",
       " {'encrypted_data': \"\\x15ÿ\\x1a¹\\x02Üg|\\x12§\\x1aª*°\\x93\\x94ß\\x98pÑ§Ô=s\\x17\\x19\\x1e'öÑGð\\x80^\\x04?\\x90ðfOYP6`Ù[Û^²D\\x9dç\\x05~òÞßó\\x8ae°\\x81Û\\x8c=bPRÎÀ*ðH«\\x12¹¨*\\x93h²ú.ÉíNc\\x1a_mA6_\\x0fµ\\x03\",\n",
       "  'iv': '\\xads@ÁÔf¨¡\\x16á¼ú½´Hl'},\n",
       " {'encrypted_data': '\\x812½´QA\\'\\x87=Ý\\x98ÊkÕM\\x18¢&\\x85qìÚ\\x15ý(£æ0Øê \\x07ÞLKÈr×ë\"®\\x02°k?6\\x12\\x9fÒNÚuAÞ\\\\\\x16Â~Àl\\x01Fa«\\x1fÂ)~\\x07T,:uø¿SÏ\\r9\\x08Ö\\x06k´H\\x0fï\\x9b<ªL(Ù\\x82\\x1bd',\n",
       "  'iv': '\\x1bÜÏL»\\x86ßÀFh\\x83\\x89P$\\x0c\\x05'},\n",
       " {'encrypted_data': '\\x9cÕÌ\\tvLyÜ\\x9ezu`\\x8e>=ôD²\\x94³H\\x94\\x99\\x96o[µIífR\\x00×o\\x1dn\\x160ü®=\\x95ò]»~\\x08²ìéª{|Ü¬Û8î\\x11(1\\x86L2õ³ôwQÒ\\x0bB\\x16\\x888Y\\x86£þ&º\\x1cÖ\\x04ë©\\x1eë¸\\x0c]~úAá·',\n",
       "  'iv': 'w\\x99}\\x9a²\\x9bÓò\\x04]fÏ\\x93*Âü'},\n",
       " {'encrypted_data': 'ì\\x94\\x90ðö\\x8f»WQSÔ\\x00q\\x01DK\\x02 ,ÚÅÐ\\x0b`I\\x08Çå\\x93è-\\x98\\x8a«cQâú\\xadó\\x86j\\x92ñÐ\\x9ek»&Ë)\\x95\\x08\\x91\\x85S_ë\\x86ë%U~]±Ý?ò\\\\*L\\x0f\\x01MQÑánUv\\x95ypÑ\\x9e\\x80)°\\x80â%Ëyï\\x8f\\x00',\n",
       "  'iv': '\\x9flô\\x91\\x80`\\x8fA\\x17·ÒpîI¿\\x0f'},\n",
       " {'encrypted_data': \"~u©h\\x84ûoÛ¡0;C\\x0fï\\x9e\\x99ÌA\\x1e\\x98ó\\x07\\x1a²\\x8cc\\x91è³\\x00õ\\x9b`½¥\\x08\\x92\\x07\\x01PD·qM*JR÷UuZ2c\\x9c\\x95Â\\x1cÏ\\x8d*\\x11\\r§\\x85ïxäÑjíU\\x9d\\x9dÿ\\x8c'k\\x0c¿\\x80,P\\x03R\\x1b\\x9aUÚ2gác~\\x1dX\\x14\",\n",
       "  'iv': 'ÃÉ\\x0cÝ¾ÉiÉÃésx©e\\x8eñ'}]"
      ]
     },
     "execution_count": 4,
     "metadata": {},
     "output_type": "execute_result"
    }
   ],
   "source": [
    "encrypted_traces"
   ]
  },
  {
   "cell_type": "code",
   "execution_count": 5,
   "metadata": {},
   "outputs": [
    {
     "data": {
      "text/plain": [
       "b\"~u\\xa9h\\x84\\xfbo\\xdb\\xa10;C\\x0f\\xef\\x9e\\x99\\xccA\\x1e\\x98\\xf3\\x07\\x1a\\xb2\\x8cc\\x91\\xe8\\xb3\\x00\\xf5\\x9b`\\xbd\\xa5\\x08\\x92\\x07\\x01PD\\xb7qM*JR\\xf7UuZ2c\\x9c\\x95\\xc2\\x1c\\xcf\\x8d*\\x11\\r\\xa7\\x85\\xefx\\xe4\\xd1j\\xedU\\x9d\\x9d\\xff\\x8c'k\\x0c\\xbf\\x80,P\\x03R\\x1b\\x9aU\\xda2g\\xe1c~\\x1dX\\x14\""
      ]
     },
     "execution_count": 5,
     "metadata": {},
     "output_type": "execute_result"
    }
   ],
   "source": [
    "ciphertext"
   ]
  },
  {
   "cell_type": "code",
   "execution_count": 6,
   "metadata": {},
   "outputs": [
    {
     "data": {
      "text/plain": [
       "\"~u©h\\x84ûoÛ¡0;C\\x0fï\\x9e\\x99ÌA\\x1e\\x98ó\\x07\\x1a²\\x8cc\\x91è³\\x00õ\\x9b`½¥\\x08\\x92\\x07\\x01PD·qM*JR÷UuZ2c\\x9c\\x95Â\\x1cÏ\\x8d*\\x11\\r§\\x85ïxäÑjíU\\x9d\\x9dÿ\\x8c'k\\x0c¿\\x80,P\\x03R\\x1b\\x9aUÚ2gác~\\x1dX\\x14\""
      ]
     },
     "execution_count": 6,
     "metadata": {},
     "output_type": "execute_result"
    }
   ],
   "source": [
    "#convert from bytes to string ciphertext\n",
    "ciphertext2 = ciphertext.decode('latin-1')\n",
    "ciphertext2\n",
    "#cnover from string to bytes\n",
    "\n",
    "#ciphertext = ciphertext.encode('utf-8')"
   ]
  },
  {
   "cell_type": "code",
   "execution_count": 7,
   "metadata": {},
   "outputs": [
    {
     "data": {
      "text/plain": [
       "b\"~u\\xa9h\\x84\\xfbo\\xdb\\xa10;C\\x0f\\xef\\x9e\\x99\\xccA\\x1e\\x98\\xf3\\x07\\x1a\\xb2\\x8cc\\x91\\xe8\\xb3\\x00\\xf5\\x9b`\\xbd\\xa5\\x08\\x92\\x07\\x01PD\\xb7qM*JR\\xf7UuZ2c\\x9c\\x95\\xc2\\x1c\\xcf\\x8d*\\x11\\r\\xa7\\x85\\xefx\\xe4\\xd1j\\xedU\\x9d\\x9d\\xff\\x8c'k\\x0c\\xbf\\x80,P\\x03R\\x1b\\x9aU\\xda2g\\xe1c~\\x1dX\\x14\""
      ]
     },
     "execution_count": 7,
     "metadata": {},
     "output_type": "execute_result"
    }
   ],
   "source": [
    "ciphertext3 = ciphertext2.encode('latin-1')\n",
    "ciphertext3"
   ]
  },
  {
   "cell_type": "code",
   "execution_count": 8,
   "metadata": {},
   "outputs": [
    {
     "data": {
      "text/plain": [
       "True"
      ]
     },
     "execution_count": 8,
     "metadata": {},
     "output_type": "execute_result"
    }
   ],
   "source": [
    "ciphertext3==ciphertext"
   ]
  },
  {
   "cell_type": "code",
   "execution_count": 9,
   "metadata": {},
   "outputs": [
    {
     "data": {
      "text/plain": [
       "[{'encrypted_data': \"*¾Óé\\x02t1n\\x1e)/³Ôè\\x15¢coü¿£\\x9fÎÙ%A\\rÛõÕ\\x80\\x12\\x06È|?Ï\\x15j¤,qpóÂ\\x896Ï÷\\x99Ë\\x144u\\x80\\x02¤\\x92ýµ¹\\\\ÔÔÒ\\\\ÃÏ£'á/í95±\\tå¢9+\\x05y\\x10ó\\x8b<QÚËú\\xa0\\x7fê1S\",\n",
       "  'iv': '\\x8e\\x1f\\x88!\\x82òGa\\x9e`\\x1eV\\x13\\x11lv'},\n",
       " {'encrypted_data': \"\\n¸\\x9d°[$¹\\x81ú^\\x00îÊ\\x85\\x16\\x8b¡%#\\x11÷¦\\x97\\xadÞê¨\\x8fhÖ¯\\x91«\\x02çý\\x0c'(\\x1f·\\x96Óx¿\\x02=r»Â\\x12Î6¸º\\x10¡\\x934\\\\o~à]ì\\x9a®\\x0e:/6\\x9de¿÷\\r\\xadì\\x01\\xad\\x07¤\\x10\\x02[\\x10rrË\\x02&I\\x8boÑ\\x9a\",\n",
       "  'iv': 'tßXx-:\\x0eo\\x7f©µd\\tÅ$\\x8f'},\n",
       " {'encrypted_data': 'A¥Ô×N\\x03ùÅ}\\x07Ö»\\x08\\x83Y¶ûÊ\\x01 ´ÀHë\\x12\\x97\\x9eZpL.æùPùE£6Eï\\x9f\\x87\\x93#5\\x1b\\x93R\\x16Ò\\x9aÓ\\x18\\x07âî\\x922\\xad«\\x86\\x00½ð\\x0bø,6\\x90±@òû0÷qµ\\r\\\\eZöý\\x85Sûh\\x87Wµ\\x8eÄ`£¡µ',\n",
       "  'iv': 'Þ÷ªfæbh\\rèÌ-\\x8bìn\\x0e\\n'},\n",
       " {'encrypted_data': '&E\\\\ðN.\\x13©LÒ\\x18`BV\\x19u\\x0b\\x89\\x80\\x94?çÂÒ\\x8cý%\\x9düÀñ\\x96\\x1b\\tFsæ^)WÉ(\\x9bØXóÑÒ\\x9e\\x92±\\x05õT1_\\x9f\\x92Åã?\\x98\\x1b\\r \\x87\\x81\\x85\\x8aÀI\\x7fBÃô%/«h\\x19\\x84ôíUêü4#\\x00+\\x91®\\x9e¥ô\\x9a',\n",
       "  'iv': ']ë~Õ¤\\x85#ZÄó%î®²\\x9a\\x83'},\n",
       " {'encrypted_data': 'ÝÓï\\x1fP\\x05\\x8e@-£ùt\\t\\x94\\x07dÿÀø;Â\\x16Öì¤qÆ\\\\\\x94\\x81\\x85-\\x1eewsødÛd\\x97Í¡æÇ\\x94²;¿TáhuÏ\\x06ÌÇ\\x9d\\x19´Àf=\\x90ù§·&Â\\x0f\\x17^ÛdÊ\\x0bN\\x97=±\\xa0Öçà#4tõ;½ÔùW\\x15Å÷',\n",
       "  'iv': '¥\\x04G\\x15|\\x1bEóäZ\\x17\\x83ÛÐ\\x11Ð'},\n",
       " {'encrypted_data': \"\\x15ÿ\\x1a¹\\x02Üg|\\x12§\\x1aª*°\\x93\\x94ß\\x98pÑ§Ô=s\\x17\\x19\\x1e'öÑGð\\x80^\\x04?\\x90ðfOYP6`Ù[Û^²D\\x9dç\\x05~òÞßó\\x8ae°\\x81Û\\x8c=bPRÎÀ*ðH«\\x12¹¨*\\x93h²ú.ÉíNc\\x1a_mA6_\\x0fµ\\x03\",\n",
       "  'iv': '\\xads@ÁÔf¨¡\\x16á¼ú½´Hl'},\n",
       " {'encrypted_data': '\\x812½´QA\\'\\x87=Ý\\x98ÊkÕM\\x18¢&\\x85qìÚ\\x15ý(£æ0Øê \\x07ÞLKÈr×ë\"®\\x02°k?6\\x12\\x9fÒNÚuAÞ\\\\\\x16Â~Àl\\x01Fa«\\x1fÂ)~\\x07T,:uø¿SÏ\\r9\\x08Ö\\x06k´H\\x0fï\\x9b<ªL(Ù\\x82\\x1bd',\n",
       "  'iv': '\\x1bÜÏL»\\x86ßÀFh\\x83\\x89P$\\x0c\\x05'},\n",
       " {'encrypted_data': '\\x9cÕÌ\\tvLyÜ\\x9ezu`\\x8e>=ôD²\\x94³H\\x94\\x99\\x96o[µIífR\\x00×o\\x1dn\\x160ü®=\\x95ò]»~\\x08²ìéª{|Ü¬Û8î\\x11(1\\x86L2õ³ôwQÒ\\x0bB\\x16\\x888Y\\x86£þ&º\\x1cÖ\\x04ë©\\x1eë¸\\x0c]~úAá·',\n",
       "  'iv': 'w\\x99}\\x9a²\\x9bÓò\\x04]fÏ\\x93*Âü'},\n",
       " {'encrypted_data': 'ì\\x94\\x90ðö\\x8f»WQSÔ\\x00q\\x01DK\\x02 ,ÚÅÐ\\x0b`I\\x08Çå\\x93è-\\x98\\x8a«cQâú\\xadó\\x86j\\x92ñÐ\\x9ek»&Ë)\\x95\\x08\\x91\\x85S_ë\\x86ë%U~]±Ý?ò\\\\*L\\x0f\\x01MQÑánUv\\x95ypÑ\\x9e\\x80)°\\x80â%Ëyï\\x8f\\x00',\n",
       "  'iv': '\\x9flô\\x91\\x80`\\x8fA\\x17·ÒpîI¿\\x0f'},\n",
       " {'encrypted_data': \"~u©h\\x84ûoÛ¡0;C\\x0fï\\x9e\\x99ÌA\\x1e\\x98ó\\x07\\x1a²\\x8cc\\x91è³\\x00õ\\x9b`½¥\\x08\\x92\\x07\\x01PD·qM*JR÷UuZ2c\\x9c\\x95Â\\x1cÏ\\x8d*\\x11\\r§\\x85ïxäÑjíU\\x9d\\x9dÿ\\x8c'k\\x0c¿\\x80,P\\x03R\\x1b\\x9aUÚ2gác~\\x1dX\\x14\",\n",
       "  'iv': 'ÃÉ\\x0cÝ¾ÉiÉÃésx©e\\x8eñ'}]"
      ]
     },
     "execution_count": 9,
     "metadata": {},
     "output_type": "execute_result"
    }
   ],
   "source": [
    "encrypted_traces"
   ]
  },
  {
   "attachments": {},
   "cell_type": "markdown",
   "metadata": {},
   "source": [
    "### ecdsa functions"
   ]
  },
  {
   "cell_type": "code",
   "execution_count": 10,
   "metadata": {},
   "outputs": [],
   "source": [
    "import hashlib\n",
    "from hmac import HMAC\n",
    "from hashlib import sha256\n",
    "\n",
    "Pcurve = 0xffffffff00000001000000000000000000000000ffffffffffffffffffffffff  # The proven prime\n",
    "N = 0xffffffff00000000ffffffffffffffffbce6faada7179e84f3b9cac2fc632551 # Number of points in the field\n",
    "Acurve = 0xffffffff00000001000000000000000000000000fffffffffffffffffffffffc\n",
    "Bcurve = 0x5ac635d8aa3a93e7b3ebbd55769886bc651d06b0cc53b0f63bce3c3e27d2604b  # This defines the curve. y^2 = x^3 + Acurve * x + Bcurve\n",
    "Gx = 0x6b17d1f2e12c4247f8bce6e563a440f277037d812deb33a0f4a13945d898c296\n",
    "Gy = 0x4fe342e2fe1a7f9b8ee7eb4a7c0f9e162bce33576b315ececbb6406837bf51f5\n",
    "GPoint = (Gx, Gy)  # This is our generator point. Tillions of dif ones possible\n",
    "\n",
    "# Individual Transaction/Personal Information\n",
    "privKey = 0xC9AFA9D845BA75166B5C215767B1D6934E50C3DB36E89B127B8A622B120F6721  # replace with any private key\n",
    "#RandNum = 28695618543805844332113829720373285210420739438570883203839696518176414791234  # replace with a truly random number\n",
    "message = 'sample'\n",
    "HashOfThingToSign = int(hashlib.sha256(message.encode()).hexdigest(), 16)\n",
    "\n",
    "\n",
    "\n",
    "def modinv(a, n=Pcurve):  # Extended Euclidean Algorithm/'division' in elliptic curves\n",
    "    lm, hm = 1, 0\n",
    "    low, high = a % n, n\n",
    "    while low > 1:\n",
    "        ratio = high // low  # Use integer division operator for Python 3.x\n",
    "        nm, new = hm - lm * ratio, high - low * ratio\n",
    "        lm, low, hm, high = nm, new, lm, low\n",
    "    return lm % n\n",
    "\n",
    "\n",
    "def ECadd(xp, yp, xq, yq):  # Not true addition, invented for EC. It adds Point-P with Point-Q.\n",
    "    m = ((yq - yp) * modinv(xq - xp, Pcurve)) % Pcurve\n",
    "    xr = (m * m - xp - xq) % Pcurve\n",
    "    yr = (m * (xp - xr) - yp) % Pcurve\n",
    "    return (xr, yr)\n",
    "\n",
    "\n",
    "def ECdouble(xp, yp):  # EC point doubling, invented for EC. It doubles Point-P.\n",
    "    LamNumer = 3 * xp * xp + Acurve\n",
    "    LamDenom = 2 * yp\n",
    "    Lam = (LamNumer * modinv(LamDenom, Pcurve)) % Pcurve\n",
    "    xr = (Lam * Lam - 2 * xp) % Pcurve\n",
    "    yr = (Lam * (xp - xr) - yp) % Pcurve\n",
    "    return (xr, yr)\n",
    "\n",
    "\n",
    "def EccMultiply(xs, ys, Scalar):  # Double & add. EC Multiplication, Not true multiplication\n",
    "    if Scalar == 0 or Scalar >= N:\n",
    "        raise Exception(\"Invalid Scalar/Private Key\")\n",
    "    ScalarBin = str(bin(Scalar))[2:]\n",
    "    Qx, Qy = xs, ys\n",
    "    for i in range(1, len(ScalarBin)):  # This is invented EC multiplication.\n",
    "        Qx, Qy = ECdouble(Qx, Qy)\n",
    "        if ScalarBin[i] == \"1\":\n",
    "            Qx, Qy = ECadd(Qx, Qy, xs, ys)\n",
    "    return (Qx, Qy)\n",
    "\n",
    "def deterministic_generate_k(msghash, privkey):\n",
    "    # Step 1: Prepare the key and message\n",
    "    V = b'\\x01' * 32\n",
    "    K = b'\\x00' * 32\n",
    "    privkey = privkey.to_bytes(32, 'big')\n",
    "    msghash = msghash.to_bytes(32, 'big')\n",
    "\n",
    "    # Step 2: Generate the K value\n",
    "    K = HMAC(K, V + b'\\x00' + privkey + msghash, sha256).digest()\n",
    "    V = HMAC(K, V, sha256).digest()\n",
    "    K = HMAC(K, V + b'\\x01' + privkey + msghash, sha256).digest()\n",
    "    V = HMAC(K, V, sha256).digest()\n",
    "\n",
    "    # Step 3: Convert the K value to an integer\n",
    "    while True:\n",
    "        t = b''\n",
    "        while len(t) < 32:\n",
    "            V = HMAC(K, V, sha256).digest()\n",
    "            t += V\n",
    "        k = int.from_bytes(t[:32], 'big')\n",
    "        if k >= 1 and k < N:\n",
    "            return k\n",
    "\n",
    "# ...\n",
    "\n",
    "def ECDSA_sign(message, privKey):\n",
    "    # Step 1: Generate the deterministic k value\n",
    "    HashOfThingToSign = int(hashlib.sha256(message.encode()).hexdigest(), 16)\n",
    "    k = deterministic_generate_k(HashOfThingToSign, privKey)\n",
    "\n",
    "    # Step 2: Compute the public key\n",
    "    xPublicKey, yPublicKey = EccMultiply(Gx, Gy, privKey)\n",
    "\n",
    "    # Step 3: Compute r\n",
    "    xRandSignPoint, yRandSignPoint = EccMultiply(Gx, Gy, k)\n",
    "    r = xRandSignPoint % N\n",
    "\n",
    "    # Step 4: Compute s\n",
    "    s = ((HashOfThingToSign + r * privKey) * (modinv(k, N))) % N\n",
    "\n",
    "    return r, s"
   ]
  },
  {
   "attachments": {},
   "cell_type": "markdown",
   "metadata": {},
   "source": [
    "### no ecdsa functions"
   ]
  },
  {
   "cell_type": "code",
   "execution_count": 11,
   "metadata": {},
   "outputs": [],
   "source": [
    "xPublicKey, yPublicKey = EccMultiply(Gx, Gy, privKey)\n",
    "\n",
    "# Encrypt and store each trace individually\n",
    "signed_encrypted_traces = []\n",
    "for trace in encrypted_traces:\n",
    "    r, s = ECDSA_sign(str(trace), privKey)\n",
    "    signed_encrypted_trace = {\n",
    "        'encrypted_data': trace['encrypted_data'],\n",
    "        'iv': trace['iv'],\n",
    "        'r': hex(r),\n",
    "        's': hex(s),\n",
    "    }\n",
    "    signed_encrypted_traces.append(signed_encrypted_trace)"
   ]
  },
  {
   "cell_type": "code",
   "execution_count": 12,
   "metadata": {},
   "outputs": [
    {
     "data": {
      "text/plain": [
       "[{'encrypted_data': \"*¾Óé\\x02t1n\\x1e)/³Ôè\\x15¢coü¿£\\x9fÎÙ%A\\rÛõÕ\\x80\\x12\\x06È|?Ï\\x15j¤,qpóÂ\\x896Ï÷\\x99Ë\\x144u\\x80\\x02¤\\x92ýµ¹\\\\ÔÔÒ\\\\ÃÏ£'á/í95±\\tå¢9+\\x05y\\x10ó\\x8b<QÚËú\\xa0\\x7fê1S\",\n",
       "  'iv': '\\x8e\\x1f\\x88!\\x82òGa\\x9e`\\x1eV\\x13\\x11lv',\n",
       "  'r': '0x5e43d3f6326149fd7ea4aa946b66e742f6f18e8797244839d0593d6b9b838424',\n",
       "  's': '0x66ffad681da4a744b12d56a671a156dcad016163fdf36fecde5f1465a56736b1'},\n",
       " {'encrypted_data': \"\\n¸\\x9d°[$¹\\x81ú^\\x00îÊ\\x85\\x16\\x8b¡%#\\x11÷¦\\x97\\xadÞê¨\\x8fhÖ¯\\x91«\\x02çý\\x0c'(\\x1f·\\x96Óx¿\\x02=r»Â\\x12Î6¸º\\x10¡\\x934\\\\o~à]ì\\x9a®\\x0e:/6\\x9de¿÷\\r\\xadì\\x01\\xad\\x07¤\\x10\\x02[\\x10rrË\\x02&I\\x8boÑ\\x9a\",\n",
       "  'iv': 'tßXx-:\\x0eo\\x7f©µd\\tÅ$\\x8f',\n",
       "  'r': '0xba05194c13926ce08f4c9db63521dac505412481a8c95d4b6b8db11edccca87a',\n",
       "  's': '0xbacc76f50737a4e8fce65f5162cd9e7582e5651e3e5db73e81ff78f0dc7f25c2'},\n",
       " {'encrypted_data': 'A¥Ô×N\\x03ùÅ}\\x07Ö»\\x08\\x83Y¶ûÊ\\x01 ´ÀHë\\x12\\x97\\x9eZpL.æùPùE£6Eï\\x9f\\x87\\x93#5\\x1b\\x93R\\x16Ò\\x9aÓ\\x18\\x07âî\\x922\\xad«\\x86\\x00½ð\\x0bø,6\\x90±@òû0÷qµ\\r\\\\eZöý\\x85Sûh\\x87Wµ\\x8eÄ`£¡µ',\n",
       "  'iv': 'Þ÷ªfæbh\\rèÌ-\\x8bìn\\x0e\\n',\n",
       "  'r': '0x1bec7570c85af62e0f8628315c489dd35a11be56379db7798be6f22215022ec6',\n",
       "  's': '0x86eae3089d5b28965ec8e49c0b77f40dea1374a8d90d851f158a3551a1c35cbb'},\n",
       " {'encrypted_data': '&E\\\\ðN.\\x13©LÒ\\x18`BV\\x19u\\x0b\\x89\\x80\\x94?çÂÒ\\x8cý%\\x9düÀñ\\x96\\x1b\\tFsæ^)WÉ(\\x9bØXóÑÒ\\x9e\\x92±\\x05õT1_\\x9f\\x92Åã?\\x98\\x1b\\r \\x87\\x81\\x85\\x8aÀI\\x7fBÃô%/«h\\x19\\x84ôíUêü4#\\x00+\\x91®\\x9e¥ô\\x9a',\n",
       "  'iv': ']ë~Õ¤\\x85#ZÄó%î®²\\x9a\\x83',\n",
       "  'r': '0x4d3f3a800ecc5d9679d8393fba526df47af1419a890c6974063b3ba80654845',\n",
       "  's': '0x6ffcdc9a0a13091bcd1dda1df4a81690c28a251f0b495dfdac31030165de37ac'},\n",
       " {'encrypted_data': 'ÝÓï\\x1fP\\x05\\x8e@-£ùt\\t\\x94\\x07dÿÀø;Â\\x16Öì¤qÆ\\\\\\x94\\x81\\x85-\\x1eewsødÛd\\x97Í¡æÇ\\x94²;¿TáhuÏ\\x06ÌÇ\\x9d\\x19´Àf=\\x90ù§·&Â\\x0f\\x17^ÛdÊ\\x0bN\\x97=±\\xa0Öçà#4tõ;½ÔùW\\x15Å÷',\n",
       "  'iv': '¥\\x04G\\x15|\\x1bEóäZ\\x17\\x83ÛÐ\\x11Ð',\n",
       "  'r': '0x1b38b95f47e318339c2cde43266d94e3e9323dd760f7b074e1e0d9e03555d5d2',\n",
       "  's': '0xae22c861f78b6aa0c528b96889b62d00149308ded8f5b3a7367cbfa3e4e16f07'},\n",
       " {'encrypted_data': \"\\x15ÿ\\x1a¹\\x02Üg|\\x12§\\x1aª*°\\x93\\x94ß\\x98pÑ§Ô=s\\x17\\x19\\x1e'öÑGð\\x80^\\x04?\\x90ðfOYP6`Ù[Û^²D\\x9dç\\x05~òÞßó\\x8ae°\\x81Û\\x8c=bPRÎÀ*ðH«\\x12¹¨*\\x93h²ú.ÉíNc\\x1a_mA6_\\x0fµ\\x03\",\n",
       "  'iv': '\\xads@ÁÔf¨¡\\x16á¼ú½´Hl',\n",
       "  'r': '0x2e5988397ecadf9ca2d7bfe7946ee52f9e6d5b5fc6559260eeeb29c5e8412695',\n",
       "  's': '0xadf0a84367c31b70f5bf35245b446b9f7bda3b8c5adf9da2dafa22f923c95c66'},\n",
       " {'encrypted_data': '\\x812½´QA\\'\\x87=Ý\\x98ÊkÕM\\x18¢&\\x85qìÚ\\x15ý(£æ0Øê \\x07ÞLKÈr×ë\"®\\x02°k?6\\x12\\x9fÒNÚuAÞ\\\\\\x16Â~Àl\\x01Fa«\\x1fÂ)~\\x07T,:uø¿SÏ\\r9\\x08Ö\\x06k´H\\x0fï\\x9b<ªL(Ù\\x82\\x1bd',\n",
       "  'iv': '\\x1bÜÏL»\\x86ßÀFh\\x83\\x89P$\\x0c\\x05',\n",
       "  'r': '0x1ce75ac49b48a55e9324e447da8b8c6e95b184f65322c949658e58d5981291e7',\n",
       "  's': '0xe636d4fd070963450c69d6b10ecc8a873661bbf16835f0b439f777f6504b1f47'},\n",
       " {'encrypted_data': '\\x9cÕÌ\\tvLyÜ\\x9ezu`\\x8e>=ôD²\\x94³H\\x94\\x99\\x96o[µIífR\\x00×o\\x1dn\\x160ü®=\\x95ò]»~\\x08²ìéª{|Ü¬Û8î\\x11(1\\x86L2õ³ôwQÒ\\x0bB\\x16\\x888Y\\x86£þ&º\\x1cÖ\\x04ë©\\x1eë¸\\x0c]~úAá·',\n",
       "  'iv': 'w\\x99}\\x9a²\\x9bÓò\\x04]fÏ\\x93*Âü',\n",
       "  'r': '0x5e12a0fbad3d087337ffb4691389912ab709beb97d25103861c0df3e0714997d',\n",
       "  's': '0x5b7a534d9ad385e8f682fb459c0dba83d19c7c1418a4662e1852969b91496c9c'},\n",
       " {'encrypted_data': 'ì\\x94\\x90ðö\\x8f»WQSÔ\\x00q\\x01DK\\x02 ,ÚÅÐ\\x0b`I\\x08Çå\\x93è-\\x98\\x8a«cQâú\\xadó\\x86j\\x92ñÐ\\x9ek»&Ë)\\x95\\x08\\x91\\x85S_ë\\x86ë%U~]±Ý?ò\\\\*L\\x0f\\x01MQÑánUv\\x95ypÑ\\x9e\\x80)°\\x80â%Ëyï\\x8f\\x00',\n",
       "  'iv': '\\x9flô\\x91\\x80`\\x8fA\\x17·ÒpîI¿\\x0f',\n",
       "  'r': '0x7be175c38590844e68c4bf9ef07860a6f32897fda232f1b1be073494227808d5',\n",
       "  's': '0x6d54a78ebacc8e1ba057032c30e06e7538f047b0234c534faddf5238ac30d06'},\n",
       " {'encrypted_data': \"~u©h\\x84ûoÛ¡0;C\\x0fï\\x9e\\x99ÌA\\x1e\\x98ó\\x07\\x1a²\\x8cc\\x91è³\\x00õ\\x9b`½¥\\x08\\x92\\x07\\x01PD·qM*JR÷UuZ2c\\x9c\\x95Â\\x1cÏ\\x8d*\\x11\\r§\\x85ïxäÑjíU\\x9d\\x9dÿ\\x8c'k\\x0c¿\\x80,P\\x03R\\x1b\\x9aUÚ2gác~\\x1dX\\x14\",\n",
       "  'iv': 'ÃÉ\\x0cÝ¾ÉiÉÃésx©e\\x8eñ',\n",
       "  'r': '0x38ade4d60992a04d2e296d7d85c8f5327bec0bec4b2b45e37509324bd055895b',\n",
       "  's': '0xe35d983147dd9f3d7663d94a3dc18c6b52255ebd8d07e1ac4c391f196cb8bcac'}]"
      ]
     },
     "execution_count": 12,
     "metadata": {},
     "output_type": "execute_result"
    }
   ],
   "source": [
    "signed_encrypted_traces"
   ]
  },
  {
   "cell_type": "code",
   "execution_count": 13,
   "metadata": {},
   "outputs": [
    {
     "data": {
      "text/plain": [
       "dict"
      ]
     },
     "execution_count": 13,
     "metadata": {},
     "output_type": "execute_result"
    }
   ],
   "source": [
    "#check type of data\n",
    "type(signed_encrypted_traces[0])"
   ]
  },
  {
   "attachments": {},
   "cell_type": "markdown",
   "metadata": {},
   "source": [
    "### not ecdsa"
   ]
  },
  {
   "cell_type": "code",
   "execution_count": 16,
   "metadata": {},
   "outputs": [
    {
     "name": "stdout",
     "output_type": "stream",
     "text": [
      "Connected to MQTT Broker!\n",
      "Published message 1 of 10\n",
      "Published message 2 of 10\n",
      "Published message 3 of 10\n",
      "Published message 4 of 10\n",
      "Published message 5 of 10\n",
      "Published message 6 of 10\n",
      "Published message 7 of 10\n",
      "Published message 8 of 10\n",
      "Published message 9 of 10\n",
      "Published message 10 of 10\n"
     ]
    },
    {
     "name": "stdout",
     "output_type": "stream",
     "text": [
      "Connected to MQTT Broker!\n",
      "Connected to MQTT Broker!\n",
      "Connected to MQTT Broker!\n",
      "Connected to MQTT Broker!\n",
      "Connected to MQTT Broker!\n",
      "Connected to MQTT Broker!\n"
     ]
    }
   ],
   "source": [
    "client = connect_mqtt()\n",
    "client.loop_start()\n",
    "\n",
    "# Publish example traces\n",
    "publish(client, signed_encrypted_traces)"
   ]
  }
 ],
 "metadata": {
  "kernelspec": {
   "display_name": "base",
   "language": "python",
   "name": "python3"
  },
  "language_info": {
   "codemirror_mode": {
    "name": "ipython",
    "version": 3
   },
   "file_extension": ".py",
   "mimetype": "text/x-python",
   "name": "python",
   "nbconvert_exporter": "python",
   "pygments_lexer": "ipython3",
   "version": "3.9.16"
  },
  "orig_nbformat": 4
 },
 "nbformat": 4,
 "nbformat_minor": 2
}
