{
 "cells": [
  {
   "cell_type": "code",
   "execution_count": null,
   "metadata": {},
   "outputs": [],
   "source": []
  },
  {
   "cell_type": "code",
   "execution_count": 1,
   "metadata": {},
   "outputs": [],
   "source": [
    "import hashlib\n",
    "import random\n",
    "\n",
    "def ecdsa_sign(message, domain_parameters, private_key):\n",
    "    q, FR, a, b, G, n, h = domain_parameters\n",
    "    d, Q = private_key\n",
    "    \n",
    "    while True:\n",
    "        k = random.randint(1, n-1)  # Step 1\n",
    "        x1, y1 = k * G  # Step 2\n",
    "        x1 = x1.x()  # Convert x1 to an integer\n",
    "        \n",
    "        r = x1 % n  # Step 3\n",
    "        if r == 0:\n",
    "            continue\n",
    "        \n",
    "        k_inv = pow(k, -1, n)  # Step 4\n",
    "        \n",
    "        message_hash = hashlib.sha1(message.encode()).digest()  # Step 5\n",
    "        e = int.from_bytes(message_hash, byteorder='big')  # Convert to integer\n",
    "        \n",
    "        s = (k_inv * (e + d*r)) % n  # Step 6\n",
    "        if s == 0:\n",
    "            continue\n",
    "        \n",
    "        signature = (r, s)  # Step 7\n",
    "        return signature"
   ]
  },
  {
   "cell_type": "code",
   "execution_count": 3,
   "metadata": {},
   "outputs": [
    {
     "ename": "OverflowError",
     "evalue": "cannot fit 'int' into an index-sized integer",
     "output_type": "error",
     "traceback": [
      "\u001b[1;31m---------------------------------------------------------------------------\u001b[0m",
      "\u001b[1;31mOverflowError\u001b[0m                             Traceback (most recent call last)",
      "\u001b[1;32mc:\\Users\\Alfre\\Escritorio\\vs_code\\cripto\\ecdsa_signature.ipynb Cell 3\u001b[0m in \u001b[0;36m5\n\u001b[0;32m      <a href='vscode-notebook-cell:/c%3A/Users/Alfre/Escritorio/vs_code/cripto/ecdsa_signature.ipynb#W2sZmlsZQ%3D%3D?line=1'>2</a>\u001b[0m private_key \u001b[39m=\u001b[39m (d, Q)  \u001b[39m# Replace with your actual private key\u001b[39;00m\n\u001b[0;32m      <a href='vscode-notebook-cell:/c%3A/Users/Alfre/Escritorio/vs_code/cripto/ecdsa_signature.ipynb#W2sZmlsZQ%3D%3D?line=3'>4</a>\u001b[0m message \u001b[39m=\u001b[39m \u001b[39m\"\u001b[39m\u001b[39mHello, world!\u001b[39m\u001b[39m\"\u001b[39m\n\u001b[1;32m----> <a href='vscode-notebook-cell:/c%3A/Users/Alfre/Escritorio/vs_code/cripto/ecdsa_signature.ipynb#W2sZmlsZQ%3D%3D?line=4'>5</a>\u001b[0m signature \u001b[39m=\u001b[39m ecdsa_sign(message, domain_parameters, private_key)\n\u001b[0;32m      <a href='vscode-notebook-cell:/c%3A/Users/Alfre/Escritorio/vs_code/cripto/ecdsa_signature.ipynb#W2sZmlsZQ%3D%3D?line=5'>6</a>\u001b[0m \u001b[39mprint\u001b[39m(\u001b[39m\"\u001b[39m\u001b[39mSignature:\u001b[39m\u001b[39m\"\u001b[39m, signature)\n",
      "\u001b[1;32mc:\\Users\\Alfre\\Escritorio\\vs_code\\cripto\\ecdsa_signature.ipynb Cell 3\u001b[0m in \u001b[0;36m1\n\u001b[0;32m      <a href='vscode-notebook-cell:/c%3A/Users/Alfre/Escritorio/vs_code/cripto/ecdsa_signature.ipynb#W2sZmlsZQ%3D%3D?line=7'>8</a>\u001b[0m \u001b[39mwhile\u001b[39;00m \u001b[39mTrue\u001b[39;00m:\n\u001b[0;32m      <a href='vscode-notebook-cell:/c%3A/Users/Alfre/Escritorio/vs_code/cripto/ecdsa_signature.ipynb#W2sZmlsZQ%3D%3D?line=8'>9</a>\u001b[0m     k \u001b[39m=\u001b[39m random\u001b[39m.\u001b[39mrandint(\u001b[39m1\u001b[39m, n\u001b[39m-\u001b[39m\u001b[39m1\u001b[39m)  \u001b[39m# Step 1\u001b[39;00m\n\u001b[1;32m---> <a href='vscode-notebook-cell:/c%3A/Users/Alfre/Escritorio/vs_code/cripto/ecdsa_signature.ipynb#W2sZmlsZQ%3D%3D?line=9'>10</a>\u001b[0m     x1, y1 \u001b[39m=\u001b[39m k \u001b[39m*\u001b[39;49m G  \u001b[39m# Step 2\u001b[39;00m\n\u001b[0;32m     <a href='vscode-notebook-cell:/c%3A/Users/Alfre/Escritorio/vs_code/cripto/ecdsa_signature.ipynb#W2sZmlsZQ%3D%3D?line=10'>11</a>\u001b[0m     x1 \u001b[39m=\u001b[39m x1\u001b[39m.\u001b[39mx()  \u001b[39m# Convert x1 to an integer\u001b[39;00m\n\u001b[0;32m     <a href='vscode-notebook-cell:/c%3A/Users/Alfre/Escritorio/vs_code/cripto/ecdsa_signature.ipynb#W2sZmlsZQ%3D%3D?line=12'>13</a>\u001b[0m     r \u001b[39m=\u001b[39m x1 \u001b[39m%\u001b[39m n  \u001b[39m# Step 3\u001b[39;00m\n",
      "\u001b[1;31mOverflowError\u001b[0m: cannot fit 'int' into an index-sized integer"
     ]
    }
   ],
   "source": [
    "domain_parameters = (q, FR, a, b, G, n, h)  # Replace with your actual domain parameters\n",
    "private_key = (d, Q)  # Replace with your actual private key\n",
    "\n",
    "message = \"Hello, world!\"\n",
    "signature = ecdsa_sign(message, domain_parameters, private_key)\n",
    "print(\"Signature:\", signature)"
   ]
  },
  {
   "cell_type": "code",
   "execution_count": 2,
   "metadata": {},
   "outputs": [],
   "source": [
    "q = 2**256 - 2**32 - 977  # Example prime number for the finite field\n",
    "FR = \"prime\"  # Field representation type\n",
    "\n",
    "a = 0xFFFFFFFF00000001000000000000000000000000FFFFFFFFFFFFFFFFFFFFFFFC  # Example coefficient a\n",
    "b = 0x5AC635D8AA3A93E7B3EBBD55769886BC651D06B0CC53B0F63BCE3C3E27D2604B  # Example coefficient b\n",
    "\n",
    "G = (0x6B17D1F2E12C4247F8BCE6E563A440F277037D812DEB33A0F4A13945D898C296,\n",
    "     0x4FE342E2FE1A7F9B8EE7EB4A7C0F9E162BCE33576B315ECECBB6406837BF51F5)  # Example base point\n",
    "\n",
    "n = 0xFFFFFFFF00000000FFFFFFFFFFFFFFFFBCE6FAADA7179E84F3B9CAC2FC632551  # Example order of G\n",
    "h = 1  # Example cofactor\n",
    "\n",
    "d = 0x1234567890ABCDEF1234567890ABCDEF1234567890ABCDEF1234567890ABCDEF  # Example private key\n",
    "Q = (0xFEDCBA0987654321FEDCBA0987654321FEDCBA0987654321FEDCBA098765432,\n",
    "     0x2468ACE02468ACE02468ACE02468ACE02468ACE02468ACE02468ACE02468ACE0)  # Example public key\n",
    "\n",
    "domain_parameters = (q, FR, a, b, G, n, h)\n",
    "private_key = (d, Q)"
   ]
  }
 ],
 "metadata": {
  "kernelspec": {
   "display_name": "base",
   "language": "python",
   "name": "python3"
  },
  "language_info": {
   "codemirror_mode": {
    "name": "ipython",
    "version": 3
   },
   "file_extension": ".py",
   "mimetype": "text/x-python",
   "name": "python",
   "nbconvert_exporter": "python",
   "pygments_lexer": "ipython3",
   "version": "3.9.16"
  },
  "orig_nbformat": 4
 },
 "nbformat": 4,
 "nbformat_minor": 2
}
